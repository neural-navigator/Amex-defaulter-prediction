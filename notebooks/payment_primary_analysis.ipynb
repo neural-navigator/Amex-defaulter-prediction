{
 "cells": [
  {
   "cell_type": "code",
   "execution_count": 1,
   "metadata": {
    "collapsed": true,
    "ExecuteTime": {
     "end_time": "2023-05-18T19:09:03.506300973Z",
     "start_time": "2023-05-18T19:09:02.727100014Z"
    }
   },
   "outputs": [],
   "source": [
    "import numpy as np\n",
    "import pandas as pd\n",
    "import ppscore as pps\n",
    "import matplotlib.pyplot as plt"
   ]
  },
  {
   "cell_type": "code",
   "execution_count": 2,
   "outputs": [
    {
     "name": "stdout",
     "output_type": "stream",
     "text": [
      "CPU times: user 3.35 s, sys: 408 ms, total: 3.75 s\n",
      "Wall time: 3.77 s\n"
     ]
    }
   ],
   "source": [
    "%%time\n",
    "df = pd.read_csv(\"../data/interim/seggregated/payments.csv\")\n",
    "labels = pd.read_csv(\"../data/raw/train_labels.csv\")"
   ],
   "metadata": {
    "collapsed": false,
    "ExecuteTime": {
     "end_time": "2023-05-18T19:10:02.503418133Z",
     "start_time": "2023-05-18T19:09:58.727481779Z"
    }
   }
  },
  {
   "cell_type": "code",
   "execution_count": 3,
   "outputs": [
    {
     "name": "stdout",
     "output_type": "stream",
     "text": [
      "CPU times: user 20 µs, sys: 0 ns, total: 20 µs\n",
      "Wall time: 22.4 µs\n"
     ]
    },
    {
     "data": {
      "text/plain": "((5531451, 4), (458913, 2))"
     },
     "execution_count": 3,
     "metadata": {},
     "output_type": "execute_result"
    }
   ],
   "source": [
    "%%time\n",
    "# checking shape of the dataframe\n",
    "df.shape, labels.shape"
   ],
   "metadata": {
    "collapsed": false,
    "ExecuteTime": {
     "end_time": "2023-05-18T19:10:08.221444852Z",
     "start_time": "2023-05-18T19:10:08.169956533Z"
    }
   }
  },
  {
   "cell_type": "code",
   "execution_count": 4,
   "outputs": [
    {
     "name": "stdout",
     "output_type": "stream",
     "text": [
      "CPU times: user 8 µs, sys: 5 µs, total: 13 µs\n",
      "Wall time: 16 µs\n"
     ]
    },
    {
     "data": {
      "text/plain": "Index(['customer_ID', 'P_2', 'P_3', 'P_4'], dtype='object')"
     },
     "execution_count": 4,
     "metadata": {},
     "output_type": "execute_result"
    }
   ],
   "source": [
    "%%time\n",
    "df.columns"
   ],
   "metadata": {
    "collapsed": false,
    "ExecuteTime": {
     "end_time": "2023-05-18T19:10:17.429690673Z",
     "start_time": "2023-05-18T19:10:17.411478807Z"
    }
   }
  },
  {
   "cell_type": "code",
   "execution_count": 5,
   "outputs": [
    {
     "name": "stdout",
     "output_type": "stream",
     "text": [
      "CPU times: user 4.86 ms, sys: 471 µs, total: 5.33 ms\n",
      "Wall time: 3.68 ms\n"
     ]
    }
   ],
   "source": [
    "%%time\n",
    "# Let's encode customer_ID for efficient memory management.\n",
    "labels['encoded_customerID'] = range(0, len(labels))"
   ],
   "metadata": {
    "collapsed": false,
    "ExecuteTime": {
     "end_time": "2023-05-18T19:14:14.867569507Z",
     "start_time": "2023-05-18T19:14:14.825057602Z"
    }
   }
  },
  {
   "cell_type": "code",
   "execution_count": 6,
   "outputs": [
    {
     "name": "stdout",
     "output_type": "stream",
     "text": [
      "CPU times: user 173 µs, sys: 95 µs, total: 268 µs\n",
      "Wall time: 246 µs\n"
     ]
    },
    {
     "data": {
      "text/plain": "                                         customer_ID  target  \\\n0  0000099d6bd597052cdcda90ffabf56573fe9d7c79be5f...       0   \n1  00000fd6641609c6ece5454664794f0340ad84dddce9a2...       0   \n2  00001b22f846c82c51f6e3958ccd81970162bae8b007e8...       0   \n3  000041bdba6ecadd89a52d11886e8eaaec9325906c9723...       0   \n4  00007889e4fcd2614b6cbe7f8f3d2e5c728eca32d9eb8a...       0   \n\n   encoded_customerID  \n0                   0  \n1                   1  \n2                   2  \n3                   3  \n4                   4  ",
      "text/html": "<div>\n<style scoped>\n    .dataframe tbody tr th:only-of-type {\n        vertical-align: middle;\n    }\n\n    .dataframe tbody tr th {\n        vertical-align: top;\n    }\n\n    .dataframe thead th {\n        text-align: right;\n    }\n</style>\n<table border=\"1\" class=\"dataframe\">\n  <thead>\n    <tr style=\"text-align: right;\">\n      <th></th>\n      <th>customer_ID</th>\n      <th>target</th>\n      <th>encoded_customerID</th>\n    </tr>\n  </thead>\n  <tbody>\n    <tr>\n      <th>0</th>\n      <td>0000099d6bd597052cdcda90ffabf56573fe9d7c79be5f...</td>\n      <td>0</td>\n      <td>0</td>\n    </tr>\n    <tr>\n      <th>1</th>\n      <td>00000fd6641609c6ece5454664794f0340ad84dddce9a2...</td>\n      <td>0</td>\n      <td>1</td>\n    </tr>\n    <tr>\n      <th>2</th>\n      <td>00001b22f846c82c51f6e3958ccd81970162bae8b007e8...</td>\n      <td>0</td>\n      <td>2</td>\n    </tr>\n    <tr>\n      <th>3</th>\n      <td>000041bdba6ecadd89a52d11886e8eaaec9325906c9723...</td>\n      <td>0</td>\n      <td>3</td>\n    </tr>\n    <tr>\n      <th>4</th>\n      <td>00007889e4fcd2614b6cbe7f8f3d2e5c728eca32d9eb8a...</td>\n      <td>0</td>\n      <td>4</td>\n    </tr>\n  </tbody>\n</table>\n</div>"
     },
     "execution_count": 6,
     "metadata": {},
     "output_type": "execute_result"
    }
   ],
   "source": [
    "%%time\n",
    "labels.head()"
   ],
   "metadata": {
    "collapsed": false,
    "ExecuteTime": {
     "end_time": "2023-05-18T19:14:22.925390882Z",
     "start_time": "2023-05-18T19:14:22.880765932Z"
    }
   }
  },
  {
   "cell_type": "code",
   "execution_count": 7,
   "outputs": [
    {
     "name": "stdout",
     "output_type": "stream",
     "text": [
      "CPU times: user 281 ms, sys: 32.2 ms, total: 313 ms\n",
      "Wall time: 311 ms\n"
     ]
    }
   ],
   "source": [
    "%%time\n",
    "custid_mapper = labels[['customer_ID', 'encoded_customerID']].set_index('customer_ID').to_dict()\n",
    "custid_mapper = custid_mapper['encoded_customerID']"
   ],
   "metadata": {
    "collapsed": false,
    "ExecuteTime": {
     "end_time": "2023-05-18T19:14:35.374355221Z",
     "start_time": "2023-05-18T19:14:35.061299293Z"
    }
   }
  },
  {
   "cell_type": "code",
   "execution_count": 8,
   "outputs": [
    {
     "name": "stdout",
     "output_type": "stream",
     "text": [
      "CPU times: user 552 ms, sys: 35.8 ms, total: 588 ms\n",
      "Wall time: 585 ms\n"
     ]
    }
   ],
   "source": [
    "%%time\n",
    "df['encoded_customerID'] = df['customer_ID'].map(custid_mapper)\n",
    "df = df.drop(['customer_ID'], axis=1)"
   ],
   "metadata": {
    "collapsed": false,
    "ExecuteTime": {
     "end_time": "2023-05-18T19:14:47.275364687Z",
     "start_time": "2023-05-18T19:14:46.697624920Z"
    }
   }
  },
  {
   "cell_type": "code",
   "execution_count": 9,
   "outputs": [
    {
     "name": "stdout",
     "output_type": "stream",
     "text": [
      "CPU times: user 390 ms, sys: 183 ms, total: 574 ms\n",
      "Wall time: 578 ms\n"
     ]
    }
   ],
   "source": [
    "%%time\n",
    "res_df = pd.merge(df, labels[['encoded_customerID', 'target']], on='encoded_customerID', how='left')"
   ],
   "metadata": {
    "collapsed": false,
    "ExecuteTime": {
     "end_time": "2023-05-18T19:14:55.325871002Z",
     "start_time": "2023-05-18T19:14:54.749251626Z"
    }
   }
  },
  {
   "cell_type": "code",
   "execution_count": 10,
   "outputs": [
    {
     "name": "stdout",
     "output_type": "stream",
     "text": [
      "<class 'pandas.core.frame.DataFrame'>\n",
      "RangeIndex: 5531451 entries, 0 to 5531450\n",
      "Data columns (total 4 columns):\n",
      " #   Column              Dtype  \n",
      "---  ------              -----  \n",
      " 0   P_2                 float64\n",
      " 1   P_3                 float64\n",
      " 2   P_4                 float64\n",
      " 3   encoded_customerID  int64  \n",
      "dtypes: float64(3), int64(1)\n",
      "memory usage: 168.8 MB\n",
      "CPU times: user 6.15 ms, sys: 1.01 ms, total: 7.16 ms\n",
      "Wall time: 6.44 ms\n"
     ]
    }
   ],
   "source": [
    "%%time\n",
    "df.info()"
   ],
   "metadata": {
    "collapsed": false,
    "ExecuteTime": {
     "end_time": "2023-05-18T19:15:04.551648204Z",
     "start_time": "2023-05-18T19:15:04.507308439Z"
    }
   }
  },
  {
   "cell_type": "code",
   "execution_count": 11,
   "outputs": [
    {
     "name": "stdout",
     "output_type": "stream",
     "text": [
      "CPU times: user 4 µs, sys: 0 ns, total: 4 µs\n",
      "Wall time: 5.48 µs\n"
     ]
    }
   ],
   "source": [
    "%%time\n",
    "# Column Profiling: data type, null percentage, describe (min, max, [5,25,50,75,95], mean, std, variance)\n",
    "\n",
    "def col_profiling(col_series):\n",
    "    res_dict = {'datatype': col_series.dtype,\n",
    "                'null_pct': col_series.isna().sum()*100/len(col_series),\n",
    "                'min_val': col_series.min(),\n",
    "                'max_val': col_series.max(),\n",
    "                'mean_val': col_series.mean(),\n",
    "                'std': col_series.std(),\n",
    "                'variance': col_series.std(),\n",
    "                '5_pct': col_series.quantile(q=0.05),\n",
    "                '25_pct': col_series.quantile(q=0.25),\n",
    "                '50_pct': col_series.quantile(q=0.5),\n",
    "                '75_pct': col_series.quantile(q=0.75),\n",
    "                '95_pct': col_series.quantile(q=0.95),\n",
    "                'pct_uniq': col_series.nunique() / len(col_series),\n",
    "                'num_unique': col_series.nunique()}\n",
    "    return res_dict"
   ],
   "metadata": {
    "collapsed": false,
    "ExecuteTime": {
     "end_time": "2023-05-18T19:15:17.259402299Z",
     "start_time": "2023-05-18T19:15:17.254281169Z"
    }
   }
  },
  {
   "cell_type": "code",
   "execution_count": 12,
   "outputs": [
    {
     "name": "stdout",
     "output_type": "stream",
     "text": [
      "CPU times: user 6.56 s, sys: 771 ms, total: 7.33 s\n",
      "Wall time: 7.35 s\n"
     ]
    }
   ],
   "source": [
    "%%time\n",
    "# Column Profiling on delinquency variables\n",
    "ls = []\n",
    "for item in res_df:\n",
    "    if res_df[item].dtype == np.float64 or res_df[item].dtype == np.int64:\n",
    "        res = col_profiling(res_df[item])\n",
    "        res['column_name'] = item\n",
    "        ls.append(res)\n",
    "    else:\n",
    "        print(f\"categorical column is {item}\")"
   ],
   "metadata": {
    "collapsed": false,
    "ExecuteTime": {
     "end_time": "2023-05-18T19:15:33.648799262Z",
     "start_time": "2023-05-18T19:15:26.249218097Z"
    }
   }
  },
  {
   "cell_type": "code",
   "execution_count": 13,
   "outputs": [
    {
     "name": "stdout",
     "output_type": "stream",
     "text": [
      "CPU times: user 1.37 ms, sys: 399 µs, total: 1.77 ms\n",
      "Wall time: 1.65 ms\n"
     ]
    }
   ],
   "source": [
    "%%time\n",
    "col_profile_df = pd.DataFrame(ls).set_index('column_name')"
   ],
   "metadata": {
    "collapsed": false,
    "ExecuteTime": {
     "end_time": "2023-05-18T19:15:40.341919950Z",
     "start_time": "2023-05-18T19:15:40.323046134Z"
    }
   }
  },
  {
   "cell_type": "code",
   "execution_count": 14,
   "outputs": [
    {
     "name": "stdout",
     "output_type": "stream",
     "text": [
      "CPU times: user 694 µs, sys: 201 µs, total: 895 µs\n",
      "Wall time: 846 µs\n"
     ]
    },
    {
     "data": {
      "text/plain": "          column_name datatype  null_pct       min_val        max_val  \\\n0                 P_2  float64  0.831337 -4.589548e-01       1.010000   \n1                 P_3  float64  5.450505 -1.519690e+00       2.428051   \n2                 P_4  float64  0.000000  2.668066e-09       1.269390   \n3  encoded_customerID    int64  0.000000  0.000000e+00  458912.000000   \n4              target    int64  0.000000  0.000000e+00       1.000000   \n\n        mean_val            std       variance         5_pct         25_pct  \\\n0       0.656334       0.244649       0.244649      0.221304       0.480331   \n1       0.601289       0.170799       0.170799      0.307036       0.540866   \n2       0.143927       0.338272       0.338272      0.000584       0.002924   \n3  229419.424355  132490.213791  132490.213791  22922.000000  114669.000000   \n4       0.249097       0.432490       0.432490      0.000000       0.000000   \n\n          50_pct         75_pct         95_pct      pct_uniq  num_unique  \n0       0.694295       0.864816       0.976297  9.916866e-01     5485466  \n1       0.618303       0.683826       0.831308  9.454950e-01     5229959  \n2       0.005849       0.008766       0.964281  1.000000e+00     5531451  \n3  229380.000000  344209.000000  435977.000000  8.296431e-02      458913  \n4       0.000000       0.000000       1.000000  3.615688e-07           2  ",
      "text/html": "<div>\n<style scoped>\n    .dataframe tbody tr th:only-of-type {\n        vertical-align: middle;\n    }\n\n    .dataframe tbody tr th {\n        vertical-align: top;\n    }\n\n    .dataframe thead th {\n        text-align: right;\n    }\n</style>\n<table border=\"1\" class=\"dataframe\">\n  <thead>\n    <tr style=\"text-align: right;\">\n      <th></th>\n      <th>column_name</th>\n      <th>datatype</th>\n      <th>null_pct</th>\n      <th>min_val</th>\n      <th>max_val</th>\n      <th>mean_val</th>\n      <th>std</th>\n      <th>variance</th>\n      <th>5_pct</th>\n      <th>25_pct</th>\n      <th>50_pct</th>\n      <th>75_pct</th>\n      <th>95_pct</th>\n      <th>pct_uniq</th>\n      <th>num_unique</th>\n    </tr>\n  </thead>\n  <tbody>\n    <tr>\n      <th>0</th>\n      <td>P_2</td>\n      <td>float64</td>\n      <td>0.831337</td>\n      <td>-4.589548e-01</td>\n      <td>1.010000</td>\n      <td>0.656334</td>\n      <td>0.244649</td>\n      <td>0.244649</td>\n      <td>0.221304</td>\n      <td>0.480331</td>\n      <td>0.694295</td>\n      <td>0.864816</td>\n      <td>0.976297</td>\n      <td>9.916866e-01</td>\n      <td>5485466</td>\n    </tr>\n    <tr>\n      <th>1</th>\n      <td>P_3</td>\n      <td>float64</td>\n      <td>5.450505</td>\n      <td>-1.519690e+00</td>\n      <td>2.428051</td>\n      <td>0.601289</td>\n      <td>0.170799</td>\n      <td>0.170799</td>\n      <td>0.307036</td>\n      <td>0.540866</td>\n      <td>0.618303</td>\n      <td>0.683826</td>\n      <td>0.831308</td>\n      <td>9.454950e-01</td>\n      <td>5229959</td>\n    </tr>\n    <tr>\n      <th>2</th>\n      <td>P_4</td>\n      <td>float64</td>\n      <td>0.000000</td>\n      <td>2.668066e-09</td>\n      <td>1.269390</td>\n      <td>0.143927</td>\n      <td>0.338272</td>\n      <td>0.338272</td>\n      <td>0.000584</td>\n      <td>0.002924</td>\n      <td>0.005849</td>\n      <td>0.008766</td>\n      <td>0.964281</td>\n      <td>1.000000e+00</td>\n      <td>5531451</td>\n    </tr>\n    <tr>\n      <th>3</th>\n      <td>encoded_customerID</td>\n      <td>int64</td>\n      <td>0.000000</td>\n      <td>0.000000e+00</td>\n      <td>458912.000000</td>\n      <td>229419.424355</td>\n      <td>132490.213791</td>\n      <td>132490.213791</td>\n      <td>22922.000000</td>\n      <td>114669.000000</td>\n      <td>229380.000000</td>\n      <td>344209.000000</td>\n      <td>435977.000000</td>\n      <td>8.296431e-02</td>\n      <td>458913</td>\n    </tr>\n    <tr>\n      <th>4</th>\n      <td>target</td>\n      <td>int64</td>\n      <td>0.000000</td>\n      <td>0.000000e+00</td>\n      <td>1.000000</td>\n      <td>0.249097</td>\n      <td>0.432490</td>\n      <td>0.432490</td>\n      <td>0.000000</td>\n      <td>0.000000</td>\n      <td>0.000000</td>\n      <td>0.000000</td>\n      <td>1.000000</td>\n      <td>3.615688e-07</td>\n      <td>2</td>\n    </tr>\n  </tbody>\n</table>\n</div>"
     },
     "execution_count": 14,
     "metadata": {},
     "output_type": "execute_result"
    }
   ],
   "source": [
    "%%time\n",
    "col_profile_df = col_profile_df.reset_index()\n",
    "col_profile_df"
   ],
   "metadata": {
    "collapsed": false,
    "ExecuteTime": {
     "end_time": "2023-05-18T19:15:47.091719534Z",
     "start_time": "2023-05-18T19:15:47.075156649Z"
    }
   }
  },
  {
   "cell_type": "code",
   "execution_count": 17,
   "outputs": [
    {
     "name": "stdout",
     "output_type": "stream",
     "text": [
      "CPU times: user 405 µs, sys: 112 µs, total: 517 µs\n",
      "Wall time: 515 µs\n"
     ]
    }
   ],
   "source": [
    "%%time\n",
    "all_uniq = col_profile_df.loc[col_profile_df['pct_uniq']==1, 'column_name'].values.tolist()"
   ],
   "metadata": {
    "collapsed": false,
    "ExecuteTime": {
     "end_time": "2023-05-18T19:16:59.653331036Z",
     "start_time": "2023-05-18T19:16:59.644587237Z"
    }
   }
  },
  {
   "cell_type": "code",
   "execution_count": 18,
   "outputs": [
    {
     "name": "stdout",
     "output_type": "stream",
     "text": [
      "CPU times: user 11.8 ms, sys: 16 ms, total: 27.8 ms\n",
      "Wall time: 27.3 ms\n"
     ]
    }
   ],
   "source": [
    "%%time\n",
    "all_uniq_df = df[all_uniq+['encoded_customerID']]"
   ],
   "metadata": {
    "collapsed": false,
    "ExecuteTime": {
     "end_time": "2023-05-18T19:17:01.918044347Z",
     "start_time": "2023-05-18T19:17:01.907172566Z"
    }
   }
  },
  {
   "cell_type": "code",
   "execution_count": 19,
   "outputs": [
    {
     "data": {
      "text/plain": "              P_4  encoded_customerID\n0        0.007554                   0\n1        0.004832                   0\n2        0.006561                   0\n3        0.009559                   0\n4        0.008156                   0\n...           ...                 ...\n5531446  0.003754              458912\n5531447  0.009763              458912\n5531448  0.005516              458912\n5531449  0.002678              458912\n5531450  0.007674              458912\n\n[5531451 rows x 2 columns]",
      "text/html": "<div>\n<style scoped>\n    .dataframe tbody tr th:only-of-type {\n        vertical-align: middle;\n    }\n\n    .dataframe tbody tr th {\n        vertical-align: top;\n    }\n\n    .dataframe thead th {\n        text-align: right;\n    }\n</style>\n<table border=\"1\" class=\"dataframe\">\n  <thead>\n    <tr style=\"text-align: right;\">\n      <th></th>\n      <th>P_4</th>\n      <th>encoded_customerID</th>\n    </tr>\n  </thead>\n  <tbody>\n    <tr>\n      <th>0</th>\n      <td>0.007554</td>\n      <td>0</td>\n    </tr>\n    <tr>\n      <th>1</th>\n      <td>0.004832</td>\n      <td>0</td>\n    </tr>\n    <tr>\n      <th>2</th>\n      <td>0.006561</td>\n      <td>0</td>\n    </tr>\n    <tr>\n      <th>3</th>\n      <td>0.009559</td>\n      <td>0</td>\n    </tr>\n    <tr>\n      <th>4</th>\n      <td>0.008156</td>\n      <td>0</td>\n    </tr>\n    <tr>\n      <th>...</th>\n      <td>...</td>\n      <td>...</td>\n    </tr>\n    <tr>\n      <th>5531446</th>\n      <td>0.003754</td>\n      <td>458912</td>\n    </tr>\n    <tr>\n      <th>5531447</th>\n      <td>0.009763</td>\n      <td>458912</td>\n    </tr>\n    <tr>\n      <th>5531448</th>\n      <td>0.005516</td>\n      <td>458912</td>\n    </tr>\n    <tr>\n      <th>5531449</th>\n      <td>0.002678</td>\n      <td>458912</td>\n    </tr>\n    <tr>\n      <th>5531450</th>\n      <td>0.007674</td>\n      <td>458912</td>\n    </tr>\n  </tbody>\n</table>\n<p>5531451 rows × 2 columns</p>\n</div>"
     },
     "execution_count": 19,
     "metadata": {},
     "output_type": "execute_result"
    }
   ],
   "source": [
    "all_uniq_df"
   ],
   "metadata": {
    "collapsed": false,
    "ExecuteTime": {
     "end_time": "2023-05-18T19:17:08.261615359Z",
     "start_time": "2023-05-18T19:17:08.220607213Z"
    }
   }
  },
  {
   "cell_type": "code",
   "execution_count": 20,
   "outputs": [
    {
     "name": "stdout",
     "output_type": "stream",
     "text": [
      "CPU times: user 1.16 s, sys: 102 ms, total: 1.26 s\n",
      "Wall time: 1.26 s\n"
     ]
    }
   ],
   "source": [
    "%%time\n",
    "res_df['target'] = res_df['target'].astype('category')\n",
    "lss = []\n",
    "for item in res_df:\n",
    "    if item in ['target', 'encoded_customerID']:\n",
    "        continue\n",
    "    else:\n",
    "        lss.append(pps.score(res_df, item, 'target'))"
   ],
   "metadata": {
    "collapsed": false,
    "ExecuteTime": {
     "end_time": "2023-05-18T19:17:24.973816292Z",
     "start_time": "2023-05-18T19:17:23.720274718Z"
    }
   }
  },
  {
   "cell_type": "code",
   "execution_count": 21,
   "outputs": [],
   "source": [
    "pps_score_result = pd.DataFrame(lss)"
   ],
   "metadata": {
    "collapsed": false,
    "ExecuteTime": {
     "end_time": "2023-05-18T19:17:32.111621066Z",
     "start_time": "2023-05-18T19:17:32.105316029Z"
    }
   }
  },
  {
   "cell_type": "code",
   "execution_count": 22,
   "outputs": [],
   "source": [
    "col_profile_df = pd.merge(col_profile_df, pps_score_result[['x', 'ppscore', 'baseline_score', 'model_score']], left_on='column_name', right_on='x',\n",
    "                          how='left')"
   ],
   "metadata": {
    "collapsed": false,
    "ExecuteTime": {
     "end_time": "2023-05-18T19:17:43.087663893Z",
     "start_time": "2023-05-18T19:17:43.050446517Z"
    }
   }
  },
  {
   "cell_type": "code",
   "execution_count": 23,
   "outputs": [],
   "source": [
    "col_profile_df['ppscore'] = np.round(col_profile_df['ppscore'], 2)"
   ],
   "metadata": {
    "collapsed": false,
    "ExecuteTime": {
     "end_time": "2023-05-18T19:17:50.664202546Z",
     "start_time": "2023-05-18T19:17:50.642403111Z"
    }
   }
  },
  {
   "cell_type": "code",
   "execution_count": 24,
   "outputs": [],
   "source": [
    "col_profile_df.to_csv(\"../data/metadata/column_profiling_payment.csv\", index=False)"
   ],
   "metadata": {
    "collapsed": false,
    "ExecuteTime": {
     "end_time": "2023-05-18T19:18:13.840331643Z",
     "start_time": "2023-05-18T19:18:13.819736675Z"
    }
   }
  },
  {
   "cell_type": "code",
   "execution_count": null,
   "outputs": [],
   "source": [],
   "metadata": {
    "collapsed": false
   }
  }
 ],
 "metadata": {
  "kernelspec": {
   "display_name": "Python 3",
   "language": "python",
   "name": "python3"
  },
  "language_info": {
   "codemirror_mode": {
    "name": "ipython",
    "version": 2
   },
   "file_extension": ".py",
   "mimetype": "text/x-python",
   "name": "python",
   "nbconvert_exporter": "python",
   "pygments_lexer": "ipython2",
   "version": "2.7.6"
  }
 },
 "nbformat": 4,
 "nbformat_minor": 0
}
