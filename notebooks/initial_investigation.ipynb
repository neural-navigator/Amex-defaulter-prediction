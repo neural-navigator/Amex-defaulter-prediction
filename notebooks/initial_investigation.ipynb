{
 "cells": [
  {
   "cell_type": "code",
   "execution_count": 1,
   "metadata": {
    "collapsed": true,
    "ExecuteTime": {
     "end_time": "2023-05-19T10:38:58.678769660Z",
     "start_time": "2023-05-19T10:38:57.766534944Z"
    }
   },
   "outputs": [],
   "source": [
    "import os\n",
    "import numpy as np\n",
    "import pandas as pd\n",
    "import ppscore as pps\n",
    "import time"
   ]
  },
  {
   "cell_type": "code",
   "execution_count": 2,
   "outputs": [
    {
     "name": "stdout",
     "output_type": "stream",
     "text": [
      "{'../data/raw/train_labels.csv': 29.322805404663086, '../data/raw/test_data.csv': 32257.8899641037, '../data/raw/sample_submission.csv': 59.07977104187012, '../data/raw/train_data.csv': 15633.853614807129}\n"
     ]
    }
   ],
   "source": [
    "list_files = [os.path.join(\"../data/raw\", i) for i in os.listdir(\"../data/raw\")]\n",
    "size_files = [os.stat(i).st_size/(1024*1024) for i in list_files]\n",
    "print(dict(zip(list_files, size_files)))"
   ],
   "metadata": {
    "collapsed": false,
    "ExecuteTime": {
     "end_time": "2023-05-19T10:38:58.684162641Z",
     "start_time": "2023-05-19T10:38:58.680971273Z"
    }
   }
  },
  {
   "cell_type": "code",
   "execution_count": 3,
   "outputs": [],
   "source": [
    "train_label_df = pd.read_csv(\"../data/raw/train_labels.csv\")"
   ],
   "metadata": {
    "collapsed": false,
    "ExecuteTime": {
     "end_time": "2023-05-19T10:38:59.095913417Z",
     "start_time": "2023-05-19T10:38:58.688157463Z"
    }
   }
  },
  {
   "cell_type": "code",
   "execution_count": 4,
   "outputs": [
    {
     "name": "stdout",
     "output_type": "stream",
     "text": [
      "CPU times: user 0 ns, sys: 2.47 ms, total: 2.47 ms\n",
      "Wall time: 1.76 ms\n"
     ]
    }
   ],
   "source": [
    "%%time\n",
    "# Let's encode customer_ID for efficient memory management.\n",
    "train_label_df['encoded_customerID'] = range(0, len(train_label_df))"
   ],
   "metadata": {
    "collapsed": false,
    "ExecuteTime": {
     "end_time": "2023-05-19T10:38:59.112102238Z",
     "start_time": "2023-05-19T10:38:59.098075436Z"
    }
   }
  },
  {
   "cell_type": "code",
   "execution_count": 5,
   "outputs": [
    {
     "name": "stdout",
     "output_type": "stream",
     "text": [
      "CPU times: user 273 ms, sys: 21.6 ms, total: 295 ms\n",
      "Wall time: 294 ms\n"
     ]
    }
   ],
   "source": [
    "%%time\n",
    "custid_mapper = train_label_df[['customer_ID', 'encoded_customerID']].set_index('customer_ID').to_dict()\n",
    "custid_mapper = custid_mapper['encoded_customerID']"
   ],
   "metadata": {
    "collapsed": false,
    "ExecuteTime": {
     "end_time": "2023-05-19T10:38:59.406314788Z",
     "start_time": "2023-05-19T10:38:59.112620950Z"
    }
   }
  },
  {
   "cell_type": "code",
   "execution_count": 6,
   "outputs": [
    {
     "data": {
      "text/plain": "0    0.741066\n1    0.258934\nName: target, dtype: float64"
     },
     "execution_count": 6,
     "metadata": {},
     "output_type": "execute_result"
    }
   ],
   "source": [
    "train_label_df['target'].value_counts(dropna=False, normalize=True)"
   ],
   "metadata": {
    "collapsed": false,
    "ExecuteTime": {
     "end_time": "2023-05-19T10:38:59.416914682Z",
     "start_time": "2023-05-19T10:38:59.412083243Z"
    }
   }
  },
  {
   "cell_type": "markdown",
   "source": [
    "The dataset contains aggregated profile features for each customer at each statement date. Features are anonymized and normalized, and fall into the following general categories:\n",
    "\n",
    "D_* = Delinquency variables\n",
    "S_* = Spend variables\n",
    "P_* = Payment variables\n",
    "B_* = Balance variables\n",
    "R_* = Risk variables\n",
    "with the following features being categorical:\n",
    "\n",
    "['B_30', 'B_38', 'D_114', 'D_116', 'D_117', 'D_120', 'D_126', 'D_63', 'D_64', 'D_66', 'D_68']\n",
    "Your task is to predict, for each customer_ID, the probability of a future payment default (target = 1).\n",
    "\n",
    "Note that the negative class has been subsampled for this dataset at 5%, and thus receives a 20x weighting in the scoring metric."
   ],
   "metadata": {
    "collapsed": false
   }
  },
  {
   "cell_type": "markdown",
   "source": [
    "## Data Seggregation"
   ],
   "metadata": {
    "collapsed": false
   }
  },
  {
   "cell_type": "code",
   "execution_count": 7,
   "outputs": [],
   "source": [
    "# Let's read top 10 records only, just to get the column names\n",
    "df_sample10 = pd.read_csv(\"../data/raw/train_data.csv\", nrows=10)\n",
    "target_col = pd.read_csv(\"../data/raw/train_labels.csv\")"
   ],
   "metadata": {
    "collapsed": false,
    "ExecuteTime": {
     "end_time": "2023-05-19T10:38:59.819921313Z",
     "start_time": "2023-05-19T10:38:59.416419795Z"
    }
   }
  },
  {
   "cell_type": "code",
   "execution_count": 8,
   "outputs": [],
   "source": [
    "all_columns = df_sample10.columns.tolist()\n",
    "index_col = 'customer_ID'\n",
    "delinquency_cols = [i for i in all_columns if i.startswith('D')]\n",
    "spend_cols = [i for i in all_columns if i.startswith('S')]\n",
    "payment_cols = [i for i in all_columns if i.startswith('P')]\n",
    "balance_cols = [i for i in all_columns if i.startswith('B')]\n",
    "risk_cols = [i for i in all_columns if i.startswith('R')]"
   ],
   "metadata": {
    "collapsed": false,
    "ExecuteTime": {
     "end_time": "2023-05-19T10:38:59.823724136Z",
     "start_time": "2023-05-19T10:38:59.821056680Z"
    }
   }
  },
  {
   "cell_type": "code",
   "execution_count": 9,
   "outputs": [
    {
     "name": "stdout",
     "output_type": "stream",
     "text": [
      "CPU times: user 2 µs, sys: 1 µs, total: 3 µs\n",
      "Wall time: 4.77 µs\n"
     ]
    }
   ],
   "source": [
    "%%time\n",
    "# Column Profiling: data type, null percentage, describe (min, max, [5,25,50,75,95], mean, std, variance)\n",
    "\n",
    "def col_profiling(dataframe, col_name):\n",
    "    res_dict = {\n",
    "        'column_name': col_name,\n",
    "        'datatype': dataframe[col_name].dtype,\n",
    "        'null_pct': dataframe[col_name].isna().sum()*100/len(dataframe),\n",
    "        'min_val': dataframe[col_name].min(),\n",
    "        'max_val': dataframe[col_name].max(),\n",
    "        'mean_val': dataframe[col_name].mean(),\n",
    "        'std': dataframe[col_name].std(),\n",
    "        'variance': dataframe[col_name].std(),\n",
    "        '5_pct': dataframe[col_name].quantile(q=0.05),\n",
    "        '25_pct': dataframe[col_name].quantile(q=0.25),\n",
    "        '50_pct': dataframe[col_name].quantile(q=0.5),\n",
    "        '75_pct': dataframe[col_name].quantile(q=0.75),\n",
    "        '95_pct': dataframe[col_name].quantile(q=0.95),\n",
    "        'num_uniq': dataframe[col_name].nunique()}\n",
    "    return res_dict"
   ],
   "metadata": {
    "collapsed": false,
    "ExecuteTime": {
     "end_time": "2023-05-19T10:38:59.831654420Z",
     "start_time": "2023-05-19T10:38:59.826214901Z"
    }
   }
  },
  {
   "cell_type": "code",
   "execution_count": 10,
   "outputs": [
    {
     "name": "stdout",
     "output_type": "stream",
     "text": [
      "CPU times: user 3 µs, sys: 0 ns, total: 3 µs\n",
      "Wall time: 3.58 µs\n"
     ]
    }
   ],
   "source": [
    "%%time\n",
    "def get_pps(dataframe, x_col, y_col='target'):\n",
    "    score = pps.score(dataframe, x_col, y_col)\n",
    "    keys = ['ppscore', 'baseline_score', 'model_score']\n",
    "    score = {k: v for k, v in score.items() if k in keys}\n",
    "    score['column_name'] = x_col\n",
    "    return score"
   ],
   "metadata": {
    "collapsed": false,
    "ExecuteTime": {
     "end_time": "2023-05-19T10:38:59.835057213Z",
     "start_time": "2023-05-19T10:38:59.832082191Z"
    }
   }
  },
  {
   "cell_type": "code",
   "execution_count": 16,
   "outputs": [
    {
     "name": "stdout",
     "output_type": "stream",
     "text": [
      "CPU times: user 4 µs, sys: 1e+03 ns, total: 5 µs\n",
      "Wall time: 6.68 µs\n"
     ]
    }
   ],
   "source": [
    "%%time\n",
    "def get_col_profile(dataframe):\n",
    "    prof_ls, pps_ls = [], []\n",
    "    for item in dataframe:\n",
    "        if dataframe[item].dtype == np.float64 or dataframe[item].dtype == np.int64:\n",
    "            profile = col_profiling(dataframe, item)\n",
    "            prof_ls.append(profile)\n",
    "        if item not in ['target', 'encoded_customerID']:\n",
    "            pps_score = get_pps(dataframe, item)\n",
    "            pps_ls.append(pps_score)\n",
    "    prof_df = pd.DataFrame(prof_ls)\n",
    "    pps_df = pd.DataFrame(pps_ls)\n",
    "    res_df = pd.merge(prof_df, pps_df, on='column_name', how='left')\n",
    "    return res_df"
   ],
   "metadata": {
    "collapsed": false,
    "ExecuteTime": {
     "end_time": "2023-05-19T10:53:14.731964315Z",
     "start_time": "2023-05-19T10:53:14.681439805Z"
    }
   }
  },
  {
   "cell_type": "code",
   "execution_count": null,
   "outputs": [],
   "source": [
    "%%time\n",
    "data_sep = {\"spend\": spend_cols, \"payments\": payment_cols, \"balance\": balance_cols, \"risk\": risk_cols, \"delinquency\": delinquency_cols}\n",
    "col_profile_ls = []\n",
    "start_time = time.time()\n",
    "for key, val in data_sep.items():\n",
    "    df = pd.read_csv(\"../data/raw/train_data.csv\", usecols=[index_col]+val)\n",
    "    df['encoded_customerID'] = df[index_col].map(custid_mapper)\n",
    "    df = df.drop(index_col, axis=1)\n",
    "    df2 = pd.merge(df, train_label_df[['encoded_customerID', 'target']], on='encoded_customerID', how='left')\n",
    "    read_time = time.time()\n",
    "    print(f\"{key} reading completed in {read_time - start_time}\")\n",
    "    profile_df = get_col_profile(df2)\n",
    "    col_profile_ls.append(profile_df)\n",
    "    prof_time = time.time()\n",
    "    print(f\"{key} profiling time is {prof_time - read_time}\")\n",
    "    print(\"total time taken \", prof_time - start_time)\n",
    "print(\"separated dataframe has been stored!\")"
   ],
   "metadata": {
    "collapsed": false,
    "is_executing": true,
    "ExecuteTime": {
     "start_time": "2023-05-19T10:53:24.283482673Z"
    }
   }
  },
  {
   "cell_type": "code",
   "execution_count": 13,
   "outputs": [
    {
     "ename": "TypeError",
     "evalue": "cannot concatenate object of type '<class 'tuple'>'; only Series and DataFrame objs are valid",
     "output_type": "error",
     "traceback": [
      "\u001B[0;31m---------------------------------------------------------------------------\u001B[0m",
      "\u001B[0;31mTypeError\u001B[0m                                 Traceback (most recent call last)",
      "Cell \u001B[0;32mIn[13], line 1\u001B[0m\n\u001B[0;32m----> 1\u001B[0m complete_profile_df \u001B[38;5;241m=\u001B[39m \u001B[43mpd\u001B[49m\u001B[38;5;241;43m.\u001B[39;49m\u001B[43mconcat\u001B[49m\u001B[43m(\u001B[49m\u001B[43mcol_profile_ls\u001B[49m\u001B[43m)\u001B[49m\n\u001B[1;32m      2\u001B[0m complete_profile_df\u001B[38;5;241m.\u001B[39mto_csv(\u001B[38;5;124m\"\u001B[39m\u001B[38;5;124m../data/metadata/column_profile.csv\u001B[39m\u001B[38;5;124m\"\u001B[39m)\n",
      "File \u001B[0;32m~/Workspace/learning/Amex-defaulter-prediction/.venv/lib/python3.10/site-packages/pandas/util/_decorators.py:331\u001B[0m, in \u001B[0;36mdeprecate_nonkeyword_arguments.<locals>.decorate.<locals>.wrapper\u001B[0;34m(*args, **kwargs)\u001B[0m\n\u001B[1;32m    325\u001B[0m \u001B[38;5;28;01mif\u001B[39;00m \u001B[38;5;28mlen\u001B[39m(args) \u001B[38;5;241m>\u001B[39m num_allow_args:\n\u001B[1;32m    326\u001B[0m     warnings\u001B[38;5;241m.\u001B[39mwarn(\n\u001B[1;32m    327\u001B[0m         msg\u001B[38;5;241m.\u001B[39mformat(arguments\u001B[38;5;241m=\u001B[39m_format_argument_list(allow_args)),\n\u001B[1;32m    328\u001B[0m         \u001B[38;5;167;01mFutureWarning\u001B[39;00m,\n\u001B[1;32m    329\u001B[0m         stacklevel\u001B[38;5;241m=\u001B[39mfind_stack_level(),\n\u001B[1;32m    330\u001B[0m     )\n\u001B[0;32m--> 331\u001B[0m \u001B[38;5;28;01mreturn\u001B[39;00m \u001B[43mfunc\u001B[49m\u001B[43m(\u001B[49m\u001B[38;5;241;43m*\u001B[39;49m\u001B[43margs\u001B[49m\u001B[43m,\u001B[49m\u001B[43m \u001B[49m\u001B[38;5;241;43m*\u001B[39;49m\u001B[38;5;241;43m*\u001B[39;49m\u001B[43mkwargs\u001B[49m\u001B[43m)\u001B[49m\n",
      "File \u001B[0;32m~/Workspace/learning/Amex-defaulter-prediction/.venv/lib/python3.10/site-packages/pandas/core/reshape/concat.py:368\u001B[0m, in \u001B[0;36mconcat\u001B[0;34m(objs, axis, join, ignore_index, keys, levels, names, verify_integrity, sort, copy)\u001B[0m\n\u001B[1;32m    146\u001B[0m \u001B[38;5;129m@deprecate_nonkeyword_arguments\u001B[39m(version\u001B[38;5;241m=\u001B[39m\u001B[38;5;28;01mNone\u001B[39;00m, allowed_args\u001B[38;5;241m=\u001B[39m[\u001B[38;5;124m\"\u001B[39m\u001B[38;5;124mobjs\u001B[39m\u001B[38;5;124m\"\u001B[39m])\n\u001B[1;32m    147\u001B[0m \u001B[38;5;28;01mdef\u001B[39;00m \u001B[38;5;21mconcat\u001B[39m(\n\u001B[1;32m    148\u001B[0m     objs: Iterable[NDFrame] \u001B[38;5;241m|\u001B[39m Mapping[HashableT, NDFrame],\n\u001B[0;32m   (...)\u001B[0m\n\u001B[1;32m    157\u001B[0m     copy: \u001B[38;5;28mbool\u001B[39m \u001B[38;5;241m=\u001B[39m \u001B[38;5;28;01mTrue\u001B[39;00m,\n\u001B[1;32m    158\u001B[0m ) \u001B[38;5;241m-\u001B[39m\u001B[38;5;241m>\u001B[39m DataFrame \u001B[38;5;241m|\u001B[39m Series:\n\u001B[1;32m    159\u001B[0m \u001B[38;5;250m    \u001B[39m\u001B[38;5;124;03m\"\"\"\u001B[39;00m\n\u001B[1;32m    160\u001B[0m \u001B[38;5;124;03m    Concatenate pandas objects along a particular axis.\u001B[39;00m\n\u001B[1;32m    161\u001B[0m \n\u001B[0;32m   (...)\u001B[0m\n\u001B[1;32m    366\u001B[0m \u001B[38;5;124;03m    1   3   4\u001B[39;00m\n\u001B[1;32m    367\u001B[0m \u001B[38;5;124;03m    \"\"\"\u001B[39;00m\n\u001B[0;32m--> 368\u001B[0m     op \u001B[38;5;241m=\u001B[39m \u001B[43m_Concatenator\u001B[49m\u001B[43m(\u001B[49m\n\u001B[1;32m    369\u001B[0m \u001B[43m        \u001B[49m\u001B[43mobjs\u001B[49m\u001B[43m,\u001B[49m\n\u001B[1;32m    370\u001B[0m \u001B[43m        \u001B[49m\u001B[43maxis\u001B[49m\u001B[38;5;241;43m=\u001B[39;49m\u001B[43maxis\u001B[49m\u001B[43m,\u001B[49m\n\u001B[1;32m    371\u001B[0m \u001B[43m        \u001B[49m\u001B[43mignore_index\u001B[49m\u001B[38;5;241;43m=\u001B[39;49m\u001B[43mignore_index\u001B[49m\u001B[43m,\u001B[49m\n\u001B[1;32m    372\u001B[0m \u001B[43m        \u001B[49m\u001B[43mjoin\u001B[49m\u001B[38;5;241;43m=\u001B[39;49m\u001B[43mjoin\u001B[49m\u001B[43m,\u001B[49m\n\u001B[1;32m    373\u001B[0m \u001B[43m        \u001B[49m\u001B[43mkeys\u001B[49m\u001B[38;5;241;43m=\u001B[39;49m\u001B[43mkeys\u001B[49m\u001B[43m,\u001B[49m\n\u001B[1;32m    374\u001B[0m \u001B[43m        \u001B[49m\u001B[43mlevels\u001B[49m\u001B[38;5;241;43m=\u001B[39;49m\u001B[43mlevels\u001B[49m\u001B[43m,\u001B[49m\n\u001B[1;32m    375\u001B[0m \u001B[43m        \u001B[49m\u001B[43mnames\u001B[49m\u001B[38;5;241;43m=\u001B[39;49m\u001B[43mnames\u001B[49m\u001B[43m,\u001B[49m\n\u001B[1;32m    376\u001B[0m \u001B[43m        \u001B[49m\u001B[43mverify_integrity\u001B[49m\u001B[38;5;241;43m=\u001B[39;49m\u001B[43mverify_integrity\u001B[49m\u001B[43m,\u001B[49m\n\u001B[1;32m    377\u001B[0m \u001B[43m        \u001B[49m\u001B[43mcopy\u001B[49m\u001B[38;5;241;43m=\u001B[39;49m\u001B[43mcopy\u001B[49m\u001B[43m,\u001B[49m\n\u001B[1;32m    378\u001B[0m \u001B[43m        \u001B[49m\u001B[43msort\u001B[49m\u001B[38;5;241;43m=\u001B[39;49m\u001B[43msort\u001B[49m\u001B[43m,\u001B[49m\n\u001B[1;32m    379\u001B[0m \u001B[43m    \u001B[49m\u001B[43m)\u001B[49m\n\u001B[1;32m    381\u001B[0m     \u001B[38;5;28;01mreturn\u001B[39;00m op\u001B[38;5;241m.\u001B[39mget_result()\n",
      "File \u001B[0;32m~/Workspace/learning/Amex-defaulter-prediction/.venv/lib/python3.10/site-packages/pandas/core/reshape/concat.py:458\u001B[0m, in \u001B[0;36m_Concatenator.__init__\u001B[0;34m(self, objs, axis, join, keys, levels, names, ignore_index, verify_integrity, copy, sort)\u001B[0m\n\u001B[1;32m    453\u001B[0m     \u001B[38;5;28;01mif\u001B[39;00m \u001B[38;5;129;01mnot\u001B[39;00m \u001B[38;5;28misinstance\u001B[39m(obj, (ABCSeries, ABCDataFrame)):\n\u001B[1;32m    454\u001B[0m         msg \u001B[38;5;241m=\u001B[39m (\n\u001B[1;32m    455\u001B[0m             \u001B[38;5;124mf\u001B[39m\u001B[38;5;124m\"\u001B[39m\u001B[38;5;124mcannot concatenate object of type \u001B[39m\u001B[38;5;124m'\u001B[39m\u001B[38;5;132;01m{\u001B[39;00m\u001B[38;5;28mtype\u001B[39m(obj)\u001B[38;5;132;01m}\u001B[39;00m\u001B[38;5;124m'\u001B[39m\u001B[38;5;124m; \u001B[39m\u001B[38;5;124m\"\u001B[39m\n\u001B[1;32m    456\u001B[0m             \u001B[38;5;124m\"\u001B[39m\u001B[38;5;124monly Series and DataFrame objs are valid\u001B[39m\u001B[38;5;124m\"\u001B[39m\n\u001B[1;32m    457\u001B[0m         )\n\u001B[0;32m--> 458\u001B[0m         \u001B[38;5;28;01mraise\u001B[39;00m \u001B[38;5;167;01mTypeError\u001B[39;00m(msg)\n\u001B[1;32m    460\u001B[0m     ndims\u001B[38;5;241m.\u001B[39madd(obj\u001B[38;5;241m.\u001B[39mndim)\n\u001B[1;32m    462\u001B[0m \u001B[38;5;66;03m# get the sample\u001B[39;00m\n\u001B[1;32m    463\u001B[0m \u001B[38;5;66;03m# want the highest ndim that we have, and must be non-empty\u001B[39;00m\n\u001B[1;32m    464\u001B[0m \u001B[38;5;66;03m# unless all objs are empty\u001B[39;00m\n",
      "\u001B[0;31mTypeError\u001B[0m: cannot concatenate object of type '<class 'tuple'>'; only Series and DataFrame objs are valid"
     ]
    }
   ],
   "source": [
    "complete_profile_df = pd.concat(col_profile_ls)\n",
    "complete_profile_df.to_csv(\"../data/metadata/column_profile.csv\")"
   ],
   "metadata": {
    "collapsed": false,
    "ExecuteTime": {
     "end_time": "2023-05-19T10:50:15.847387608Z",
     "start_time": "2023-05-19T10:50:14.320274783Z"
    }
   }
  },
  {
   "cell_type": "code",
   "execution_count": 15,
   "outputs": [
    {
     "data": {
      "text/plain": "(           column_name datatype   null_pct       min_val        max_val  \\\n 0                  S_3  float64  18.449843 -6.271320e-01       5.482888   \n 1                  S_5  float64   0.000000  8.168135e-09     206.875280   \n 2                  S_6  float64   0.000000  2.541465e-09       1.010000   \n 3                  S_7  float64  18.449843 -4.701318e-01       3.948271   \n 4                  S_8  float64   0.000000  6.187214e-09       1.231413   \n 5                  S_9  float64  53.035686  2.823498e-07       2.839635   \n 6                 S_11  float64   0.000000 -1.999987e-01       3.801432   \n 7                 S_12  float64   0.000000 -4.041090e-01     175.331420   \n 8                 S_13  float64   0.000000  3.655658e-09       1.010000   \n 9                 S_15  float64   0.000000 -2.999998e-01       5.308959   \n 10                S_16  float64   0.000000  5.083305e-09     231.758947   \n 11                S_17  float64   0.000000  1.019806e-09       4.049070   \n 12                S_18  float64   0.000000  4.075929e-11       1.010000   \n 13                S_19  float64   0.000000  3.156390e-09       1.004729   \n 14                S_20  float64   0.000000  6.887991e-10       1.010000   \n 15                S_22  float64   0.343924 -9.199816e+01       1.032727   \n 16                S_23  float64   0.008045 -2.060855e+02     885.334922   \n 17                S_24  float64   0.336132 -9.048382e+01       1.055638   \n 18                S_25  float64   0.232254 -2.453451e+00       4.052048   \n 19                S_26  float64   0.011462  5.137101e-09     136.665991   \n 20                S_27  float64  25.326718  4.417077e-10       5.456269   \n 21  encoded_customerID    int64   0.000000  0.000000e+00  458912.000000   \n 22              target    int64   0.000000  0.000000e+00       1.000000   \n \n          mean_val            std       variance         5_pct         25_pct  \\\n 0        0.225845       0.193347       0.193347      0.061843       0.127259   \n 1        0.088105       0.407405       0.407405      0.001201       0.005636   \n 2        0.244192       0.426600       0.426600      0.000657       0.003285   \n 3        0.223138       0.206303       0.206303      0.047377       0.093729   \n 4        0.327600       0.303089       0.303089      0.001531       0.007645   \n 5        0.074415       0.195998       0.195998      0.003740       0.009789   \n 6        0.375333       0.191010       0.191010      0.127044       0.282444   \n 7        0.240463       0.250719       0.250719      0.152052       0.186898   \n 8        0.254672       0.296670       0.296670      0.000978       0.004895   \n 9        0.374791       0.195098       0.195098      0.103444       0.207550   \n 10       0.050816       0.772487       0.772487      0.000512       0.002553   \n 11       0.039720       0.241023       0.241023      0.000537       0.002686   \n 12       0.031466       0.160546       0.160546      0.000512       0.002571   \n 13       0.005026       0.003069       0.003069      0.000499       0.002504   \n 14       0.017487       0.111088       0.111088      0.000506       0.002533   \n 15       0.779104       0.718747       0.718747      0.296049       0.811197   \n 16       0.179677       0.851958       0.851958      0.131187       0.133425   \n 17       0.734920       0.835673       0.835673      0.077353       0.809452   \n 18       0.925038       0.206805       0.206805      0.539935       0.970874   \n 19       0.066840       0.463808       0.463808      0.000691       0.003413   \n 20       0.277979       0.325033       0.325033      0.001272       0.006365   \n 21  229419.424355  132490.213791  132490.213791  22922.000000  114669.000000   \n 22       0.249097       0.432490       0.432490      0.000000       0.000000   \n \n            50_pct         75_pct         95_pct  num_uniq  ppscore  \\\n 0        0.163908       0.258102       0.606294   4510907      0.0   \n 1        0.013521       0.071321       0.364554   5531451      0.0   \n 2        0.006573       0.009859       1.007908   5531451      0.0   \n 3        0.139701       0.295459       0.630570   4510907      0.0   \n 4        0.321748       0.494937       0.860053   5531451      0.0   \n 5        0.019494       0.053228       0.309800   2597808      0.0   \n 6        0.289731       0.448762       0.728535   5531451      0.0   \n 7        0.190826       0.208876       0.504739   5531451      0.0   \n 8        0.009797       0.427720       0.850122   5531451      0.0   \n 9        0.401843       0.504834       0.607153   5531451      0.0   \n 10       0.005104       0.007657       0.009699   5531451      0.0   \n 11       0.005367       0.008050       0.084363   5531450      0.0   \n 12       0.005134       0.007701       0.009757   5531451      0.0   \n 13       0.005008       0.007511       0.009515   5531451      0.0   \n 14       0.005062       0.007592       0.009619   5531451      0.0   \n 15       0.942213       0.964773       0.988800   5512427      0.0   \n 16       0.136223       0.139017       0.531144   5531006      0.0   \n 17       0.949325       0.971576       0.991589   5512858      0.0   \n 18       0.973677       0.976482       0.978723   5518604      0.0   \n 19       0.006755       0.011033       0.287140   5530817      0.0   \n 20       0.290514       0.447796       0.676093   4130516      0.0   \n 21  229380.000000  344209.000000  435977.000000    458913      NaN   \n 22       0.000000       0.000000       1.000000         2      NaN   \n \n     baseline_score  model_score  \n 0           0.2854     0.340800  \n 1           0.2554     0.357800  \n 2           0.2554     0.371100  \n 3           0.2854     0.353600  \n 4           0.2554     0.342500  \n 5           0.2180     0.339900  \n 6           0.2554     0.372500  \n 7           0.2554     0.394467  \n 8           0.2554     0.363533  \n 9           0.2554     0.368900  \n 10          0.2554     0.365500  \n 11          0.2554     0.372067  \n 12          0.2554     0.376833  \n 13          0.2554     0.378267  \n 14          0.2554     0.367333  \n 15          0.2624     0.345300  \n 16          0.2454     0.319900  \n 17          0.2530     0.357200  \n 18          0.2386     0.323900  \n 19          0.2446     0.363600  \n 20          0.2760     0.367400  \n 21             NaN          NaN  \n 22             NaN          NaN  ,\n     ppscore  baseline_score  model_score column_name\n 0         0          0.2554     0.378235         S_2\n 1         0          0.2854     0.340800         S_3\n 2         0          0.2554     0.357800         S_5\n 3         0          0.2554     0.371100         S_6\n 4         0          0.2854     0.353600         S_7\n 5         0          0.2554     0.342500         S_8\n 6         0          0.2180     0.339900         S_9\n 7         0          0.2554     0.372500        S_11\n 8         0          0.2554     0.394467        S_12\n 9         0          0.2554     0.363533        S_13\n 10        0          0.2554     0.368900        S_15\n 11        0          0.2554     0.365500        S_16\n 12        0          0.2554     0.372067        S_17\n 13        0          0.2554     0.376833        S_18\n 14        0          0.2554     0.378267        S_19\n 15        0          0.2554     0.367333        S_20\n 16        0          0.2624     0.345300        S_22\n 17        0          0.2454     0.319900        S_23\n 18        0          0.2530     0.357200        S_24\n 19        0          0.2386     0.323900        S_25\n 20        0          0.2446     0.363600        S_26\n 21        0          0.2760     0.367400        S_27)"
     },
     "execution_count": 15,
     "metadata": {},
     "output_type": "execute_result"
    }
   ],
   "source": [
    "col_profile_ls[0]"
   ],
   "metadata": {
    "collapsed": false,
    "ExecuteTime": {
     "end_time": "2023-05-19T10:52:34.598173469Z",
     "start_time": "2023-05-19T10:52:34.550940729Z"
    }
   }
  },
  {
   "cell_type": "code",
   "execution_count": null,
   "outputs": [],
   "source": [],
   "metadata": {
    "collapsed": false
   }
  }
 ],
 "metadata": {
  "kernelspec": {
   "display_name": "Python 3",
   "language": "python",
   "name": "python3"
  },
  "language_info": {
   "codemirror_mode": {
    "name": "ipython",
    "version": 2
   },
   "file_extension": ".py",
   "mimetype": "text/x-python",
   "name": "python",
   "nbconvert_exporter": "python",
   "pygments_lexer": "ipython2",
   "version": "2.7.6"
  }
 },
 "nbformat": 4,
 "nbformat_minor": 0
}
