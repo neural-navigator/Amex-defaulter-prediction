{
 "cells": [
  {
   "cell_type": "code",
   "execution_count": 1,
   "metadata": {
    "collapsed": true,
    "ExecuteTime": {
     "end_time": "2023-05-16T19:24:10.121424374Z",
     "start_time": "2023-05-16T19:24:09.726180181Z"
    }
   },
   "outputs": [],
   "source": [
    "import os\n",
    "import numpy as np\n",
    "import pandas as pd"
   ]
  },
  {
   "cell_type": "markdown",
   "source": [
    "The dataset contains aggregated profile features for each customer at each statement date. Features are anonymized and normalized, and fall into the following general categories:\n",
    "\n",
    "D_* = Delinquency variables\n",
    "S_* = Spend variables\n",
    "P_* = Payment variables\n",
    "B_* = Balance variables\n",
    "R_* = Risk variables\n",
    "\n",
    "So the target for this notebook is separating each category and joining them with target variable and storing all the datasets in interim directory."
   ],
   "metadata": {
    "collapsed": false
   }
  },
  {
   "cell_type": "code",
   "execution_count": 2,
   "outputs": [],
   "source": [
    "# Let's read top 10 records only, just to get the column names\n",
    "df_sample10 = pd.read_csv(\"../data/raw/train_data.csv\", nrows=10)\n",
    "target_col = pd.read_csv(\"../data/raw/train_labels.csv\")"
   ],
   "metadata": {
    "collapsed": false,
    "ExecuteTime": {
     "end_time": "2023-05-16T19:24:10.574877701Z",
     "start_time": "2023-05-16T19:24:10.124998436Z"
    }
   }
  },
  {
   "cell_type": "code",
   "execution_count": 3,
   "outputs": [],
   "source": [
    "all_columns = df_sample10.columns.tolist()"
   ],
   "metadata": {
    "collapsed": false,
    "ExecuteTime": {
     "end_time": "2023-05-16T19:24:10.576481656Z",
     "start_time": "2023-05-16T19:24:10.575167257Z"
    }
   }
  },
  {
   "cell_type": "code",
   "execution_count": 4,
   "outputs": [],
   "source": [
    "index_col = 'customer_ID'\n",
    "delinquency_cols = [i for i in all_columns if i.startswith('D')]\n",
    "spend_cols = [i for i in all_columns if i.startswith('S')]\n",
    "payment_cols = [i for i in all_columns if i.startswith('P')]\n",
    "balance_cols = [i for i in all_columns if i.startswith('B')]\n",
    "risk_cols = [i for i in all_columns if i.startswith('R')]"
   ],
   "metadata": {
    "collapsed": false,
    "ExecuteTime": {
     "end_time": "2023-05-16T19:24:10.582034660Z",
     "start_time": "2023-05-16T19:24:10.575309325Z"
    }
   }
  },
  {
   "cell_type": "code",
   "execution_count": 5,
   "outputs": [
    {
     "name": "stdout",
     "output_type": "stream",
     "text": [
      "spend has been stored!\n",
      "payments has been stored!\n",
      "balance has been stored!\n",
      "risk has been stored!\n",
      "delinquency has been stored!\n",
      "separated dataframe has been stored!\n",
      "CPU times: user 16min 45s, sys: 1min 26s, total: 18min 12s\n",
      "Wall time: 18min 34s\n"
     ]
    }
   ],
   "source": [
    "%%time\n",
    "data_sep = {\"spend\": spend_cols, \"payments\": payment_cols, \"balance\": balance_cols, \"risk\": risk_cols, \"delinquency\": delinquency_cols}\n",
    "\n",
    "for key, val in data_sep.items():\n",
    "    df = pd.read_csv(\"../data/raw/train_data.csv\", index_col=index_col, usecols=[index_col]+val)\n",
    "    df.to_csv(f\"../data/interim/seggregated/{key}.csv\")\n",
    "    print(f\"{key} has been stored!\")\n",
    "\n",
    "print(\"separated dataframe has been stored!\")"
   ],
   "metadata": {
    "collapsed": false,
    "ExecuteTime": {
     "end_time": "2023-05-16T19:42:48.946865947Z",
     "start_time": "2023-05-16T19:24:14.589168723Z"
    }
   }
  },
  {
   "cell_type": "code",
   "execution_count": null,
   "outputs": [],
   "source": [],
   "metadata": {
    "collapsed": false
   }
  }
 ],
 "metadata": {
  "kernelspec": {
   "display_name": "Python 3",
   "language": "python",
   "name": "python3"
  },
  "language_info": {
   "codemirror_mode": {
    "name": "ipython",
    "version": 2
   },
   "file_extension": ".py",
   "mimetype": "text/x-python",
   "name": "python",
   "nbconvert_exporter": "python",
   "pygments_lexer": "ipython2",
   "version": "2.7.6"
  }
 },
 "nbformat": 4,
 "nbformat_minor": 0
}
