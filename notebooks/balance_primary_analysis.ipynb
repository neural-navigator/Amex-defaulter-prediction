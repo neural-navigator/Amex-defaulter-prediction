{
 "cells": [
  {
   "cell_type": "code",
   "execution_count": 1,
   "metadata": {
    "collapsed": true,
    "ExecuteTime": {
     "end_time": "2023-05-18T19:22:13.296488959Z",
     "start_time": "2023-05-18T19:22:02.266860322Z"
    }
   },
   "outputs": [],
   "source": [
    "import numpy as np\n",
    "import pandas as pd\n",
    "import ppscore as pps\n",
    "import matplotlib.pyplot as plt"
   ]
  },
  {
   "cell_type": "code",
   "execution_count": 3,
   "outputs": [
    {
     "name": "stdout",
     "output_type": "stream",
     "text": [
      "CPU times: user 26.7 s, sys: 9.42 s, total: 36.2 s\n",
      "Wall time: 36.8 s\n"
     ]
    }
   ],
   "source": [
    "%%time\n",
    "df = pd.read_csv(\"../data/interim/seggregated/balance.csv\")\n",
    "labels = pd.read_csv(\"../data/raw/train_labels.csv\")"
   ],
   "metadata": {
    "collapsed": false,
    "ExecuteTime": {
     "end_time": "2023-05-18T19:22:58.683041595Z",
     "start_time": "2023-05-18T19:22:21.876657582Z"
    }
   }
  },
  {
   "cell_type": "code",
   "execution_count": 4,
   "outputs": [
    {
     "name": "stdout",
     "output_type": "stream",
     "text": [
      "CPU times: user 30 µs, sys: 12 µs, total: 42 µs\n",
      "Wall time: 112 µs\n"
     ]
    },
    {
     "data": {
      "text/plain": "((5531451, 41), (458913, 2))"
     },
     "execution_count": 4,
     "metadata": {},
     "output_type": "execute_result"
    }
   ],
   "source": [
    "%%time\n",
    "# checking shape of the dataframe\n",
    "df.shape, labels.shape"
   ],
   "metadata": {
    "collapsed": false,
    "ExecuteTime": {
     "end_time": "2023-05-18T19:22:58.685172015Z",
     "start_time": "2023-05-18T19:22:58.679450342Z"
    }
   }
  },
  {
   "cell_type": "code",
   "execution_count": 5,
   "outputs": [
    {
     "name": "stdout",
     "output_type": "stream",
     "text": [
      "CPU times: user 5 µs, sys: 2 µs, total: 7 µs\n",
      "Wall time: 8.82 µs\n"
     ]
    },
    {
     "data": {
      "text/plain": "Index(['customer_ID', 'B_1', 'B_2', 'B_3', 'B_4', 'B_5', 'B_6', 'B_7', 'B_8',\n       'B_9', 'B_10', 'B_11', 'B_12', 'B_13', 'B_14', 'B_15', 'B_16', 'B_17',\n       'B_18', 'B_19', 'B_20', 'B_21', 'B_22', 'B_23', 'B_24', 'B_25', 'B_26',\n       'B_27', 'B_28', 'B_29', 'B_30', 'B_31', 'B_32', 'B_33', 'B_36', 'B_37',\n       'B_38', 'B_39', 'B_40', 'B_41', 'B_42'],\n      dtype='object')"
     },
     "execution_count": 5,
     "metadata": {},
     "output_type": "execute_result"
    }
   ],
   "source": [
    "%%time\n",
    "df.columns"
   ],
   "metadata": {
    "collapsed": false,
    "ExecuteTime": {
     "end_time": "2023-05-18T19:22:58.685523355Z",
     "start_time": "2023-05-18T19:22:58.680310918Z"
    }
   }
  },
  {
   "cell_type": "code",
   "execution_count": 6,
   "outputs": [
    {
     "name": "stdout",
     "output_type": "stream",
     "text": [
      "<class 'pandas.core.frame.DataFrame'>\n",
      "RangeIndex: 458913 entries, 0 to 458912\n",
      "Data columns (total 2 columns):\n",
      " #   Column       Non-Null Count   Dtype \n",
      "---  ------       --------------   ----- \n",
      " 0   customer_ID  458913 non-null  object\n",
      " 1   target       458913 non-null  int64 \n",
      "dtypes: int64(1), object(1)\n",
      "memory usage: 7.0+ MB\n",
      "CPU times: user 52.4 ms, sys: 0 ns, total: 52.4 ms\n",
      "Wall time: 54.7 ms\n"
     ]
    }
   ],
   "source": [
    "%%time\n",
    "labels.info()"
   ],
   "metadata": {
    "collapsed": false,
    "ExecuteTime": {
     "end_time": "2023-05-18T19:22:58.733076042Z",
     "start_time": "2023-05-18T19:22:58.706951750Z"
    }
   }
  },
  {
   "cell_type": "code",
   "execution_count": 7,
   "outputs": [
    {
     "name": "stdout",
     "output_type": "stream",
     "text": [
      "CPU times: user 2.48 ms, sys: 0 ns, total: 2.48 ms\n",
      "Wall time: 1.65 ms\n"
     ]
    }
   ],
   "source": [
    "%%time\n",
    "# Let's encode customer_ID for efficient memory management.\n",
    "labels['encoded_customerID'] = range(0, len(labels))"
   ],
   "metadata": {
    "collapsed": false,
    "ExecuteTime": {
     "end_time": "2023-05-18T19:22:58.733387647Z",
     "start_time": "2023-05-18T19:22:58.721411330Z"
    }
   }
  },
  {
   "cell_type": "code",
   "execution_count": 8,
   "outputs": [
    {
     "name": "stdout",
     "output_type": "stream",
     "text": [
      "CPU times: user 102 µs, sys: 42 µs, total: 144 µs\n",
      "Wall time: 165 µs\n"
     ]
    },
    {
     "data": {
      "text/plain": "                                         customer_ID  target  \\\n0  0000099d6bd597052cdcda90ffabf56573fe9d7c79be5f...       0   \n1  00000fd6641609c6ece5454664794f0340ad84dddce9a2...       0   \n2  00001b22f846c82c51f6e3958ccd81970162bae8b007e8...       0   \n3  000041bdba6ecadd89a52d11886e8eaaec9325906c9723...       0   \n4  00007889e4fcd2614b6cbe7f8f3d2e5c728eca32d9eb8a...       0   \n\n   encoded_customerID  \n0                   0  \n1                   1  \n2                   2  \n3                   3  \n4                   4  ",
      "text/html": "<div>\n<style scoped>\n    .dataframe tbody tr th:only-of-type {\n        vertical-align: middle;\n    }\n\n    .dataframe tbody tr th {\n        vertical-align: top;\n    }\n\n    .dataframe thead th {\n        text-align: right;\n    }\n</style>\n<table border=\"1\" class=\"dataframe\">\n  <thead>\n    <tr style=\"text-align: right;\">\n      <th></th>\n      <th>customer_ID</th>\n      <th>target</th>\n      <th>encoded_customerID</th>\n    </tr>\n  </thead>\n  <tbody>\n    <tr>\n      <th>0</th>\n      <td>0000099d6bd597052cdcda90ffabf56573fe9d7c79be5f...</td>\n      <td>0</td>\n      <td>0</td>\n    </tr>\n    <tr>\n      <th>1</th>\n      <td>00000fd6641609c6ece5454664794f0340ad84dddce9a2...</td>\n      <td>0</td>\n      <td>1</td>\n    </tr>\n    <tr>\n      <th>2</th>\n      <td>00001b22f846c82c51f6e3958ccd81970162bae8b007e8...</td>\n      <td>0</td>\n      <td>2</td>\n    </tr>\n    <tr>\n      <th>3</th>\n      <td>000041bdba6ecadd89a52d11886e8eaaec9325906c9723...</td>\n      <td>0</td>\n      <td>3</td>\n    </tr>\n    <tr>\n      <th>4</th>\n      <td>00007889e4fcd2614b6cbe7f8f3d2e5c728eca32d9eb8a...</td>\n      <td>0</td>\n      <td>4</td>\n    </tr>\n  </tbody>\n</table>\n</div>"
     },
     "execution_count": 8,
     "metadata": {},
     "output_type": "execute_result"
    }
   ],
   "source": [
    "%%time\n",
    "labels.head()"
   ],
   "metadata": {
    "collapsed": false,
    "ExecuteTime": {
     "end_time": "2023-05-18T19:23:01.471496309Z",
     "start_time": "2023-05-18T19:23:01.454967484Z"
    }
   }
  },
  {
   "cell_type": "code",
   "execution_count": 9,
   "outputs": [
    {
     "name": "stdout",
     "output_type": "stream",
     "text": [
      "CPU times: user 293 ms, sys: 2.49 ms, total: 296 ms\n",
      "Wall time: 305 ms\n"
     ]
    }
   ],
   "source": [
    "%%time\n",
    "custid_mapper = labels[['customer_ID', 'encoded_customerID']].set_index('customer_ID').to_dict()\n",
    "custid_mapper = custid_mapper['encoded_customerID']"
   ],
   "metadata": {
    "collapsed": false,
    "ExecuteTime": {
     "end_time": "2023-05-18T19:23:11.155002796Z",
     "start_time": "2023-05-18T19:23:10.852112871Z"
    }
   }
  },
  {
   "cell_type": "code",
   "execution_count": 10,
   "outputs": [
    {
     "name": "stdout",
     "output_type": "stream",
     "text": [
      "CPU times: user 755 ms, sys: 191 ms, total: 946 ms\n",
      "Wall time: 952 ms\n"
     ]
    }
   ],
   "source": [
    "%%time\n",
    "df['encoded_customerID'] = df['customer_ID'].map(custid_mapper)\n",
    "df = df.drop(['customer_ID'], axis=1)"
   ],
   "metadata": {
    "collapsed": false,
    "ExecuteTime": {
     "end_time": "2023-05-18T19:23:19.708446037Z",
     "start_time": "2023-05-18T19:23:18.772908681Z"
    }
   }
  },
  {
   "cell_type": "code",
   "execution_count": 11,
   "outputs": [
    {
     "name": "stdout",
     "output_type": "stream",
     "text": [
      "CPU times: user 1.13 s, sys: 662 ms, total: 1.79 s\n",
      "Wall time: 1.89 s\n"
     ]
    }
   ],
   "source": [
    "%%time\n",
    "res_df = pd.merge(df, labels[['encoded_customerID', 'target']], on='encoded_customerID', how='left')"
   ],
   "metadata": {
    "collapsed": false,
    "ExecuteTime": {
     "end_time": "2023-05-18T19:23:28.737765675Z",
     "start_time": "2023-05-18T19:23:26.851984054Z"
    }
   }
  },
  {
   "cell_type": "code",
   "execution_count": 12,
   "outputs": [
    {
     "name": "stdout",
     "output_type": "stream",
     "text": [
      "<class 'pandas.core.frame.DataFrame'>\n",
      "RangeIndex: 5531451 entries, 0 to 5531450\n",
      "Data columns (total 41 columns):\n",
      " #   Column              Dtype  \n",
      "---  ------              -----  \n",
      " 0   B_1                 float64\n",
      " 1   B_2                 float64\n",
      " 2   B_3                 float64\n",
      " 3   B_4                 float64\n",
      " 4   B_5                 float64\n",
      " 5   B_6                 float64\n",
      " 6   B_7                 float64\n",
      " 7   B_8                 float64\n",
      " 8   B_9                 float64\n",
      " 9   B_10                float64\n",
      " 10  B_11                float64\n",
      " 11  B_12                float64\n",
      " 12  B_13                float64\n",
      " 13  B_14                float64\n",
      " 14  B_15                float64\n",
      " 15  B_16                float64\n",
      " 16  B_17                float64\n",
      " 17  B_18                float64\n",
      " 18  B_19                float64\n",
      " 19  B_20                float64\n",
      " 20  B_21                float64\n",
      " 21  B_22                float64\n",
      " 22  B_23                float64\n",
      " 23  B_24                float64\n",
      " 24  B_25                float64\n",
      " 25  B_26                float64\n",
      " 26  B_27                float64\n",
      " 27  B_28                float64\n",
      " 28  B_29                float64\n",
      " 29  B_30                float64\n",
      " 30  B_31                int64  \n",
      " 31  B_32                float64\n",
      " 32  B_33                float64\n",
      " 33  B_36                float64\n",
      " 34  B_37                float64\n",
      " 35  B_38                float64\n",
      " 36  B_39                float64\n",
      " 37  B_40                float64\n",
      " 38  B_41                float64\n",
      " 39  B_42                float64\n",
      " 40  encoded_customerID  int64  \n",
      "dtypes: float64(39), int64(2)\n",
      "memory usage: 1.7 GB\n",
      "CPU times: user 4.35 ms, sys: 149 µs, total: 4.49 ms\n",
      "Wall time: 4.45 ms\n"
     ]
    }
   ],
   "source": [
    "%%time\n",
    "df.info()"
   ],
   "metadata": {
    "collapsed": false,
    "ExecuteTime": {
     "end_time": "2023-05-18T19:23:34.953261526Z",
     "start_time": "2023-05-18T19:23:34.912577781Z"
    }
   }
  },
  {
   "cell_type": "code",
   "execution_count": 13,
   "outputs": [
    {
     "name": "stdout",
     "output_type": "stream",
     "text": [
      "CPU times: user 56.6 ms, sys: 2.57 ms, total: 59.1 ms\n",
      "Wall time: 57.4 ms\n"
     ]
    },
    {
     "data": {
      "text/plain": "5072538"
     },
     "execution_count": 13,
     "metadata": {},
     "output_type": "execute_result"
    }
   ],
   "source": [
    "%%time\n",
    "res_df['encoded_customerID'].duplicated().sum()"
   ],
   "metadata": {
    "collapsed": false,
    "ExecuteTime": {
     "end_time": "2023-05-18T19:23:45.701903043Z",
     "start_time": "2023-05-18T19:23:45.636286257Z"
    }
   }
  },
  {
   "cell_type": "code",
   "execution_count": 14,
   "outputs": [
    {
     "name": "stdout",
     "output_type": "stream",
     "text": [
      "CPU times: user 3 µs, sys: 1 µs, total: 4 µs\n",
      "Wall time: 7.15 µs\n"
     ]
    }
   ],
   "source": [
    "%%time\n",
    "# Column Profiling: data type, null percentage, describe (min, max, [5,25,50,75,95], mean, std, variance)\n",
    "\n",
    "def col_profiling(col_series):\n",
    "    res_dict = {'datatype': col_series.dtype,\n",
    "                'null_pct': col_series.isna().sum()*100/len(col_series),\n",
    "                'min_val': col_series.min(),\n",
    "                'max_val': col_series.max(),\n",
    "                'mean_val': col_series.mean(),\n",
    "                'std': col_series.std(),\n",
    "                'variance': col_series.std(),\n",
    "                '5_pct': col_series.quantile(q=0.05),\n",
    "                '25_pct': col_series.quantile(q=0.25),\n",
    "                '50_pct': col_series.quantile(q=0.5),\n",
    "                '75_pct': col_series.quantile(q=0.75),\n",
    "                '95_pct': col_series.quantile(q=0.95),\n",
    "                'pct_uniq': col_series.nunique() / len(col_series),\n",
    "                'num_unique': col_series.nunique()}\n",
    "    return res_dict"
   ],
   "metadata": {
    "collapsed": false,
    "ExecuteTime": {
     "end_time": "2023-05-18T19:23:54.695899910Z",
     "start_time": "2023-05-18T19:23:54.674820005Z"
    }
   }
  },
  {
   "cell_type": "code",
   "execution_count": 15,
   "outputs": [
    {
     "name": "stdout",
     "output_type": "stream",
     "text": [
      "CPU times: user 1min 13s, sys: 38.7 ms, total: 1min 13s\n",
      "Wall time: 1min 13s\n"
     ]
    }
   ],
   "source": [
    "%%time\n",
    "# Column Profiling on delinquency variables\n",
    "ls = []\n",
    "for item in res_df:\n",
    "    if res_df[item].dtype == np.float64 or res_df[item].dtype == np.int64:\n",
    "        res = col_profiling(res_df[item])\n",
    "        res['column_name'] = item\n",
    "        ls.append(res)\n",
    "    else:\n",
    "        print(f\"categorical column is {item}\")"
   ],
   "metadata": {
    "collapsed": false,
    "ExecuteTime": {
     "end_time": "2023-05-18T19:25:22.080460724Z",
     "start_time": "2023-05-18T19:24:08.533719320Z"
    }
   }
  },
  {
   "cell_type": "code",
   "execution_count": 16,
   "outputs": [
    {
     "name": "stdout",
     "output_type": "stream",
     "text": [
      "CPU times: user 2.21 ms, sys: 310 µs, total: 2.52 ms\n",
      "Wall time: 8.41 ms\n"
     ]
    }
   ],
   "source": [
    "%%time\n",
    "col_profile_df = pd.DataFrame(ls).set_index('column_name')"
   ],
   "metadata": {
    "collapsed": false,
    "ExecuteTime": {
     "end_time": "2023-05-18T19:25:22.081017549Z",
     "start_time": "2023-05-18T19:25:22.074460324Z"
    }
   }
  },
  {
   "cell_type": "code",
   "execution_count": 17,
   "outputs": [
    {
     "name": "stdout",
     "output_type": "stream",
     "text": [
      "CPU times: user 176 µs, sys: 364 µs, total: 540 µs\n",
      "Wall time: 461 µs\n"
     ]
    },
    {
     "data": {
      "text/plain": "           column_name datatype   null_pct       min_val        max_val  \\\n0                  B_1  float64   0.000000 -7.588799e+00       1.324060   \n1                  B_2  float64   0.036446  9.192280e-09       1.010000   \n2                  B_3  float64   0.036446  6.285293e-09       1.625262   \n3                  B_4  float64   0.000000  3.099332e-09      19.803286   \n4                  B_5  float64   0.000000  2.804822e-11     144.207023   \n5                  B_6  float64   0.004212 -5.178168e-03    1214.516926   \n6                  B_7  float64   0.000000 -2.652748e+00       1.252750   \n7                  B_8  float64   0.402571  1.153704e-08       1.019079   \n8                  B_9  float64   0.000000  6.726070e-09      27.424859   \n9                 B_10  float64   0.000000 -2.958481e-03    4097.440729   \n10                B_11  float64   0.000000  2.017814e-08       1.970375   \n11                B_12  float64   0.000000  3.343624e-08     420.748993   \n12                B_13  float64   0.895226  1.905850e-08     276.177824   \n13                B_14  float64   0.000000 -8.469854e+00      55.011516   \n14                B_15  float64   0.125157 -1.000805e+01      65.037427   \n15                B_16  float64   0.036446  7.813820e-10       1.010000   \n16                B_17  float64  56.722874  3.774555e-08       1.010000   \n17                B_18  float64   0.000000  5.891222e-08       1.010000   \n18                B_19  float64   0.036446  1.573038e-09       1.010000   \n19                B_20  float64   0.036446  1.218623e-09       1.010000   \n20                B_21  float64   0.000000  4.426753e-09     288.294288   \n21                B_22  float64   0.036446  2.056148e-09       3.507759   \n22                B_23  float64   0.000000  4.352963e-08       1.693098   \n23                B_24  float64   0.000000  1.820939e-09      46.606647   \n24                B_25  float64   0.125157 -1.125358e+01      15.699758   \n25                B_26  float64   0.036446  1.691721e-09    1499.220310   \n26                B_27  float64   0.036446  1.044159e-09       1.005370   \n27                B_28  float64   0.000000 -2.160207e-05      25.533372   \n28                B_29  float64  93.104594  2.146359e-08      12.023968   \n29                B_30  float64   0.036446  0.000000e+00       2.000000   \n30                B_31    int64   0.000000  0.000000e+00       1.000000   \n31                B_32  float64   0.000000  2.098142e-09       1.010000   \n32                B_33  float64   0.036446  2.147189e-10       1.010000   \n33                B_36  float64   0.000000  1.160856e-09       1.002340   \n34                B_37  float64   0.001012 -7.604273e+00       1.327812   \n35                B_38  float64   0.036446  1.000000e+00       7.000000   \n36                B_39  float64  99.391986 -9.793140e-01       2.060899   \n37                B_40  float64   0.000958  1.201275e-08    5755.075986   \n38                B_41  float64   0.012474  2.030713e-09      22.004879   \n39                B_42  float64  98.707789  3.108574e-06       9.051837   \n40  encoded_customerID    int64   0.000000  0.000000e+00  458912.000000   \n41              target    int64   0.000000  0.000000e+00       1.000000   \n\n         mean_val            std       variance         5_pct         25_pct  \\\n0        0.124010       0.211987       0.211987      0.002132       0.008864   \n1        0.621489       0.401488       0.401488      0.019755       0.105331   \n2        0.132539       0.234993       0.234993      0.001211       0.005228   \n3        0.172554       0.222415       0.222415      0.003583       0.027500   \n4        0.083112       0.397043       0.397043      0.001897       0.007280   \n5        0.152117       1.476770       1.476770      0.006297       0.020487   \n6        0.186084       0.230419       0.230419      0.008727       0.028247   \n7        0.450581       0.496941       0.496941      0.000902       0.004507   \n8        0.189524       0.286274       0.286274      0.001153       0.005753   \n9        0.231600       4.799846       4.799846      0.010100       0.028991   \n10       0.110968       0.208256       0.208256      0.001528       0.006603   \n11       0.093700       0.820427       0.820427      0.006244       0.010870   \n12       0.100716       0.559384       0.559384      0.002531       0.009255   \n13       0.101155       0.283583       0.283583      0.001936       0.008151   \n14       0.052808       0.300550       0.300550      0.000626       0.003140   \n15       0.348676       0.402361       0.402361      0.001247       0.006237   \n16       0.715240       0.386673       0.386673      0.002846       0.480044   \n17       0.596238       0.365609       0.365609      0.056267       0.206731   \n18       0.150135       0.289617       0.289617      0.000691       0.003455   \n19       0.236304       0.373701       0.373701      0.000806       0.004038   \n20       0.053154       0.719635       0.719635      0.000510       0.002551   \n21       0.107233       0.223263       0.223263      0.000617       0.003081   \n22       0.171480       0.229353       0.229353      0.005045       0.017480   \n23       0.039651       0.317219       0.317219      0.000519       0.002588   \n24       0.103870       0.208705       0.208705      0.001263       0.005965   \n25       0.090620       2.588205       2.588205      0.000523       0.002620   \n26       0.005008       0.003012       0.003012      0.000501       0.002502   \n27       0.154528       0.227502       0.227502      0.006512       0.027456   \n28       0.032998       0.276513       0.276513      0.000512       0.002557   \n29       0.157989       0.390968       0.390968      0.000000       0.000000   \n30       0.996943       0.055201       0.055201      1.000000       1.000000   \n31       0.027415       0.148057       0.148057      0.000511       0.002556   \n32       0.612195       0.488384       0.488384      0.001275       0.006362   \n33       0.006360       0.021239       0.021239      0.000502       0.002514   \n34       0.123190       0.211777       0.211777      0.002095       0.008835   \n35       2.716704       1.581322       1.581322      1.000000       2.000000   \n36       0.255473       0.297895       0.297895      0.005001       0.058394   \n37       0.203261       8.081345       8.081345      0.003281       0.017393   \n38       0.032349       0.222306       0.222306      0.000511       0.002554   \n39       0.110038       0.313704       0.313704      0.001886       0.007260   \n40  229419.424355  132490.213791  132490.213791  22922.000000  114669.000000   \n41       0.249097       0.432490       0.432490      0.000000       0.000000   \n\n           50_pct         75_pct         95_pct      pct_uniq  num_unique  \n0        0.031330       0.125902       0.603555  1.000000e+00     5531451  \n1        0.814333       1.002403       1.008479  9.996355e-01     5529435  \n2        0.009777       0.155051       0.707351  9.996355e-01     5529435  \n3        0.082226       0.238882       0.622921  1.000000e+00     5531451  \n4        0.015377       0.053718       0.344357  1.000000e+00     5531451  \n5        0.083385       0.191929       0.334243  9.999579e-01     5531218  \n6        0.075746       0.270932       0.685931  1.000000e+00     5531451  \n7        0.009021       1.004175       1.008660  9.959743e-01     5509183  \n8        0.025878       0.334297       0.651270  1.000000e+00     5531451  \n9        0.110555       0.295539       0.308041  1.000000e+00     5531451  \n10       0.019451       0.101971       0.577963  1.000000e+00     5531451  \n11       0.019441       0.069138       0.328244  1.000000e+00     5531451  \n12       0.029314       0.089415       0.349563  9.910477e-01     5481932  \n13       0.028494       0.100320       0.408974  1.000000e+00     5531451  \n14       0.006235       0.009290       0.229976  9.987484e-01     5524528  \n15       0.091739       0.756588       1.007283  9.996355e-01     5529435  \n16       0.932087       1.002225       1.008441  4.327713e-01     2393853  \n17       0.646633       1.003277       1.008655  1.000000e+00     5531451  \n18       0.006908       0.095460       0.912805  9.996355e-01     5529435  \n19       0.008074       0.357849       1.006601  9.996355e-01     5529435  \n20       0.005102       0.007652       0.009695  1.000000e+00     5531451  \n21       0.006160       0.009242       0.507942  9.996355e-01     5529435  \n22       0.059512       0.247231       0.674877  1.000000e+00     5531451  \n23       0.005175       0.007761       0.009833  1.000000e+00     5531451  \n24       0.019855       0.106159       0.470603  9.987482e-01     5524527  \n25       0.005237       0.007856       0.009950  9.996355e-01     5529435  \n26       0.005005       0.007507       0.009506  9.996355e-01     5529435  \n27       0.077063       0.194401       0.557227  1.000000e+00     5531451  \n28       0.005088       0.007634       0.009670  6.895406e-02      381416  \n29       0.000000       0.000000       1.000000  5.423532e-07           3  \n30       1.000000       1.000000       1.000000  3.615688e-07           2  \n31       0.005114       0.007675       0.009718  1.000000e+00     5531451  \n32       1.001767       1.005885       1.009178  9.996354e-01     5529434  \n33       0.005029       0.007543       0.009554  1.000000e+00     5531451  \n34       0.031141       0.123867       0.602171  9.999899e-01     5531395  \n35       2.000000       3.000000       6.000000  1.265491e-06           7  \n36       0.149225       0.291426       1.005301  6.080141e-03       33632  \n37       0.058309       0.245154       0.630622  9.999904e-01     5531398  \n38       0.005107       0.007660       0.009702  9.998753e-01     5530761  \n39       0.021599       0.105613       0.411544  1.292211e-02       71478  \n40  229380.000000  344209.000000  435977.000000  8.296431e-02      458913  \n41       0.000000       0.000000       1.000000  3.615688e-07           2  ",
      "text/html": "<div>\n<style scoped>\n    .dataframe tbody tr th:only-of-type {\n        vertical-align: middle;\n    }\n\n    .dataframe tbody tr th {\n        vertical-align: top;\n    }\n\n    .dataframe thead th {\n        text-align: right;\n    }\n</style>\n<table border=\"1\" class=\"dataframe\">\n  <thead>\n    <tr style=\"text-align: right;\">\n      <th></th>\n      <th>column_name</th>\n      <th>datatype</th>\n      <th>null_pct</th>\n      <th>min_val</th>\n      <th>max_val</th>\n      <th>mean_val</th>\n      <th>std</th>\n      <th>variance</th>\n      <th>5_pct</th>\n      <th>25_pct</th>\n      <th>50_pct</th>\n      <th>75_pct</th>\n      <th>95_pct</th>\n      <th>pct_uniq</th>\n      <th>num_unique</th>\n    </tr>\n  </thead>\n  <tbody>\n    <tr>\n      <th>0</th>\n      <td>B_1</td>\n      <td>float64</td>\n      <td>0.000000</td>\n      <td>-7.588799e+00</td>\n      <td>1.324060</td>\n      <td>0.124010</td>\n      <td>0.211987</td>\n      <td>0.211987</td>\n      <td>0.002132</td>\n      <td>0.008864</td>\n      <td>0.031330</td>\n      <td>0.125902</td>\n      <td>0.603555</td>\n      <td>1.000000e+00</td>\n      <td>5531451</td>\n    </tr>\n    <tr>\n      <th>1</th>\n      <td>B_2</td>\n      <td>float64</td>\n      <td>0.036446</td>\n      <td>9.192280e-09</td>\n      <td>1.010000</td>\n      <td>0.621489</td>\n      <td>0.401488</td>\n      <td>0.401488</td>\n      <td>0.019755</td>\n      <td>0.105331</td>\n      <td>0.814333</td>\n      <td>1.002403</td>\n      <td>1.008479</td>\n      <td>9.996355e-01</td>\n      <td>5529435</td>\n    </tr>\n    <tr>\n      <th>2</th>\n      <td>B_3</td>\n      <td>float64</td>\n      <td>0.036446</td>\n      <td>6.285293e-09</td>\n      <td>1.625262</td>\n      <td>0.132539</td>\n      <td>0.234993</td>\n      <td>0.234993</td>\n      <td>0.001211</td>\n      <td>0.005228</td>\n      <td>0.009777</td>\n      <td>0.155051</td>\n      <td>0.707351</td>\n      <td>9.996355e-01</td>\n      <td>5529435</td>\n    </tr>\n    <tr>\n      <th>3</th>\n      <td>B_4</td>\n      <td>float64</td>\n      <td>0.000000</td>\n      <td>3.099332e-09</td>\n      <td>19.803286</td>\n      <td>0.172554</td>\n      <td>0.222415</td>\n      <td>0.222415</td>\n      <td>0.003583</td>\n      <td>0.027500</td>\n      <td>0.082226</td>\n      <td>0.238882</td>\n      <td>0.622921</td>\n      <td>1.000000e+00</td>\n      <td>5531451</td>\n    </tr>\n    <tr>\n      <th>4</th>\n      <td>B_5</td>\n      <td>float64</td>\n      <td>0.000000</td>\n      <td>2.804822e-11</td>\n      <td>144.207023</td>\n      <td>0.083112</td>\n      <td>0.397043</td>\n      <td>0.397043</td>\n      <td>0.001897</td>\n      <td>0.007280</td>\n      <td>0.015377</td>\n      <td>0.053718</td>\n      <td>0.344357</td>\n      <td>1.000000e+00</td>\n      <td>5531451</td>\n    </tr>\n    <tr>\n      <th>5</th>\n      <td>B_6</td>\n      <td>float64</td>\n      <td>0.004212</td>\n      <td>-5.178168e-03</td>\n      <td>1214.516926</td>\n      <td>0.152117</td>\n      <td>1.476770</td>\n      <td>1.476770</td>\n      <td>0.006297</td>\n      <td>0.020487</td>\n      <td>0.083385</td>\n      <td>0.191929</td>\n      <td>0.334243</td>\n      <td>9.999579e-01</td>\n      <td>5531218</td>\n    </tr>\n    <tr>\n      <th>6</th>\n      <td>B_7</td>\n      <td>float64</td>\n      <td>0.000000</td>\n      <td>-2.652748e+00</td>\n      <td>1.252750</td>\n      <td>0.186084</td>\n      <td>0.230419</td>\n      <td>0.230419</td>\n      <td>0.008727</td>\n      <td>0.028247</td>\n      <td>0.075746</td>\n      <td>0.270932</td>\n      <td>0.685931</td>\n      <td>1.000000e+00</td>\n      <td>5531451</td>\n    </tr>\n    <tr>\n      <th>7</th>\n      <td>B_8</td>\n      <td>float64</td>\n      <td>0.402571</td>\n      <td>1.153704e-08</td>\n      <td>1.019079</td>\n      <td>0.450581</td>\n      <td>0.496941</td>\n      <td>0.496941</td>\n      <td>0.000902</td>\n      <td>0.004507</td>\n      <td>0.009021</td>\n      <td>1.004175</td>\n      <td>1.008660</td>\n      <td>9.959743e-01</td>\n      <td>5509183</td>\n    </tr>\n    <tr>\n      <th>8</th>\n      <td>B_9</td>\n      <td>float64</td>\n      <td>0.000000</td>\n      <td>6.726070e-09</td>\n      <td>27.424859</td>\n      <td>0.189524</td>\n      <td>0.286274</td>\n      <td>0.286274</td>\n      <td>0.001153</td>\n      <td>0.005753</td>\n      <td>0.025878</td>\n      <td>0.334297</td>\n      <td>0.651270</td>\n      <td>1.000000e+00</td>\n      <td>5531451</td>\n    </tr>\n    <tr>\n      <th>9</th>\n      <td>B_10</td>\n      <td>float64</td>\n      <td>0.000000</td>\n      <td>-2.958481e-03</td>\n      <td>4097.440729</td>\n      <td>0.231600</td>\n      <td>4.799846</td>\n      <td>4.799846</td>\n      <td>0.010100</td>\n      <td>0.028991</td>\n      <td>0.110555</td>\n      <td>0.295539</td>\n      <td>0.308041</td>\n      <td>1.000000e+00</td>\n      <td>5531451</td>\n    </tr>\n    <tr>\n      <th>10</th>\n      <td>B_11</td>\n      <td>float64</td>\n      <td>0.000000</td>\n      <td>2.017814e-08</td>\n      <td>1.970375</td>\n      <td>0.110968</td>\n      <td>0.208256</td>\n      <td>0.208256</td>\n      <td>0.001528</td>\n      <td>0.006603</td>\n      <td>0.019451</td>\n      <td>0.101971</td>\n      <td>0.577963</td>\n      <td>1.000000e+00</td>\n      <td>5531451</td>\n    </tr>\n    <tr>\n      <th>11</th>\n      <td>B_12</td>\n      <td>float64</td>\n      <td>0.000000</td>\n      <td>3.343624e-08</td>\n      <td>420.748993</td>\n      <td>0.093700</td>\n      <td>0.820427</td>\n      <td>0.820427</td>\n      <td>0.006244</td>\n      <td>0.010870</td>\n      <td>0.019441</td>\n      <td>0.069138</td>\n      <td>0.328244</td>\n      <td>1.000000e+00</td>\n      <td>5531451</td>\n    </tr>\n    <tr>\n      <th>12</th>\n      <td>B_13</td>\n      <td>float64</td>\n      <td>0.895226</td>\n      <td>1.905850e-08</td>\n      <td>276.177824</td>\n      <td>0.100716</td>\n      <td>0.559384</td>\n      <td>0.559384</td>\n      <td>0.002531</td>\n      <td>0.009255</td>\n      <td>0.029314</td>\n      <td>0.089415</td>\n      <td>0.349563</td>\n      <td>9.910477e-01</td>\n      <td>5481932</td>\n    </tr>\n    <tr>\n      <th>13</th>\n      <td>B_14</td>\n      <td>float64</td>\n      <td>0.000000</td>\n      <td>-8.469854e+00</td>\n      <td>55.011516</td>\n      <td>0.101155</td>\n      <td>0.283583</td>\n      <td>0.283583</td>\n      <td>0.001936</td>\n      <td>0.008151</td>\n      <td>0.028494</td>\n      <td>0.100320</td>\n      <td>0.408974</td>\n      <td>1.000000e+00</td>\n      <td>5531451</td>\n    </tr>\n    <tr>\n      <th>14</th>\n      <td>B_15</td>\n      <td>float64</td>\n      <td>0.125157</td>\n      <td>-1.000805e+01</td>\n      <td>65.037427</td>\n      <td>0.052808</td>\n      <td>0.300550</td>\n      <td>0.300550</td>\n      <td>0.000626</td>\n      <td>0.003140</td>\n      <td>0.006235</td>\n      <td>0.009290</td>\n      <td>0.229976</td>\n      <td>9.987484e-01</td>\n      <td>5524528</td>\n    </tr>\n    <tr>\n      <th>15</th>\n      <td>B_16</td>\n      <td>float64</td>\n      <td>0.036446</td>\n      <td>7.813820e-10</td>\n      <td>1.010000</td>\n      <td>0.348676</td>\n      <td>0.402361</td>\n      <td>0.402361</td>\n      <td>0.001247</td>\n      <td>0.006237</td>\n      <td>0.091739</td>\n      <td>0.756588</td>\n      <td>1.007283</td>\n      <td>9.996355e-01</td>\n      <td>5529435</td>\n    </tr>\n    <tr>\n      <th>16</th>\n      <td>B_17</td>\n      <td>float64</td>\n      <td>56.722874</td>\n      <td>3.774555e-08</td>\n      <td>1.010000</td>\n      <td>0.715240</td>\n      <td>0.386673</td>\n      <td>0.386673</td>\n      <td>0.002846</td>\n      <td>0.480044</td>\n      <td>0.932087</td>\n      <td>1.002225</td>\n      <td>1.008441</td>\n      <td>4.327713e-01</td>\n      <td>2393853</td>\n    </tr>\n    <tr>\n      <th>17</th>\n      <td>B_18</td>\n      <td>float64</td>\n      <td>0.000000</td>\n      <td>5.891222e-08</td>\n      <td>1.010000</td>\n      <td>0.596238</td>\n      <td>0.365609</td>\n      <td>0.365609</td>\n      <td>0.056267</td>\n      <td>0.206731</td>\n      <td>0.646633</td>\n      <td>1.003277</td>\n      <td>1.008655</td>\n      <td>1.000000e+00</td>\n      <td>5531451</td>\n    </tr>\n    <tr>\n      <th>18</th>\n      <td>B_19</td>\n      <td>float64</td>\n      <td>0.036446</td>\n      <td>1.573038e-09</td>\n      <td>1.010000</td>\n      <td>0.150135</td>\n      <td>0.289617</td>\n      <td>0.289617</td>\n      <td>0.000691</td>\n      <td>0.003455</td>\n      <td>0.006908</td>\n      <td>0.095460</td>\n      <td>0.912805</td>\n      <td>9.996355e-01</td>\n      <td>5529435</td>\n    </tr>\n    <tr>\n      <th>19</th>\n      <td>B_20</td>\n      <td>float64</td>\n      <td>0.036446</td>\n      <td>1.218623e-09</td>\n      <td>1.010000</td>\n      <td>0.236304</td>\n      <td>0.373701</td>\n      <td>0.373701</td>\n      <td>0.000806</td>\n      <td>0.004038</td>\n      <td>0.008074</td>\n      <td>0.357849</td>\n      <td>1.006601</td>\n      <td>9.996355e-01</td>\n      <td>5529435</td>\n    </tr>\n    <tr>\n      <th>20</th>\n      <td>B_21</td>\n      <td>float64</td>\n      <td>0.000000</td>\n      <td>4.426753e-09</td>\n      <td>288.294288</td>\n      <td>0.053154</td>\n      <td>0.719635</td>\n      <td>0.719635</td>\n      <td>0.000510</td>\n      <td>0.002551</td>\n      <td>0.005102</td>\n      <td>0.007652</td>\n      <td>0.009695</td>\n      <td>1.000000e+00</td>\n      <td>5531451</td>\n    </tr>\n    <tr>\n      <th>21</th>\n      <td>B_22</td>\n      <td>float64</td>\n      <td>0.036446</td>\n      <td>2.056148e-09</td>\n      <td>3.507759</td>\n      <td>0.107233</td>\n      <td>0.223263</td>\n      <td>0.223263</td>\n      <td>0.000617</td>\n      <td>0.003081</td>\n      <td>0.006160</td>\n      <td>0.009242</td>\n      <td>0.507942</td>\n      <td>9.996355e-01</td>\n      <td>5529435</td>\n    </tr>\n    <tr>\n      <th>22</th>\n      <td>B_23</td>\n      <td>float64</td>\n      <td>0.000000</td>\n      <td>4.352963e-08</td>\n      <td>1.693098</td>\n      <td>0.171480</td>\n      <td>0.229353</td>\n      <td>0.229353</td>\n      <td>0.005045</td>\n      <td>0.017480</td>\n      <td>0.059512</td>\n      <td>0.247231</td>\n      <td>0.674877</td>\n      <td>1.000000e+00</td>\n      <td>5531451</td>\n    </tr>\n    <tr>\n      <th>23</th>\n      <td>B_24</td>\n      <td>float64</td>\n      <td>0.000000</td>\n      <td>1.820939e-09</td>\n      <td>46.606647</td>\n      <td>0.039651</td>\n      <td>0.317219</td>\n      <td>0.317219</td>\n      <td>0.000519</td>\n      <td>0.002588</td>\n      <td>0.005175</td>\n      <td>0.007761</td>\n      <td>0.009833</td>\n      <td>1.000000e+00</td>\n      <td>5531451</td>\n    </tr>\n    <tr>\n      <th>24</th>\n      <td>B_25</td>\n      <td>float64</td>\n      <td>0.125157</td>\n      <td>-1.125358e+01</td>\n      <td>15.699758</td>\n      <td>0.103870</td>\n      <td>0.208705</td>\n      <td>0.208705</td>\n      <td>0.001263</td>\n      <td>0.005965</td>\n      <td>0.019855</td>\n      <td>0.106159</td>\n      <td>0.470603</td>\n      <td>9.987482e-01</td>\n      <td>5524527</td>\n    </tr>\n    <tr>\n      <th>25</th>\n      <td>B_26</td>\n      <td>float64</td>\n      <td>0.036446</td>\n      <td>1.691721e-09</td>\n      <td>1499.220310</td>\n      <td>0.090620</td>\n      <td>2.588205</td>\n      <td>2.588205</td>\n      <td>0.000523</td>\n      <td>0.002620</td>\n      <td>0.005237</td>\n      <td>0.007856</td>\n      <td>0.009950</td>\n      <td>9.996355e-01</td>\n      <td>5529435</td>\n    </tr>\n    <tr>\n      <th>26</th>\n      <td>B_27</td>\n      <td>float64</td>\n      <td>0.036446</td>\n      <td>1.044159e-09</td>\n      <td>1.005370</td>\n      <td>0.005008</td>\n      <td>0.003012</td>\n      <td>0.003012</td>\n      <td>0.000501</td>\n      <td>0.002502</td>\n      <td>0.005005</td>\n      <td>0.007507</td>\n      <td>0.009506</td>\n      <td>9.996355e-01</td>\n      <td>5529435</td>\n    </tr>\n    <tr>\n      <th>27</th>\n      <td>B_28</td>\n      <td>float64</td>\n      <td>0.000000</td>\n      <td>-2.160207e-05</td>\n      <td>25.533372</td>\n      <td>0.154528</td>\n      <td>0.227502</td>\n      <td>0.227502</td>\n      <td>0.006512</td>\n      <td>0.027456</td>\n      <td>0.077063</td>\n      <td>0.194401</td>\n      <td>0.557227</td>\n      <td>1.000000e+00</td>\n      <td>5531451</td>\n    </tr>\n    <tr>\n      <th>28</th>\n      <td>B_29</td>\n      <td>float64</td>\n      <td>93.104594</td>\n      <td>2.146359e-08</td>\n      <td>12.023968</td>\n      <td>0.032998</td>\n      <td>0.276513</td>\n      <td>0.276513</td>\n      <td>0.000512</td>\n      <td>0.002557</td>\n      <td>0.005088</td>\n      <td>0.007634</td>\n      <td>0.009670</td>\n      <td>6.895406e-02</td>\n      <td>381416</td>\n    </tr>\n    <tr>\n      <th>29</th>\n      <td>B_30</td>\n      <td>float64</td>\n      <td>0.036446</td>\n      <td>0.000000e+00</td>\n      <td>2.000000</td>\n      <td>0.157989</td>\n      <td>0.390968</td>\n      <td>0.390968</td>\n      <td>0.000000</td>\n      <td>0.000000</td>\n      <td>0.000000</td>\n      <td>0.000000</td>\n      <td>1.000000</td>\n      <td>5.423532e-07</td>\n      <td>3</td>\n    </tr>\n    <tr>\n      <th>30</th>\n      <td>B_31</td>\n      <td>int64</td>\n      <td>0.000000</td>\n      <td>0.000000e+00</td>\n      <td>1.000000</td>\n      <td>0.996943</td>\n      <td>0.055201</td>\n      <td>0.055201</td>\n      <td>1.000000</td>\n      <td>1.000000</td>\n      <td>1.000000</td>\n      <td>1.000000</td>\n      <td>1.000000</td>\n      <td>3.615688e-07</td>\n      <td>2</td>\n    </tr>\n    <tr>\n      <th>31</th>\n      <td>B_32</td>\n      <td>float64</td>\n      <td>0.000000</td>\n      <td>2.098142e-09</td>\n      <td>1.010000</td>\n      <td>0.027415</td>\n      <td>0.148057</td>\n      <td>0.148057</td>\n      <td>0.000511</td>\n      <td>0.002556</td>\n      <td>0.005114</td>\n      <td>0.007675</td>\n      <td>0.009718</td>\n      <td>1.000000e+00</td>\n      <td>5531451</td>\n    </tr>\n    <tr>\n      <th>32</th>\n      <td>B_33</td>\n      <td>float64</td>\n      <td>0.036446</td>\n      <td>2.147189e-10</td>\n      <td>1.010000</td>\n      <td>0.612195</td>\n      <td>0.488384</td>\n      <td>0.488384</td>\n      <td>0.001275</td>\n      <td>0.006362</td>\n      <td>1.001767</td>\n      <td>1.005885</td>\n      <td>1.009178</td>\n      <td>9.996354e-01</td>\n      <td>5529434</td>\n    </tr>\n    <tr>\n      <th>33</th>\n      <td>B_36</td>\n      <td>float64</td>\n      <td>0.000000</td>\n      <td>1.160856e-09</td>\n      <td>1.002340</td>\n      <td>0.006360</td>\n      <td>0.021239</td>\n      <td>0.021239</td>\n      <td>0.000502</td>\n      <td>0.002514</td>\n      <td>0.005029</td>\n      <td>0.007543</td>\n      <td>0.009554</td>\n      <td>1.000000e+00</td>\n      <td>5531451</td>\n    </tr>\n    <tr>\n      <th>34</th>\n      <td>B_37</td>\n      <td>float64</td>\n      <td>0.001012</td>\n      <td>-7.604273e+00</td>\n      <td>1.327812</td>\n      <td>0.123190</td>\n      <td>0.211777</td>\n      <td>0.211777</td>\n      <td>0.002095</td>\n      <td>0.008835</td>\n      <td>0.031141</td>\n      <td>0.123867</td>\n      <td>0.602171</td>\n      <td>9.999899e-01</td>\n      <td>5531395</td>\n    </tr>\n    <tr>\n      <th>35</th>\n      <td>B_38</td>\n      <td>float64</td>\n      <td>0.036446</td>\n      <td>1.000000e+00</td>\n      <td>7.000000</td>\n      <td>2.716704</td>\n      <td>1.581322</td>\n      <td>1.581322</td>\n      <td>1.000000</td>\n      <td>2.000000</td>\n      <td>2.000000</td>\n      <td>3.000000</td>\n      <td>6.000000</td>\n      <td>1.265491e-06</td>\n      <td>7</td>\n    </tr>\n    <tr>\n      <th>36</th>\n      <td>B_39</td>\n      <td>float64</td>\n      <td>99.391986</td>\n      <td>-9.793140e-01</td>\n      <td>2.060899</td>\n      <td>0.255473</td>\n      <td>0.297895</td>\n      <td>0.297895</td>\n      <td>0.005001</td>\n      <td>0.058394</td>\n      <td>0.149225</td>\n      <td>0.291426</td>\n      <td>1.005301</td>\n      <td>6.080141e-03</td>\n      <td>33632</td>\n    </tr>\n    <tr>\n      <th>37</th>\n      <td>B_40</td>\n      <td>float64</td>\n      <td>0.000958</td>\n      <td>1.201275e-08</td>\n      <td>5755.075986</td>\n      <td>0.203261</td>\n      <td>8.081345</td>\n      <td>8.081345</td>\n      <td>0.003281</td>\n      <td>0.017393</td>\n      <td>0.058309</td>\n      <td>0.245154</td>\n      <td>0.630622</td>\n      <td>9.999904e-01</td>\n      <td>5531398</td>\n    </tr>\n    <tr>\n      <th>38</th>\n      <td>B_41</td>\n      <td>float64</td>\n      <td>0.012474</td>\n      <td>2.030713e-09</td>\n      <td>22.004879</td>\n      <td>0.032349</td>\n      <td>0.222306</td>\n      <td>0.222306</td>\n      <td>0.000511</td>\n      <td>0.002554</td>\n      <td>0.005107</td>\n      <td>0.007660</td>\n      <td>0.009702</td>\n      <td>9.998753e-01</td>\n      <td>5530761</td>\n    </tr>\n    <tr>\n      <th>39</th>\n      <td>B_42</td>\n      <td>float64</td>\n      <td>98.707789</td>\n      <td>3.108574e-06</td>\n      <td>9.051837</td>\n      <td>0.110038</td>\n      <td>0.313704</td>\n      <td>0.313704</td>\n      <td>0.001886</td>\n      <td>0.007260</td>\n      <td>0.021599</td>\n      <td>0.105613</td>\n      <td>0.411544</td>\n      <td>1.292211e-02</td>\n      <td>71478</td>\n    </tr>\n    <tr>\n      <th>40</th>\n      <td>encoded_customerID</td>\n      <td>int64</td>\n      <td>0.000000</td>\n      <td>0.000000e+00</td>\n      <td>458912.000000</td>\n      <td>229419.424355</td>\n      <td>132490.213791</td>\n      <td>132490.213791</td>\n      <td>22922.000000</td>\n      <td>114669.000000</td>\n      <td>229380.000000</td>\n      <td>344209.000000</td>\n      <td>435977.000000</td>\n      <td>8.296431e-02</td>\n      <td>458913</td>\n    </tr>\n    <tr>\n      <th>41</th>\n      <td>target</td>\n      <td>int64</td>\n      <td>0.000000</td>\n      <td>0.000000e+00</td>\n      <td>1.000000</td>\n      <td>0.249097</td>\n      <td>0.432490</td>\n      <td>0.432490</td>\n      <td>0.000000</td>\n      <td>0.000000</td>\n      <td>0.000000</td>\n      <td>0.000000</td>\n      <td>1.000000</td>\n      <td>3.615688e-07</td>\n      <td>2</td>\n    </tr>\n  </tbody>\n</table>\n</div>"
     },
     "execution_count": 17,
     "metadata": {},
     "output_type": "execute_result"
    }
   ],
   "source": [
    "%%time\n",
    "col_profile_df = col_profile_df.reset_index()\n",
    "col_profile_df"
   ],
   "metadata": {
    "collapsed": false,
    "ExecuteTime": {
     "end_time": "2023-05-18T19:25:22.138352894Z",
     "start_time": "2023-05-18T19:25:22.074760227Z"
    }
   }
  },
  {
   "cell_type": "code",
   "execution_count": 18,
   "outputs": [
    {
     "name": "stdout",
     "output_type": "stream",
     "text": [
      "CPU times: user 14 s, sys: 1.23 s, total: 15.3 s\n",
      "Wall time: 15.3 s\n"
     ]
    }
   ],
   "source": [
    "%%time\n",
    "res_df['target'] = res_df['target'].astype('category')\n",
    "lss = []\n",
    "for item in res_df:\n",
    "    if item in ['target', 'encoded_customerID']:\n",
    "        continue\n",
    "    else:\n",
    "        lss.append(pps.score(res_df, item, 'target'))"
   ],
   "metadata": {
    "collapsed": false,
    "ExecuteTime": {
     "end_time": "2023-05-18T19:25:37.447013389Z",
     "start_time": "2023-05-18T19:25:22.115386991Z"
    }
   }
  },
  {
   "cell_type": "code",
   "execution_count": 19,
   "outputs": [],
   "source": [
    "pps_score_result = pd.DataFrame(lss)"
   ],
   "metadata": {
    "collapsed": false,
    "ExecuteTime": {
     "end_time": "2023-05-18T19:25:37.447418841Z",
     "start_time": "2023-05-18T19:25:37.434959870Z"
    }
   }
  },
  {
   "cell_type": "code",
   "execution_count": 20,
   "outputs": [],
   "source": [
    "col_profile_df = pd.merge(col_profile_df, pps_score_result[['x', 'ppscore', 'baseline_score', 'model_score']], left_on='column_name', right_on='x',\n",
    "                          how='left')"
   ],
   "metadata": {
    "collapsed": false,
    "ExecuteTime": {
     "end_time": "2023-05-18T19:25:37.447544347Z",
     "start_time": "2023-05-18T19:25:37.435200643Z"
    }
   }
  },
  {
   "cell_type": "code",
   "execution_count": 21,
   "outputs": [],
   "source": [
    "col_profile_df['ppscore'] = np.round(col_profile_df['ppscore'], 2)"
   ],
   "metadata": {
    "collapsed": false,
    "ExecuteTime": {
     "end_time": "2023-05-18T19:25:37.447626300Z",
     "start_time": "2023-05-18T19:25:37.435343751Z"
    }
   }
  },
  {
   "cell_type": "code",
   "execution_count": 22,
   "outputs": [],
   "source": [
    "col_profile_df.to_csv(\"../data/metadata/column_profiling_balance.csv\", index=False)"
   ],
   "metadata": {
    "collapsed": false,
    "ExecuteTime": {
     "end_time": "2023-05-18T19:25:42.579641326Z",
     "start_time": "2023-05-18T19:25:42.573650004Z"
    }
   }
  },
  {
   "cell_type": "code",
   "execution_count": null,
   "outputs": [],
   "source": [],
   "metadata": {
    "collapsed": false
   }
  }
 ],
 "metadata": {
  "kernelspec": {
   "display_name": "Python 3",
   "language": "python",
   "name": "python3"
  },
  "language_info": {
   "codemirror_mode": {
    "name": "ipython",
    "version": 2
   },
   "file_extension": ".py",
   "mimetype": "text/x-python",
   "name": "python",
   "nbconvert_exporter": "python",
   "pygments_lexer": "ipython2",
   "version": "2.7.6"
  }
 },
 "nbformat": 4,
 "nbformat_minor": 0
}
