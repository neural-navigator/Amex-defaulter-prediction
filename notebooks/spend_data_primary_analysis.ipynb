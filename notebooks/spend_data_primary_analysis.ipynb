{
 "cells": [
  {
   "cell_type": "code",
   "execution_count": 1,
   "metadata": {
    "collapsed": true,
    "ExecuteTime": {
     "end_time": "2023-05-18T18:52:46.451515268Z",
     "start_time": "2023-05-18T18:52:45.476315433Z"
    }
   },
   "outputs": [],
   "source": [
    "import numpy as np\n",
    "import pandas as pd\n",
    "import ppscore as pps\n",
    "import matplotlib.pyplot as plt"
   ]
  },
  {
   "cell_type": "code",
   "execution_count": 2,
   "outputs": [
    {
     "name": "stdout",
     "output_type": "stream",
     "text": [
      "CPU times: user 18.3 s, sys: 2.96 s, total: 21.3 s\n",
      "Wall time: 21.6 s\n"
     ]
    }
   ],
   "source": [
    "%%time\n",
    "df = pd.read_csv(\"../data/interim/seggregated/spend.csv\")\n",
    "labels = pd.read_csv(\"../data/raw/train_labels.csv\")"
   ],
   "metadata": {
    "collapsed": false,
    "ExecuteTime": {
     "end_time": "2023-05-18T18:53:08.030933638Z",
     "start_time": "2023-05-18T18:52:46.452373812Z"
    }
   }
  },
  {
   "cell_type": "code",
   "execution_count": 3,
   "outputs": [
    {
     "name": "stdout",
     "output_type": "stream",
     "text": [
      "CPU times: user 15 µs, sys: 4 µs, total: 19 µs\n",
      "Wall time: 20.7 µs\n"
     ]
    },
    {
     "data": {
      "text/plain": "((5531451, 23), (458913, 2))"
     },
     "execution_count": 3,
     "metadata": {},
     "output_type": "execute_result"
    }
   ],
   "source": [
    "%%time\n",
    "# checking shape of the dataframe\n",
    "df.shape, labels.shape"
   ],
   "metadata": {
    "collapsed": false,
    "ExecuteTime": {
     "end_time": "2023-05-18T18:53:08.044977673Z",
     "start_time": "2023-05-18T18:53:08.034116163Z"
    }
   }
  },
  {
   "cell_type": "code",
   "execution_count": 4,
   "outputs": [
    {
     "name": "stdout",
     "output_type": "stream",
     "text": [
      "CPU times: user 8 µs, sys: 2 µs, total: 10 µs\n",
      "Wall time: 11.2 µs\n"
     ]
    },
    {
     "data": {
      "text/plain": "Index(['customer_ID', 'S_2', 'S_3', 'S_5', 'S_6', 'S_7', 'S_8', 'S_9', 'S_11',\n       'S_12', 'S_13', 'S_15', 'S_16', 'S_17', 'S_18', 'S_19', 'S_20', 'S_22',\n       'S_23', 'S_24', 'S_25', 'S_26', 'S_27'],\n      dtype='object')"
     },
     "execution_count": 4,
     "metadata": {},
     "output_type": "execute_result"
    }
   ],
   "source": [
    "%%time\n",
    "df.columns"
   ],
   "metadata": {
    "collapsed": false,
    "ExecuteTime": {
     "end_time": "2023-05-18T18:53:08.045675405Z",
     "start_time": "2023-05-18T18:53:08.044413612Z"
    }
   }
  },
  {
   "cell_type": "code",
   "execution_count": 5,
   "outputs": [
    {
     "name": "stdout",
     "output_type": "stream",
     "text": [
      "<class 'pandas.core.frame.DataFrame'>\n",
      "RangeIndex: 458913 entries, 0 to 458912\n",
      "Data columns (total 2 columns):\n",
      " #   Column       Non-Null Count   Dtype \n",
      "---  ------       --------------   ----- \n",
      " 0   customer_ID  458913 non-null  object\n",
      " 1   target       458913 non-null  int64 \n",
      "dtypes: int64(1), object(1)\n",
      "memory usage: 7.0+ MB\n",
      "CPU times: user 59.1 ms, sys: 3.77 ms, total: 62.9 ms\n",
      "Wall time: 65.3 ms\n"
     ]
    }
   ],
   "source": [
    "%%time\n",
    "labels.info()"
   ],
   "metadata": {
    "collapsed": false,
    "ExecuteTime": {
     "end_time": "2023-05-18T18:53:08.141217540Z",
     "start_time": "2023-05-18T18:53:08.047118349Z"
    }
   }
  },
  {
   "cell_type": "code",
   "execution_count": 6,
   "outputs": [
    {
     "name": "stdout",
     "output_type": "stream",
     "text": [
      "CPU times: user 1.42 ms, sys: 386 µs, total: 1.8 ms\n",
      "Wall time: 1.17 ms\n"
     ]
    }
   ],
   "source": [
    "%%time\n",
    "# Let's encode customer_ID for efficient memory management.\n",
    "labels['encoded_customerID'] = range(0, len(labels))"
   ],
   "metadata": {
    "collapsed": false,
    "ExecuteTime": {
     "end_time": "2023-05-18T18:53:25.117072900Z",
     "start_time": "2023-05-18T18:53:25.074678109Z"
    }
   }
  },
  {
   "cell_type": "code",
   "execution_count": 7,
   "outputs": [
    {
     "name": "stdout",
     "output_type": "stream",
     "text": [
      "CPU times: user 118 µs, sys: 34 µs, total: 152 µs\n",
      "Wall time: 138 µs\n"
     ]
    },
    {
     "data": {
      "text/plain": "                                         customer_ID  target  \\\n0  0000099d6bd597052cdcda90ffabf56573fe9d7c79be5f...       0   \n1  00000fd6641609c6ece5454664794f0340ad84dddce9a2...       0   \n2  00001b22f846c82c51f6e3958ccd81970162bae8b007e8...       0   \n3  000041bdba6ecadd89a52d11886e8eaaec9325906c9723...       0   \n4  00007889e4fcd2614b6cbe7f8f3d2e5c728eca32d9eb8a...       0   \n\n   encoded_customerID  \n0                   0  \n1                   1  \n2                   2  \n3                   3  \n4                   4  ",
      "text/html": "<div>\n<style scoped>\n    .dataframe tbody tr th:only-of-type {\n        vertical-align: middle;\n    }\n\n    .dataframe tbody tr th {\n        vertical-align: top;\n    }\n\n    .dataframe thead th {\n        text-align: right;\n    }\n</style>\n<table border=\"1\" class=\"dataframe\">\n  <thead>\n    <tr style=\"text-align: right;\">\n      <th></th>\n      <th>customer_ID</th>\n      <th>target</th>\n      <th>encoded_customerID</th>\n    </tr>\n  </thead>\n  <tbody>\n    <tr>\n      <th>0</th>\n      <td>0000099d6bd597052cdcda90ffabf56573fe9d7c79be5f...</td>\n      <td>0</td>\n      <td>0</td>\n    </tr>\n    <tr>\n      <th>1</th>\n      <td>00000fd6641609c6ece5454664794f0340ad84dddce9a2...</td>\n      <td>0</td>\n      <td>1</td>\n    </tr>\n    <tr>\n      <th>2</th>\n      <td>00001b22f846c82c51f6e3958ccd81970162bae8b007e8...</td>\n      <td>0</td>\n      <td>2</td>\n    </tr>\n    <tr>\n      <th>3</th>\n      <td>000041bdba6ecadd89a52d11886e8eaaec9325906c9723...</td>\n      <td>0</td>\n      <td>3</td>\n    </tr>\n    <tr>\n      <th>4</th>\n      <td>00007889e4fcd2614b6cbe7f8f3d2e5c728eca32d9eb8a...</td>\n      <td>0</td>\n      <td>4</td>\n    </tr>\n  </tbody>\n</table>\n</div>"
     },
     "execution_count": 7,
     "metadata": {},
     "output_type": "execute_result"
    }
   ],
   "source": [
    "%%time\n",
    "labels.head()"
   ],
   "metadata": {
    "collapsed": false,
    "ExecuteTime": {
     "end_time": "2023-05-18T18:53:35.465479352Z",
     "start_time": "2023-05-18T18:53:35.450428452Z"
    }
   }
  },
  {
   "cell_type": "code",
   "execution_count": 8,
   "outputs": [
    {
     "name": "stdout",
     "output_type": "stream",
     "text": [
      "CPU times: user 289 ms, sys: 7.24 ms, total: 297 ms\n",
      "Wall time: 294 ms\n"
     ]
    }
   ],
   "source": [
    "%%time\n",
    "custid_mapper = labels[['customer_ID', 'encoded_customerID']].set_index('customer_ID').to_dict()\n",
    "custid_mapper = custid_mapper['encoded_customerID']"
   ],
   "metadata": {
    "collapsed": false,
    "ExecuteTime": {
     "end_time": "2023-05-18T18:53:51.595210832Z",
     "start_time": "2023-05-18T18:53:51.296638079Z"
    }
   }
  },
  {
   "cell_type": "code",
   "execution_count": 9,
   "outputs": [
    {
     "name": "stdout",
     "output_type": "stream",
     "text": [
      "CPU times: user 698 ms, sys: 131 ms, total: 829 ms\n",
      "Wall time: 826 ms\n"
     ]
    }
   ],
   "source": [
    "%%time\n",
    "df['encoded_customerID'] = df['customer_ID'].map(custid_mapper)\n",
    "df = df.drop(['customer_ID'], axis=1)"
   ],
   "metadata": {
    "collapsed": false,
    "ExecuteTime": {
     "end_time": "2023-05-18T18:54:00.480042096Z",
     "start_time": "2023-05-18T18:53:59.661745457Z"
    }
   }
  },
  {
   "cell_type": "code",
   "execution_count": 10,
   "outputs": [
    {
     "name": "stdout",
     "output_type": "stream",
     "text": [
      "CPU times: user 761 ms, sys: 445 ms, total: 1.21 s\n",
      "Wall time: 1.22 s\n"
     ]
    }
   ],
   "source": [
    "%%time\n",
    "res_df = pd.merge(df, labels[['encoded_customerID', 'target']], on='encoded_customerID', how='left')"
   ],
   "metadata": {
    "collapsed": false,
    "ExecuteTime": {
     "end_time": "2023-05-18T18:54:12.738706207Z",
     "start_time": "2023-05-18T18:54:11.524458543Z"
    }
   }
  },
  {
   "cell_type": "code",
   "execution_count": 11,
   "outputs": [
    {
     "name": "stdout",
     "output_type": "stream",
     "text": [
      "<class 'pandas.core.frame.DataFrame'>\n",
      "RangeIndex: 5531451 entries, 0 to 5531450\n",
      "Data columns (total 23 columns):\n",
      " #   Column              Dtype  \n",
      "---  ------              -----  \n",
      " 0   S_2                 object \n",
      " 1   S_3                 float64\n",
      " 2   S_5                 float64\n",
      " 3   S_6                 float64\n",
      " 4   S_7                 float64\n",
      " 5   S_8                 float64\n",
      " 6   S_9                 float64\n",
      " 7   S_11                float64\n",
      " 8   S_12                float64\n",
      " 9   S_13                float64\n",
      " 10  S_15                float64\n",
      " 11  S_16                float64\n",
      " 12  S_17                float64\n",
      " 13  S_18                float64\n",
      " 14  S_19                float64\n",
      " 15  S_20                float64\n",
      " 16  S_22                float64\n",
      " 17  S_23                float64\n",
      " 18  S_24                float64\n",
      " 19  S_25                float64\n",
      " 20  S_26                float64\n",
      " 21  S_27                float64\n",
      " 22  encoded_customerID  int64  \n",
      "dtypes: float64(21), int64(1), object(1)\n",
      "memory usage: 970.6+ MB\n",
      "CPU times: user 4.38 ms, sys: 140 µs, total: 4.52 ms\n",
      "Wall time: 4.34 ms\n"
     ]
    }
   ],
   "source": [
    "%%time\n",
    "df.info()"
   ],
   "metadata": {
    "collapsed": false,
    "ExecuteTime": {
     "end_time": "2023-05-18T18:54:19.765188992Z",
     "start_time": "2023-05-18T18:54:19.725532791Z"
    }
   }
  },
  {
   "cell_type": "code",
   "execution_count": 12,
   "outputs": [
    {
     "name": "stdout",
     "output_type": "stream",
     "text": [
      "CPU times: user 463 ms, sys: 174 ms, total: 637 ms\n",
      "Wall time: 634 ms\n"
     ]
    },
    {
     "data": {
      "text/plain": "           S_2       S_3       S_5       S_6       S_7       S_8       S_9  \\\n0   2017-03-09  0.124035  0.023381  0.008322  0.161345  0.922998  0.065728   \n12  2018-03-13  0.135021  0.034643  0.001770  0.105671  0.488232  0.007397   \n11  2018-02-21  0.102985  0.050146  0.006510  0.077352  0.755829  0.013617   \n10  2018-01-11  0.098882  0.019882  0.001316  0.078365  0.760185  0.025088   \n8   2017-11-20  0.102792  0.018507  0.007017  0.077196  0.755512  0.022444   \n\n        S_11      S_12      S_13  ...      S_19      S_20      S_22      S_23  \\\n0   0.401619  0.272008  0.515222  ...  0.002537  0.009705  0.894090  0.135561   \n12  0.402246  0.184036  0.686719  ...  0.003511  0.009411  0.917811  0.131801   \n11  0.561116  0.187413  0.846702  ...  0.000869  0.004063  0.933347  0.136322   \n10  0.527528  0.337158  0.844368  ...  0.009329  0.007727  0.904130  0.134465   \n8   0.566488  0.158364  0.847128  ...  0.000423  0.001502  0.933269  0.136099   \n\n        S_24      S_25      S_26      S_27  encoded_customerID  target  \n0   0.911191  0.974539  0.001243  0.676922                   0       0  \n12  0.936067  0.971994  0.001281  0.928955                   0       0  \n11  0.950119  0.979136  0.003096  0.979416                   0       0  \n10  0.914822  0.974201  0.005251  0.953257                   0       0  \n8   0.950548  0.974641  0.014254  0.811097                   0       0  \n\n[5 rows x 24 columns]",
      "text/html": "<div>\n<style scoped>\n    .dataframe tbody tr th:only-of-type {\n        vertical-align: middle;\n    }\n\n    .dataframe tbody tr th {\n        vertical-align: top;\n    }\n\n    .dataframe thead th {\n        text-align: right;\n    }\n</style>\n<table border=\"1\" class=\"dataframe\">\n  <thead>\n    <tr style=\"text-align: right;\">\n      <th></th>\n      <th>S_2</th>\n      <th>S_3</th>\n      <th>S_5</th>\n      <th>S_6</th>\n      <th>S_7</th>\n      <th>S_8</th>\n      <th>S_9</th>\n      <th>S_11</th>\n      <th>S_12</th>\n      <th>S_13</th>\n      <th>...</th>\n      <th>S_19</th>\n      <th>S_20</th>\n      <th>S_22</th>\n      <th>S_23</th>\n      <th>S_24</th>\n      <th>S_25</th>\n      <th>S_26</th>\n      <th>S_27</th>\n      <th>encoded_customerID</th>\n      <th>target</th>\n    </tr>\n  </thead>\n  <tbody>\n    <tr>\n      <th>0</th>\n      <td>2017-03-09</td>\n      <td>0.124035</td>\n      <td>0.023381</td>\n      <td>0.008322</td>\n      <td>0.161345</td>\n      <td>0.922998</td>\n      <td>0.065728</td>\n      <td>0.401619</td>\n      <td>0.272008</td>\n      <td>0.515222</td>\n      <td>...</td>\n      <td>0.002537</td>\n      <td>0.009705</td>\n      <td>0.894090</td>\n      <td>0.135561</td>\n      <td>0.911191</td>\n      <td>0.974539</td>\n      <td>0.001243</td>\n      <td>0.676922</td>\n      <td>0</td>\n      <td>0</td>\n    </tr>\n    <tr>\n      <th>12</th>\n      <td>2018-03-13</td>\n      <td>0.135021</td>\n      <td>0.034643</td>\n      <td>0.001770</td>\n      <td>0.105671</td>\n      <td>0.488232</td>\n      <td>0.007397</td>\n      <td>0.402246</td>\n      <td>0.184036</td>\n      <td>0.686719</td>\n      <td>...</td>\n      <td>0.003511</td>\n      <td>0.009411</td>\n      <td>0.917811</td>\n      <td>0.131801</td>\n      <td>0.936067</td>\n      <td>0.971994</td>\n      <td>0.001281</td>\n      <td>0.928955</td>\n      <td>0</td>\n      <td>0</td>\n    </tr>\n    <tr>\n      <th>11</th>\n      <td>2018-02-21</td>\n      <td>0.102985</td>\n      <td>0.050146</td>\n      <td>0.006510</td>\n      <td>0.077352</td>\n      <td>0.755829</td>\n      <td>0.013617</td>\n      <td>0.561116</td>\n      <td>0.187413</td>\n      <td>0.846702</td>\n      <td>...</td>\n      <td>0.000869</td>\n      <td>0.004063</td>\n      <td>0.933347</td>\n      <td>0.136322</td>\n      <td>0.950119</td>\n      <td>0.979136</td>\n      <td>0.003096</td>\n      <td>0.979416</td>\n      <td>0</td>\n      <td>0</td>\n    </tr>\n    <tr>\n      <th>10</th>\n      <td>2018-01-11</td>\n      <td>0.098882</td>\n      <td>0.019882</td>\n      <td>0.001316</td>\n      <td>0.078365</td>\n      <td>0.760185</td>\n      <td>0.025088</td>\n      <td>0.527528</td>\n      <td>0.337158</td>\n      <td>0.844368</td>\n      <td>...</td>\n      <td>0.009329</td>\n      <td>0.007727</td>\n      <td>0.904130</td>\n      <td>0.134465</td>\n      <td>0.914822</td>\n      <td>0.974201</td>\n      <td>0.005251</td>\n      <td>0.953257</td>\n      <td>0</td>\n      <td>0</td>\n    </tr>\n    <tr>\n      <th>8</th>\n      <td>2017-11-20</td>\n      <td>0.102792</td>\n      <td>0.018507</td>\n      <td>0.007017</td>\n      <td>0.077196</td>\n      <td>0.755512</td>\n      <td>0.022444</td>\n      <td>0.566488</td>\n      <td>0.158364</td>\n      <td>0.847128</td>\n      <td>...</td>\n      <td>0.000423</td>\n      <td>0.001502</td>\n      <td>0.933269</td>\n      <td>0.136099</td>\n      <td>0.950548</td>\n      <td>0.974641</td>\n      <td>0.014254</td>\n      <td>0.811097</td>\n      <td>0</td>\n      <td>0</td>\n    </tr>\n  </tbody>\n</table>\n<p>5 rows × 24 columns</p>\n</div>"
     },
     "execution_count": 12,
     "metadata": {},
     "output_type": "execute_result"
    }
   ],
   "source": [
    "%%time\n",
    "df2 = res_df.sort_values('encoded_customerID')\n",
    "df2.head()"
   ],
   "metadata": {
    "collapsed": false,
    "ExecuteTime": {
     "end_time": "2023-05-18T18:54:47.658963203Z",
     "start_time": "2023-05-18T18:54:47.029491022Z"
    }
   }
  },
  {
   "cell_type": "code",
   "execution_count": 13,
   "outputs": [
    {
     "name": "stdout",
     "output_type": "stream",
     "text": [
      "CPU times: user 3 µs, sys: 1 µs, total: 4 µs\n",
      "Wall time: 5.72 µs\n"
     ]
    }
   ],
   "source": [
    "%%time\n",
    "# Column Profiling: data type, null percentage, describe (min, max, [5,25,50,75,95], mean, std, variance)\n",
    "\n",
    "def col_profiling(col_series):\n",
    "    res_dict = {'datatype': col_series.dtype,\n",
    "                'null_pct': col_series.isna().sum()*100/len(col_series),\n",
    "                'min_val': col_series.min(),\n",
    "                'max_val': col_series.max(),\n",
    "                'mean_val': col_series.mean(),\n",
    "                'std': col_series.std(),\n",
    "                'variance': col_series.std(),\n",
    "                '5_pct': col_series.quantile(q=0.05),\n",
    "                '25_pct': col_series.quantile(q=0.25),\n",
    "                '50_pct': col_series.quantile(q=0.5),\n",
    "                '75_pct': col_series.quantile(q=0.75),\n",
    "                '95_pct': col_series.quantile(q=0.95),\n",
    "                'pct_uniq': col_series.nunique() / len(col_series),\n",
    "                'num_unique': col_series.nunique()}\n",
    "    return res_dict"
   ],
   "metadata": {
    "collapsed": false,
    "ExecuteTime": {
     "end_time": "2023-05-18T18:55:38.529071126Z",
     "start_time": "2023-05-18T18:55:38.507798914Z"
    }
   }
  },
  {
   "cell_type": "code",
   "execution_count": 14,
   "outputs": [
    {
     "name": "stdout",
     "output_type": "stream",
     "text": [
      "categorical column is S_2\n",
      "CPU times: user 43.2 s, sys: 3.85 s, total: 47.1 s\n",
      "Wall time: 47.1 s\n"
     ]
    }
   ],
   "source": [
    "%%time\n",
    "# Column Profiling on delinquency variables\n",
    "ls = []\n",
    "for item in res_df:\n",
    "    if res_df[item].dtype == np.float64 or res_df[item].dtype == np.int64:\n",
    "        res = col_profiling(res_df[item])\n",
    "        res['column_name'] = item\n",
    "        ls.append(res)\n",
    "    else:\n",
    "        print(f\"categorical column is {item}\")"
   ],
   "metadata": {
    "collapsed": false,
    "ExecuteTime": {
     "end_time": "2023-05-18T18:56:37.371611300Z",
     "start_time": "2023-05-18T18:55:50.225189610Z"
    }
   }
  },
  {
   "cell_type": "code",
   "execution_count": 15,
   "outputs": [
    {
     "name": "stdout",
     "output_type": "stream",
     "text": [
      "CPU times: user 3.43 ms, sys: 0 ns, total: 3.43 ms\n",
      "Wall time: 9.17 ms\n"
     ]
    }
   ],
   "source": [
    "%%time\n",
    "col_profile_df = pd.DataFrame(ls).set_index('column_name').reset_index()"
   ],
   "metadata": {
    "collapsed": false,
    "ExecuteTime": {
     "end_time": "2023-05-18T18:56:37.372222350Z",
     "start_time": "2023-05-18T18:56:37.371276330Z"
    }
   }
  },
  {
   "cell_type": "code",
   "execution_count": 16,
   "outputs": [
    {
     "name": "stdout",
     "output_type": "stream",
     "text": [
      "CPU times: user 550 µs, sys: 130 µs, total: 680 µs\n",
      "Wall time: 604 µs\n"
     ]
    },
    {
     "data": {
      "text/plain": "    index         column_name datatype   null_pct       min_val  \\\n0       0                 S_3  float64  18.449843 -6.271320e-01   \n1       1                 S_5  float64   0.000000  8.168135e-09   \n2       2                 S_6  float64   0.000000  2.541465e-09   \n3       3                 S_7  float64  18.449843 -4.701318e-01   \n4       4                 S_8  float64   0.000000  6.187214e-09   \n5       5                 S_9  float64  53.035686  2.823498e-07   \n6       6                S_11  float64   0.000000 -1.999987e-01   \n7       7                S_12  float64   0.000000 -4.041090e-01   \n8       8                S_13  float64   0.000000  3.655658e-09   \n9       9                S_15  float64   0.000000 -2.999998e-01   \n10     10                S_16  float64   0.000000  5.083305e-09   \n11     11                S_17  float64   0.000000  1.019806e-09   \n12     12                S_18  float64   0.000000  4.075929e-11   \n13     13                S_19  float64   0.000000  3.156390e-09   \n14     14                S_20  float64   0.000000  6.887991e-10   \n15     15                S_22  float64   0.343924 -9.199816e+01   \n16     16                S_23  float64   0.008045 -2.060855e+02   \n17     17                S_24  float64   0.336132 -9.048382e+01   \n18     18                S_25  float64   0.232254 -2.453451e+00   \n19     19                S_26  float64   0.011462  5.137101e-09   \n20     20                S_27  float64  25.326718  4.417077e-10   \n21     21  encoded_customerID    int64   0.000000  0.000000e+00   \n22     22              target    int64   0.000000  0.000000e+00   \n\n          max_val       mean_val            std       variance         5_pct  \\\n0        5.482888       0.225845       0.193347       0.193347      0.061843   \n1      206.875280       0.088105       0.407405       0.407405      0.001201   \n2        1.010000       0.244192       0.426600       0.426600      0.000657   \n3        3.948271       0.223138       0.206303       0.206303      0.047377   \n4        1.231413       0.327600       0.303089       0.303089      0.001531   \n5        2.839635       0.074415       0.195998       0.195998      0.003740   \n6        3.801432       0.375333       0.191010       0.191010      0.127044   \n7      175.331420       0.240463       0.250719       0.250719      0.152052   \n8        1.010000       0.254672       0.296670       0.296670      0.000978   \n9        5.308959       0.374791       0.195098       0.195098      0.103444   \n10     231.758947       0.050816       0.772487       0.772487      0.000512   \n11       4.049070       0.039720       0.241023       0.241023      0.000537   \n12       1.010000       0.031466       0.160546       0.160546      0.000512   \n13       1.004729       0.005026       0.003069       0.003069      0.000499   \n14       1.010000       0.017487       0.111088       0.111088      0.000506   \n15       1.032727       0.779104       0.718747       0.718747      0.296049   \n16     885.334922       0.179677       0.851958       0.851958      0.131187   \n17       1.055638       0.734920       0.835673       0.835673      0.077353   \n18       4.052048       0.925038       0.206805       0.206805      0.539935   \n19     136.665991       0.066840       0.463808       0.463808      0.000691   \n20       5.456269       0.277979       0.325033       0.325033      0.001272   \n21  458912.000000  229419.424355  132490.213791  132490.213791  22922.000000   \n22       1.000000       0.249097       0.432490       0.432490      0.000000   \n\n           25_pct         50_pct         75_pct         95_pct      pct_uniq  \\\n0        0.127259       0.163908       0.258102       0.606294  8.155016e-01   \n1        0.005636       0.013521       0.071321       0.364554  1.000000e+00   \n2        0.003285       0.006573       0.009859       1.007908  1.000000e+00   \n3        0.093729       0.139701       0.295459       0.630570  8.155016e-01   \n4        0.007645       0.321748       0.494937       0.860053  1.000000e+00   \n5        0.009789       0.019494       0.053228       0.309800  4.696431e-01   \n6        0.282444       0.289731       0.448762       0.728535  1.000000e+00   \n7        0.186898       0.190826       0.208876       0.504739  1.000000e+00   \n8        0.004895       0.009797       0.427720       0.850122  1.000000e+00   \n9        0.207550       0.401843       0.504834       0.607153  1.000000e+00   \n10       0.002553       0.005104       0.007657       0.009699  1.000000e+00   \n11       0.002686       0.005367       0.008050       0.084363  9.999998e-01   \n12       0.002571       0.005134       0.007701       0.009757  1.000000e+00   \n13       0.002504       0.005008       0.007511       0.009515  1.000000e+00   \n14       0.002533       0.005062       0.007592       0.009619  1.000000e+00   \n15       0.811197       0.942213       0.964773       0.988800  9.965608e-01   \n16       0.133425       0.136223       0.139017       0.531144  9.999196e-01   \n17       0.809452       0.949325       0.971576       0.991589  9.966387e-01   \n18       0.970874       0.973677       0.976482       0.978723  9.976775e-01   \n19       0.003413       0.006755       0.011033       0.287140  9.998854e-01   \n20       0.006365       0.290514       0.447796       0.676093  7.467328e-01   \n21  114669.000000  229380.000000  344209.000000  435977.000000  8.296431e-02   \n22       0.000000       0.000000       0.000000       1.000000  3.615688e-07   \n\n    num_unique  \n0      4510907  \n1      5531451  \n2      5531451  \n3      4510907  \n4      5531451  \n5      2597808  \n6      5531451  \n7      5531451  \n8      5531451  \n9      5531451  \n10     5531451  \n11     5531450  \n12     5531451  \n13     5531451  \n14     5531451  \n15     5512427  \n16     5531006  \n17     5512858  \n18     5518604  \n19     5530817  \n20     4130516  \n21      458913  \n22           2  ",
      "text/html": "<div>\n<style scoped>\n    .dataframe tbody tr th:only-of-type {\n        vertical-align: middle;\n    }\n\n    .dataframe tbody tr th {\n        vertical-align: top;\n    }\n\n    .dataframe thead th {\n        text-align: right;\n    }\n</style>\n<table border=\"1\" class=\"dataframe\">\n  <thead>\n    <tr style=\"text-align: right;\">\n      <th></th>\n      <th>index</th>\n      <th>column_name</th>\n      <th>datatype</th>\n      <th>null_pct</th>\n      <th>min_val</th>\n      <th>max_val</th>\n      <th>mean_val</th>\n      <th>std</th>\n      <th>variance</th>\n      <th>5_pct</th>\n      <th>25_pct</th>\n      <th>50_pct</th>\n      <th>75_pct</th>\n      <th>95_pct</th>\n      <th>pct_uniq</th>\n      <th>num_unique</th>\n    </tr>\n  </thead>\n  <tbody>\n    <tr>\n      <th>0</th>\n      <td>0</td>\n      <td>S_3</td>\n      <td>float64</td>\n      <td>18.449843</td>\n      <td>-6.271320e-01</td>\n      <td>5.482888</td>\n      <td>0.225845</td>\n      <td>0.193347</td>\n      <td>0.193347</td>\n      <td>0.061843</td>\n      <td>0.127259</td>\n      <td>0.163908</td>\n      <td>0.258102</td>\n      <td>0.606294</td>\n      <td>8.155016e-01</td>\n      <td>4510907</td>\n    </tr>\n    <tr>\n      <th>1</th>\n      <td>1</td>\n      <td>S_5</td>\n      <td>float64</td>\n      <td>0.000000</td>\n      <td>8.168135e-09</td>\n      <td>206.875280</td>\n      <td>0.088105</td>\n      <td>0.407405</td>\n      <td>0.407405</td>\n      <td>0.001201</td>\n      <td>0.005636</td>\n      <td>0.013521</td>\n      <td>0.071321</td>\n      <td>0.364554</td>\n      <td>1.000000e+00</td>\n      <td>5531451</td>\n    </tr>\n    <tr>\n      <th>2</th>\n      <td>2</td>\n      <td>S_6</td>\n      <td>float64</td>\n      <td>0.000000</td>\n      <td>2.541465e-09</td>\n      <td>1.010000</td>\n      <td>0.244192</td>\n      <td>0.426600</td>\n      <td>0.426600</td>\n      <td>0.000657</td>\n      <td>0.003285</td>\n      <td>0.006573</td>\n      <td>0.009859</td>\n      <td>1.007908</td>\n      <td>1.000000e+00</td>\n      <td>5531451</td>\n    </tr>\n    <tr>\n      <th>3</th>\n      <td>3</td>\n      <td>S_7</td>\n      <td>float64</td>\n      <td>18.449843</td>\n      <td>-4.701318e-01</td>\n      <td>3.948271</td>\n      <td>0.223138</td>\n      <td>0.206303</td>\n      <td>0.206303</td>\n      <td>0.047377</td>\n      <td>0.093729</td>\n      <td>0.139701</td>\n      <td>0.295459</td>\n      <td>0.630570</td>\n      <td>8.155016e-01</td>\n      <td>4510907</td>\n    </tr>\n    <tr>\n      <th>4</th>\n      <td>4</td>\n      <td>S_8</td>\n      <td>float64</td>\n      <td>0.000000</td>\n      <td>6.187214e-09</td>\n      <td>1.231413</td>\n      <td>0.327600</td>\n      <td>0.303089</td>\n      <td>0.303089</td>\n      <td>0.001531</td>\n      <td>0.007645</td>\n      <td>0.321748</td>\n      <td>0.494937</td>\n      <td>0.860053</td>\n      <td>1.000000e+00</td>\n      <td>5531451</td>\n    </tr>\n    <tr>\n      <th>5</th>\n      <td>5</td>\n      <td>S_9</td>\n      <td>float64</td>\n      <td>53.035686</td>\n      <td>2.823498e-07</td>\n      <td>2.839635</td>\n      <td>0.074415</td>\n      <td>0.195998</td>\n      <td>0.195998</td>\n      <td>0.003740</td>\n      <td>0.009789</td>\n      <td>0.019494</td>\n      <td>0.053228</td>\n      <td>0.309800</td>\n      <td>4.696431e-01</td>\n      <td>2597808</td>\n    </tr>\n    <tr>\n      <th>6</th>\n      <td>6</td>\n      <td>S_11</td>\n      <td>float64</td>\n      <td>0.000000</td>\n      <td>-1.999987e-01</td>\n      <td>3.801432</td>\n      <td>0.375333</td>\n      <td>0.191010</td>\n      <td>0.191010</td>\n      <td>0.127044</td>\n      <td>0.282444</td>\n      <td>0.289731</td>\n      <td>0.448762</td>\n      <td>0.728535</td>\n      <td>1.000000e+00</td>\n      <td>5531451</td>\n    </tr>\n    <tr>\n      <th>7</th>\n      <td>7</td>\n      <td>S_12</td>\n      <td>float64</td>\n      <td>0.000000</td>\n      <td>-4.041090e-01</td>\n      <td>175.331420</td>\n      <td>0.240463</td>\n      <td>0.250719</td>\n      <td>0.250719</td>\n      <td>0.152052</td>\n      <td>0.186898</td>\n      <td>0.190826</td>\n      <td>0.208876</td>\n      <td>0.504739</td>\n      <td>1.000000e+00</td>\n      <td>5531451</td>\n    </tr>\n    <tr>\n      <th>8</th>\n      <td>8</td>\n      <td>S_13</td>\n      <td>float64</td>\n      <td>0.000000</td>\n      <td>3.655658e-09</td>\n      <td>1.010000</td>\n      <td>0.254672</td>\n      <td>0.296670</td>\n      <td>0.296670</td>\n      <td>0.000978</td>\n      <td>0.004895</td>\n      <td>0.009797</td>\n      <td>0.427720</td>\n      <td>0.850122</td>\n      <td>1.000000e+00</td>\n      <td>5531451</td>\n    </tr>\n    <tr>\n      <th>9</th>\n      <td>9</td>\n      <td>S_15</td>\n      <td>float64</td>\n      <td>0.000000</td>\n      <td>-2.999998e-01</td>\n      <td>5.308959</td>\n      <td>0.374791</td>\n      <td>0.195098</td>\n      <td>0.195098</td>\n      <td>0.103444</td>\n      <td>0.207550</td>\n      <td>0.401843</td>\n      <td>0.504834</td>\n      <td>0.607153</td>\n      <td>1.000000e+00</td>\n      <td>5531451</td>\n    </tr>\n    <tr>\n      <th>10</th>\n      <td>10</td>\n      <td>S_16</td>\n      <td>float64</td>\n      <td>0.000000</td>\n      <td>5.083305e-09</td>\n      <td>231.758947</td>\n      <td>0.050816</td>\n      <td>0.772487</td>\n      <td>0.772487</td>\n      <td>0.000512</td>\n      <td>0.002553</td>\n      <td>0.005104</td>\n      <td>0.007657</td>\n      <td>0.009699</td>\n      <td>1.000000e+00</td>\n      <td>5531451</td>\n    </tr>\n    <tr>\n      <th>11</th>\n      <td>11</td>\n      <td>S_17</td>\n      <td>float64</td>\n      <td>0.000000</td>\n      <td>1.019806e-09</td>\n      <td>4.049070</td>\n      <td>0.039720</td>\n      <td>0.241023</td>\n      <td>0.241023</td>\n      <td>0.000537</td>\n      <td>0.002686</td>\n      <td>0.005367</td>\n      <td>0.008050</td>\n      <td>0.084363</td>\n      <td>9.999998e-01</td>\n      <td>5531450</td>\n    </tr>\n    <tr>\n      <th>12</th>\n      <td>12</td>\n      <td>S_18</td>\n      <td>float64</td>\n      <td>0.000000</td>\n      <td>4.075929e-11</td>\n      <td>1.010000</td>\n      <td>0.031466</td>\n      <td>0.160546</td>\n      <td>0.160546</td>\n      <td>0.000512</td>\n      <td>0.002571</td>\n      <td>0.005134</td>\n      <td>0.007701</td>\n      <td>0.009757</td>\n      <td>1.000000e+00</td>\n      <td>5531451</td>\n    </tr>\n    <tr>\n      <th>13</th>\n      <td>13</td>\n      <td>S_19</td>\n      <td>float64</td>\n      <td>0.000000</td>\n      <td>3.156390e-09</td>\n      <td>1.004729</td>\n      <td>0.005026</td>\n      <td>0.003069</td>\n      <td>0.003069</td>\n      <td>0.000499</td>\n      <td>0.002504</td>\n      <td>0.005008</td>\n      <td>0.007511</td>\n      <td>0.009515</td>\n      <td>1.000000e+00</td>\n      <td>5531451</td>\n    </tr>\n    <tr>\n      <th>14</th>\n      <td>14</td>\n      <td>S_20</td>\n      <td>float64</td>\n      <td>0.000000</td>\n      <td>6.887991e-10</td>\n      <td>1.010000</td>\n      <td>0.017487</td>\n      <td>0.111088</td>\n      <td>0.111088</td>\n      <td>0.000506</td>\n      <td>0.002533</td>\n      <td>0.005062</td>\n      <td>0.007592</td>\n      <td>0.009619</td>\n      <td>1.000000e+00</td>\n      <td>5531451</td>\n    </tr>\n    <tr>\n      <th>15</th>\n      <td>15</td>\n      <td>S_22</td>\n      <td>float64</td>\n      <td>0.343924</td>\n      <td>-9.199816e+01</td>\n      <td>1.032727</td>\n      <td>0.779104</td>\n      <td>0.718747</td>\n      <td>0.718747</td>\n      <td>0.296049</td>\n      <td>0.811197</td>\n      <td>0.942213</td>\n      <td>0.964773</td>\n      <td>0.988800</td>\n      <td>9.965608e-01</td>\n      <td>5512427</td>\n    </tr>\n    <tr>\n      <th>16</th>\n      <td>16</td>\n      <td>S_23</td>\n      <td>float64</td>\n      <td>0.008045</td>\n      <td>-2.060855e+02</td>\n      <td>885.334922</td>\n      <td>0.179677</td>\n      <td>0.851958</td>\n      <td>0.851958</td>\n      <td>0.131187</td>\n      <td>0.133425</td>\n      <td>0.136223</td>\n      <td>0.139017</td>\n      <td>0.531144</td>\n      <td>9.999196e-01</td>\n      <td>5531006</td>\n    </tr>\n    <tr>\n      <th>17</th>\n      <td>17</td>\n      <td>S_24</td>\n      <td>float64</td>\n      <td>0.336132</td>\n      <td>-9.048382e+01</td>\n      <td>1.055638</td>\n      <td>0.734920</td>\n      <td>0.835673</td>\n      <td>0.835673</td>\n      <td>0.077353</td>\n      <td>0.809452</td>\n      <td>0.949325</td>\n      <td>0.971576</td>\n      <td>0.991589</td>\n      <td>9.966387e-01</td>\n      <td>5512858</td>\n    </tr>\n    <tr>\n      <th>18</th>\n      <td>18</td>\n      <td>S_25</td>\n      <td>float64</td>\n      <td>0.232254</td>\n      <td>-2.453451e+00</td>\n      <td>4.052048</td>\n      <td>0.925038</td>\n      <td>0.206805</td>\n      <td>0.206805</td>\n      <td>0.539935</td>\n      <td>0.970874</td>\n      <td>0.973677</td>\n      <td>0.976482</td>\n      <td>0.978723</td>\n      <td>9.976775e-01</td>\n      <td>5518604</td>\n    </tr>\n    <tr>\n      <th>19</th>\n      <td>19</td>\n      <td>S_26</td>\n      <td>float64</td>\n      <td>0.011462</td>\n      <td>5.137101e-09</td>\n      <td>136.665991</td>\n      <td>0.066840</td>\n      <td>0.463808</td>\n      <td>0.463808</td>\n      <td>0.000691</td>\n      <td>0.003413</td>\n      <td>0.006755</td>\n      <td>0.011033</td>\n      <td>0.287140</td>\n      <td>9.998854e-01</td>\n      <td>5530817</td>\n    </tr>\n    <tr>\n      <th>20</th>\n      <td>20</td>\n      <td>S_27</td>\n      <td>float64</td>\n      <td>25.326718</td>\n      <td>4.417077e-10</td>\n      <td>5.456269</td>\n      <td>0.277979</td>\n      <td>0.325033</td>\n      <td>0.325033</td>\n      <td>0.001272</td>\n      <td>0.006365</td>\n      <td>0.290514</td>\n      <td>0.447796</td>\n      <td>0.676093</td>\n      <td>7.467328e-01</td>\n      <td>4130516</td>\n    </tr>\n    <tr>\n      <th>21</th>\n      <td>21</td>\n      <td>encoded_customerID</td>\n      <td>int64</td>\n      <td>0.000000</td>\n      <td>0.000000e+00</td>\n      <td>458912.000000</td>\n      <td>229419.424355</td>\n      <td>132490.213791</td>\n      <td>132490.213791</td>\n      <td>22922.000000</td>\n      <td>114669.000000</td>\n      <td>229380.000000</td>\n      <td>344209.000000</td>\n      <td>435977.000000</td>\n      <td>8.296431e-02</td>\n      <td>458913</td>\n    </tr>\n    <tr>\n      <th>22</th>\n      <td>22</td>\n      <td>target</td>\n      <td>int64</td>\n      <td>0.000000</td>\n      <td>0.000000e+00</td>\n      <td>1.000000</td>\n      <td>0.249097</td>\n      <td>0.432490</td>\n      <td>0.432490</td>\n      <td>0.000000</td>\n      <td>0.000000</td>\n      <td>0.000000</td>\n      <td>0.000000</td>\n      <td>1.000000</td>\n      <td>3.615688e-07</td>\n      <td>2</td>\n    </tr>\n  </tbody>\n</table>\n</div>"
     },
     "execution_count": 16,
     "metadata": {},
     "output_type": "execute_result"
    }
   ],
   "source": [
    "%%time\n",
    "col_profile_df = col_profile_df.reset_index()\n",
    "col_profile_df"
   ],
   "metadata": {
    "collapsed": false,
    "ExecuteTime": {
     "end_time": "2023-05-18T18:56:37.373038855Z",
     "start_time": "2023-05-18T18:56:37.371866610Z"
    }
   }
  },
  {
   "cell_type": "code",
   "execution_count": 21,
   "outputs": [
    {
     "name": "stdout",
     "output_type": "stream",
     "text": [
      "CPU times: user 477 µs, sys: 126 µs, total: 603 µs\n",
      "Wall time: 594 µs\n"
     ]
    }
   ],
   "source": [
    "%%time\n",
    "all_uniq = col_profile_df.loc[col_profile_df['pct_uniq']==1, 'column_name'].values.tolist()"
   ],
   "metadata": {
    "collapsed": false,
    "ExecuteTime": {
     "end_time": "2023-05-18T18:57:28.599663148Z",
     "start_time": "2023-05-18T18:57:28.576544421Z"
    }
   }
  },
  {
   "cell_type": "code",
   "execution_count": 22,
   "outputs": [
    {
     "name": "stdout",
     "output_type": "stream",
     "text": [
      "CPU times: user 88.1 ms, sys: 36 ms, total: 124 ms\n",
      "Wall time: 123 ms\n"
     ]
    }
   ],
   "source": [
    "%%time\n",
    "all_uniq_df = df[all_uniq+['encoded_customerID']]"
   ],
   "metadata": {
    "collapsed": false,
    "ExecuteTime": {
     "end_time": "2023-05-18T18:57:30.564566726Z",
     "start_time": "2023-05-18T18:57:30.520253621Z"
    }
   }
  },
  {
   "cell_type": "code",
   "execution_count": 23,
   "outputs": [
    {
     "data": {
      "text/plain": "              S_5       S_6       S_8      S_11      S_12      S_13      S_15  \\\n0        0.023381  0.008322  0.922998  0.401619  0.272008  0.515222  0.108271   \n1        0.030599  0.002482  0.919414  0.406326  0.188970  0.509048  0.101018   \n2        0.048367  0.000530  1.001977  0.406768  0.495308  0.679257  0.103239   \n3        0.030063  0.000783  0.704016  0.405175  0.508670  0.515282  0.206394   \n4        0.054221  0.006698  0.917133  0.487460  0.216507  0.507712  0.106020   \n...           ...       ...       ...       ...       ...       ...       ...   \n5531446  0.036700  0.000038  0.705097  0.483833  0.188514  0.511308  0.204409   \n5531447  0.008777  0.004619  0.705059  0.244838  0.188050  0.423013  0.203718   \n5531448  0.004308  0.009737  0.326980  0.800476  0.192534  0.006100  0.200470   \n5531449  0.004883  0.005403  0.327939  0.965168  0.187689  0.003913  0.209341   \n5531450  0.004580  0.005609  0.006674  0.280465  0.191495  0.007736  0.505329   \n\n             S_16      S_18      S_19      S_20  encoded_customerID  \n0        0.002271  0.005720  0.002537  0.009705                   0  \n1        0.009810  0.007584  0.008427  0.009924                   0  \n2        0.009362  0.005901  0.007327  0.008446                   0  \n3        0.004876  0.002520  0.007053  0.006614                   0  \n4        0.007447  0.000155  0.007728  0.005511                   0  \n...           ...       ...       ...       ...                 ...  \n5531446  0.008612  0.000671  0.003172  0.004446              458912  \n5531447  0.008065  0.000642  0.009408  0.007979              458912  \n5531448  0.005897  0.003940  0.006900  0.007489              458912  \n5531449  0.002804  0.001741  0.005462  0.005034              458912  \n5531450  0.007231  0.008365  0.006033  0.009264              458912  \n\n[5531451 rows x 12 columns]",
      "text/html": "<div>\n<style scoped>\n    .dataframe tbody tr th:only-of-type {\n        vertical-align: middle;\n    }\n\n    .dataframe tbody tr th {\n        vertical-align: top;\n    }\n\n    .dataframe thead th {\n        text-align: right;\n    }\n</style>\n<table border=\"1\" class=\"dataframe\">\n  <thead>\n    <tr style=\"text-align: right;\">\n      <th></th>\n      <th>S_5</th>\n      <th>S_6</th>\n      <th>S_8</th>\n      <th>S_11</th>\n      <th>S_12</th>\n      <th>S_13</th>\n      <th>S_15</th>\n      <th>S_16</th>\n      <th>S_18</th>\n      <th>S_19</th>\n      <th>S_20</th>\n      <th>encoded_customerID</th>\n    </tr>\n  </thead>\n  <tbody>\n    <tr>\n      <th>0</th>\n      <td>0.023381</td>\n      <td>0.008322</td>\n      <td>0.922998</td>\n      <td>0.401619</td>\n      <td>0.272008</td>\n      <td>0.515222</td>\n      <td>0.108271</td>\n      <td>0.002271</td>\n      <td>0.005720</td>\n      <td>0.002537</td>\n      <td>0.009705</td>\n      <td>0</td>\n    </tr>\n    <tr>\n      <th>1</th>\n      <td>0.030599</td>\n      <td>0.002482</td>\n      <td>0.919414</td>\n      <td>0.406326</td>\n      <td>0.188970</td>\n      <td>0.509048</td>\n      <td>0.101018</td>\n      <td>0.009810</td>\n      <td>0.007584</td>\n      <td>0.008427</td>\n      <td>0.009924</td>\n      <td>0</td>\n    </tr>\n    <tr>\n      <th>2</th>\n      <td>0.048367</td>\n      <td>0.000530</td>\n      <td>1.001977</td>\n      <td>0.406768</td>\n      <td>0.495308</td>\n      <td>0.679257</td>\n      <td>0.103239</td>\n      <td>0.009362</td>\n      <td>0.005901</td>\n      <td>0.007327</td>\n      <td>0.008446</td>\n      <td>0</td>\n    </tr>\n    <tr>\n      <th>3</th>\n      <td>0.030063</td>\n      <td>0.000783</td>\n      <td>0.704016</td>\n      <td>0.405175</td>\n      <td>0.508670</td>\n      <td>0.515282</td>\n      <td>0.206394</td>\n      <td>0.004876</td>\n      <td>0.002520</td>\n      <td>0.007053</td>\n      <td>0.006614</td>\n      <td>0</td>\n    </tr>\n    <tr>\n      <th>4</th>\n      <td>0.054221</td>\n      <td>0.006698</td>\n      <td>0.917133</td>\n      <td>0.487460</td>\n      <td>0.216507</td>\n      <td>0.507712</td>\n      <td>0.106020</td>\n      <td>0.007447</td>\n      <td>0.000155</td>\n      <td>0.007728</td>\n      <td>0.005511</td>\n      <td>0</td>\n    </tr>\n    <tr>\n      <th>...</th>\n      <td>...</td>\n      <td>...</td>\n      <td>...</td>\n      <td>...</td>\n      <td>...</td>\n      <td>...</td>\n      <td>...</td>\n      <td>...</td>\n      <td>...</td>\n      <td>...</td>\n      <td>...</td>\n      <td>...</td>\n    </tr>\n    <tr>\n      <th>5531446</th>\n      <td>0.036700</td>\n      <td>0.000038</td>\n      <td>0.705097</td>\n      <td>0.483833</td>\n      <td>0.188514</td>\n      <td>0.511308</td>\n      <td>0.204409</td>\n      <td>0.008612</td>\n      <td>0.000671</td>\n      <td>0.003172</td>\n      <td>0.004446</td>\n      <td>458912</td>\n    </tr>\n    <tr>\n      <th>5531447</th>\n      <td>0.008777</td>\n      <td>0.004619</td>\n      <td>0.705059</td>\n      <td>0.244838</td>\n      <td>0.188050</td>\n      <td>0.423013</td>\n      <td>0.203718</td>\n      <td>0.008065</td>\n      <td>0.000642</td>\n      <td>0.009408</td>\n      <td>0.007979</td>\n      <td>458912</td>\n    </tr>\n    <tr>\n      <th>5531448</th>\n      <td>0.004308</td>\n      <td>0.009737</td>\n      <td>0.326980</td>\n      <td>0.800476</td>\n      <td>0.192534</td>\n      <td>0.006100</td>\n      <td>0.200470</td>\n      <td>0.005897</td>\n      <td>0.003940</td>\n      <td>0.006900</td>\n      <td>0.007489</td>\n      <td>458912</td>\n    </tr>\n    <tr>\n      <th>5531449</th>\n      <td>0.004883</td>\n      <td>0.005403</td>\n      <td>0.327939</td>\n      <td>0.965168</td>\n      <td>0.187689</td>\n      <td>0.003913</td>\n      <td>0.209341</td>\n      <td>0.002804</td>\n      <td>0.001741</td>\n      <td>0.005462</td>\n      <td>0.005034</td>\n      <td>458912</td>\n    </tr>\n    <tr>\n      <th>5531450</th>\n      <td>0.004580</td>\n      <td>0.005609</td>\n      <td>0.006674</td>\n      <td>0.280465</td>\n      <td>0.191495</td>\n      <td>0.007736</td>\n      <td>0.505329</td>\n      <td>0.007231</td>\n      <td>0.008365</td>\n      <td>0.006033</td>\n      <td>0.009264</td>\n      <td>458912</td>\n    </tr>\n  </tbody>\n</table>\n<p>5531451 rows × 12 columns</p>\n</div>"
     },
     "execution_count": 23,
     "metadata": {},
     "output_type": "execute_result"
    }
   ],
   "source": [
    "all_uniq_df"
   ],
   "metadata": {
    "collapsed": false,
    "ExecuteTime": {
     "end_time": "2023-05-18T18:57:40.141780626Z",
     "start_time": "2023-05-18T18:57:40.114998007Z"
    }
   }
  },
  {
   "cell_type": "code",
   "execution_count": 24,
   "outputs": [
    {
     "name": "stdout",
     "output_type": "stream",
     "text": [
      "CPU times: user 8.25 s, sys: 537 ms, total: 8.78 s\n",
      "Wall time: 8.8 s\n"
     ]
    }
   ],
   "source": [
    "%%time\n",
    "res_df['target'] = res_df['target'].astype('category')\n",
    "lss = []\n",
    "for item in res_df:\n",
    "    if item in ['target', 'encoded_customerID']:\n",
    "        continue\n",
    "    else:\n",
    "        lss.append(pps.score(res_df, item, 'target'))"
   ],
   "metadata": {
    "collapsed": false,
    "ExecuteTime": {
     "end_time": "2023-05-18T18:58:17.233354572Z",
     "start_time": "2023-05-18T18:58:08.394066176Z"
    }
   }
  },
  {
   "cell_type": "code",
   "execution_count": 25,
   "outputs": [],
   "source": [
    "pps_score_result = pd.DataFrame(lss)"
   ],
   "metadata": {
    "collapsed": false,
    "ExecuteTime": {
     "end_time": "2023-05-18T18:58:17.242663572Z",
     "start_time": "2023-05-18T18:58:17.219690518Z"
    }
   }
  },
  {
   "cell_type": "code",
   "execution_count": 26,
   "outputs": [],
   "source": [
    "col_profile_df = pd.merge(col_profile_df, pps_score_result[['x', 'ppscore', 'baseline_score', 'model_score']], left_on='column_name', right_on='x',\n",
    "                          how='left')"
   ],
   "metadata": {
    "collapsed": false,
    "ExecuteTime": {
     "end_time": "2023-05-18T18:58:31.969058834Z",
     "start_time": "2023-05-18T18:58:31.947306567Z"
    }
   }
  },
  {
   "cell_type": "code",
   "execution_count": 27,
   "outputs": [],
   "source": [
    "col_profile_df['ppscore'] = np.round(col_profile_df['ppscore'], 2)"
   ],
   "metadata": {
    "collapsed": false,
    "ExecuteTime": {
     "end_time": "2023-05-18T18:58:40.545545821Z",
     "start_time": "2023-05-18T18:58:40.524521703Z"
    }
   }
  },
  {
   "cell_type": "code",
   "execution_count": 28,
   "outputs": [],
   "source": [
    "col_profile_df.to_csv(\"../data/metadata/column_profiling_spend.csv\", index=False)"
   ],
   "metadata": {
    "collapsed": false,
    "ExecuteTime": {
     "end_time": "2023-05-18T18:59:07.926008155Z",
     "start_time": "2023-05-18T18:59:07.905308587Z"
    }
   }
  },
  {
   "cell_type": "code",
   "execution_count": null,
   "outputs": [],
   "source": [],
   "metadata": {
    "collapsed": false
   }
  }
 ],
 "metadata": {
  "kernelspec": {
   "display_name": "Python 3",
   "language": "python",
   "name": "python3"
  },
  "language_info": {
   "codemirror_mode": {
    "name": "ipython",
    "version": 2
   },
   "file_extension": ".py",
   "mimetype": "text/x-python",
   "name": "python",
   "nbconvert_exporter": "python",
   "pygments_lexer": "ipython2",
   "version": "2.7.6"
  }
 },
 "nbformat": 4,
 "nbformat_minor": 0
}
