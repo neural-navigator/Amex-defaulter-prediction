{
 "cells": [
  {
   "cell_type": "code",
   "execution_count": 2,
   "metadata": {
    "collapsed": true,
    "ExecuteTime": {
     "end_time": "2023-05-16T15:49:22.126374918Z",
     "start_time": "2023-05-16T15:49:21.843415977Z"
    }
   },
   "outputs": [],
   "source": [
    "import os\n",
    "import numpy as np\n",
    "import pandas as pd"
   ]
  },
  {
   "cell_type": "code",
   "execution_count": 3,
   "outputs": [
    {
     "name": "stdout",
     "output_type": "stream",
     "text": [
      "{'../data/raw/train_labels.csv': 29.322805404663086, '../data/raw/test_data.csv': 32257.8899641037, '../data/raw/sample_submission.csv': 59.07977104187012, '../data/raw/train_data.csv': 15633.853614807129}\n"
     ]
    }
   ],
   "source": [
    "list_files = [os.path.join(\"../data/raw\", i) for i in os.listdir(\"../data/raw\")]\n",
    "size_files = [os.stat(i).st_size/(1024*1024) for i in list_files]\n",
    "print(dict(zip(list_files, size_files)))"
   ],
   "metadata": {
    "collapsed": false,
    "ExecuteTime": {
     "end_time": "2023-05-16T15:49:23.176257901Z",
     "start_time": "2023-05-16T15:49:23.159742373Z"
    }
   }
  },
  {
   "cell_type": "code",
   "execution_count": 4,
   "outputs": [],
   "source": [
    "train_label_df = pd.read_csv(\"../data/raw/train_labels.csv\")"
   ],
   "metadata": {
    "collapsed": false,
    "ExecuteTime": {
     "end_time": "2023-05-16T15:49:25.303815830Z",
     "start_time": "2023-05-16T15:49:24.740886499Z"
    }
   }
  },
  {
   "cell_type": "code",
   "execution_count": 5,
   "outputs": [
    {
     "data": {
      "text/plain": "                                         customer_ID  target\n0  0000099d6bd597052cdcda90ffabf56573fe9d7c79be5f...       0\n1  00000fd6641609c6ece5454664794f0340ad84dddce9a2...       0\n2  00001b22f846c82c51f6e3958ccd81970162bae8b007e8...       0\n3  000041bdba6ecadd89a52d11886e8eaaec9325906c9723...       0\n4  00007889e4fcd2614b6cbe7f8f3d2e5c728eca32d9eb8a...       0",
      "text/html": "<div>\n<style scoped>\n    .dataframe tbody tr th:only-of-type {\n        vertical-align: middle;\n    }\n\n    .dataframe tbody tr th {\n        vertical-align: top;\n    }\n\n    .dataframe thead th {\n        text-align: right;\n    }\n</style>\n<table border=\"1\" class=\"dataframe\">\n  <thead>\n    <tr style=\"text-align: right;\">\n      <th></th>\n      <th>customer_ID</th>\n      <th>target</th>\n    </tr>\n  </thead>\n  <tbody>\n    <tr>\n      <th>0</th>\n      <td>0000099d6bd597052cdcda90ffabf56573fe9d7c79be5f...</td>\n      <td>0</td>\n    </tr>\n    <tr>\n      <th>1</th>\n      <td>00000fd6641609c6ece5454664794f0340ad84dddce9a2...</td>\n      <td>0</td>\n    </tr>\n    <tr>\n      <th>2</th>\n      <td>00001b22f846c82c51f6e3958ccd81970162bae8b007e8...</td>\n      <td>0</td>\n    </tr>\n    <tr>\n      <th>3</th>\n      <td>000041bdba6ecadd89a52d11886e8eaaec9325906c9723...</td>\n      <td>0</td>\n    </tr>\n    <tr>\n      <th>4</th>\n      <td>00007889e4fcd2614b6cbe7f8f3d2e5c728eca32d9eb8a...</td>\n      <td>0</td>\n    </tr>\n  </tbody>\n</table>\n</div>"
     },
     "execution_count": 5,
     "metadata": {},
     "output_type": "execute_result"
    }
   ],
   "source": [
    "train_label_df.head()"
   ],
   "metadata": {
    "collapsed": false,
    "ExecuteTime": {
     "end_time": "2023-05-16T15:51:35.878354409Z",
     "start_time": "2023-05-16T15:51:35.819545823Z"
    }
   }
  },
  {
   "cell_type": "code",
   "execution_count": 11,
   "outputs": [
    {
     "data": {
      "text/plain": "(458913, 2)"
     },
     "execution_count": 11,
     "metadata": {},
     "output_type": "execute_result"
    }
   ],
   "source": [
    "train_label_df.shape"
   ],
   "metadata": {
    "collapsed": false,
    "ExecuteTime": {
     "end_time": "2023-05-16T15:37:38.886772781Z",
     "start_time": "2023-05-16T15:37:38.860950976Z"
    }
   }
  },
  {
   "cell_type": "code",
   "execution_count": 12,
   "outputs": [
    {
     "data": {
      "text/plain": "target\n0    0.741066\n1    0.258934\nName: proportion, dtype: float64"
     },
     "execution_count": 12,
     "metadata": {},
     "output_type": "execute_result"
    }
   ],
   "source": [
    "train_label_df['target'].value_counts(dropna=False, normalize=True)"
   ],
   "metadata": {
    "collapsed": false,
    "ExecuteTime": {
     "end_time": "2023-05-16T15:38:22.915388049Z",
     "start_time": "2023-05-16T15:38:22.831229933Z"
    }
   }
  },
  {
   "cell_type": "code",
   "execution_count": 7,
   "outputs": [],
   "source": [
    "df_1lacs = pd.read_csv(\"../data/raw/train_data.csv\", nrows=200000)"
   ],
   "metadata": {
    "collapsed": false,
    "ExecuteTime": {
     "end_time": "2023-05-16T16:00:11.031036692Z",
     "start_time": "2023-05-16T16:00:00.888296467Z"
    }
   }
  },
  {
   "cell_type": "code",
   "execution_count": 8,
   "outputs": [
    {
     "data": {
      "text/plain": "(200000, 190)"
     },
     "execution_count": 8,
     "metadata": {},
     "output_type": "execute_result"
    }
   ],
   "source": [
    "df_1lacs.shape"
   ],
   "metadata": {
    "collapsed": false,
    "ExecuteTime": {
     "end_time": "2023-05-16T16:02:22.770657119Z",
     "start_time": "2023-05-16T16:02:22.724054401Z"
    }
   }
  },
  {
   "cell_type": "code",
   "execution_count": 9,
   "outputs": [
    {
     "data": {
      "text/plain": "                                         customer_ID         S_2       P_2   \n0  0000099d6bd597052cdcda90ffabf56573fe9d7c79be5f...  2017-03-09  0.938469  \\\n1  0000099d6bd597052cdcda90ffabf56573fe9d7c79be5f...  2017-04-07  0.936665   \n2  0000099d6bd597052cdcda90ffabf56573fe9d7c79be5f...  2017-05-28  0.954180   \n3  0000099d6bd597052cdcda90ffabf56573fe9d7c79be5f...  2017-06-13  0.960384   \n4  0000099d6bd597052cdcda90ffabf56573fe9d7c79be5f...  2017-07-16  0.947248   \n\n       D_39       B_1       B_2       R_1       S_3      D_41       B_3  ...   \n0  0.001733  0.008724  1.006838  0.009228  0.124035  0.008771  0.004709  ...  \\\n1  0.005775  0.004923  1.000653  0.006151  0.126750  0.000798  0.002714  ...   \n2  0.091505  0.021655  1.009672  0.006815  0.123977  0.007598  0.009423  ...   \n3  0.002455  0.013683  1.002700  0.001373  0.117169  0.000685  0.005531  ...   \n4  0.002483  0.015193  1.000727  0.007605  0.117325  0.004653  0.009312  ...   \n\n   D_136  D_137  D_138     D_139     D_140     D_141  D_142     D_143   \n0    NaN    NaN    NaN  0.002427  0.003706  0.003818    NaN  0.000569  \\\n1    NaN    NaN    NaN  0.003954  0.003167  0.005032    NaN  0.009576   \n2    NaN    NaN    NaN  0.003269  0.007329  0.000427    NaN  0.003429   \n3    NaN    NaN    NaN  0.006117  0.004516  0.003200    NaN  0.008419   \n4    NaN    NaN    NaN  0.003671  0.004946  0.008889    NaN  0.001670   \n\n      D_144     D_145  \n0  0.000610  0.002674  \n1  0.005492  0.009217  \n2  0.006986  0.002603  \n3  0.006527  0.009600  \n4  0.008126  0.009827  \n\n[5 rows x 190 columns]",
      "text/html": "<div>\n<style scoped>\n    .dataframe tbody tr th:only-of-type {\n        vertical-align: middle;\n    }\n\n    .dataframe tbody tr th {\n        vertical-align: top;\n    }\n\n    .dataframe thead th {\n        text-align: right;\n    }\n</style>\n<table border=\"1\" class=\"dataframe\">\n  <thead>\n    <tr style=\"text-align: right;\">\n      <th></th>\n      <th>customer_ID</th>\n      <th>S_2</th>\n      <th>P_2</th>\n      <th>D_39</th>\n      <th>B_1</th>\n      <th>B_2</th>\n      <th>R_1</th>\n      <th>S_3</th>\n      <th>D_41</th>\n      <th>B_3</th>\n      <th>...</th>\n      <th>D_136</th>\n      <th>D_137</th>\n      <th>D_138</th>\n      <th>D_139</th>\n      <th>D_140</th>\n      <th>D_141</th>\n      <th>D_142</th>\n      <th>D_143</th>\n      <th>D_144</th>\n      <th>D_145</th>\n    </tr>\n  </thead>\n  <tbody>\n    <tr>\n      <th>0</th>\n      <td>0000099d6bd597052cdcda90ffabf56573fe9d7c79be5f...</td>\n      <td>2017-03-09</td>\n      <td>0.938469</td>\n      <td>0.001733</td>\n      <td>0.008724</td>\n      <td>1.006838</td>\n      <td>0.009228</td>\n      <td>0.124035</td>\n      <td>0.008771</td>\n      <td>0.004709</td>\n      <td>...</td>\n      <td>NaN</td>\n      <td>NaN</td>\n      <td>NaN</td>\n      <td>0.002427</td>\n      <td>0.003706</td>\n      <td>0.003818</td>\n      <td>NaN</td>\n      <td>0.000569</td>\n      <td>0.000610</td>\n      <td>0.002674</td>\n    </tr>\n    <tr>\n      <th>1</th>\n      <td>0000099d6bd597052cdcda90ffabf56573fe9d7c79be5f...</td>\n      <td>2017-04-07</td>\n      <td>0.936665</td>\n      <td>0.005775</td>\n      <td>0.004923</td>\n      <td>1.000653</td>\n      <td>0.006151</td>\n      <td>0.126750</td>\n      <td>0.000798</td>\n      <td>0.002714</td>\n      <td>...</td>\n      <td>NaN</td>\n      <td>NaN</td>\n      <td>NaN</td>\n      <td>0.003954</td>\n      <td>0.003167</td>\n      <td>0.005032</td>\n      <td>NaN</td>\n      <td>0.009576</td>\n      <td>0.005492</td>\n      <td>0.009217</td>\n    </tr>\n    <tr>\n      <th>2</th>\n      <td>0000099d6bd597052cdcda90ffabf56573fe9d7c79be5f...</td>\n      <td>2017-05-28</td>\n      <td>0.954180</td>\n      <td>0.091505</td>\n      <td>0.021655</td>\n      <td>1.009672</td>\n      <td>0.006815</td>\n      <td>0.123977</td>\n      <td>0.007598</td>\n      <td>0.009423</td>\n      <td>...</td>\n      <td>NaN</td>\n      <td>NaN</td>\n      <td>NaN</td>\n      <td>0.003269</td>\n      <td>0.007329</td>\n      <td>0.000427</td>\n      <td>NaN</td>\n      <td>0.003429</td>\n      <td>0.006986</td>\n      <td>0.002603</td>\n    </tr>\n    <tr>\n      <th>3</th>\n      <td>0000099d6bd597052cdcda90ffabf56573fe9d7c79be5f...</td>\n      <td>2017-06-13</td>\n      <td>0.960384</td>\n      <td>0.002455</td>\n      <td>0.013683</td>\n      <td>1.002700</td>\n      <td>0.001373</td>\n      <td>0.117169</td>\n      <td>0.000685</td>\n      <td>0.005531</td>\n      <td>...</td>\n      <td>NaN</td>\n      <td>NaN</td>\n      <td>NaN</td>\n      <td>0.006117</td>\n      <td>0.004516</td>\n      <td>0.003200</td>\n      <td>NaN</td>\n      <td>0.008419</td>\n      <td>0.006527</td>\n      <td>0.009600</td>\n    </tr>\n    <tr>\n      <th>4</th>\n      <td>0000099d6bd597052cdcda90ffabf56573fe9d7c79be5f...</td>\n      <td>2017-07-16</td>\n      <td>0.947248</td>\n      <td>0.002483</td>\n      <td>0.015193</td>\n      <td>1.000727</td>\n      <td>0.007605</td>\n      <td>0.117325</td>\n      <td>0.004653</td>\n      <td>0.009312</td>\n      <td>...</td>\n      <td>NaN</td>\n      <td>NaN</td>\n      <td>NaN</td>\n      <td>0.003671</td>\n      <td>0.004946</td>\n      <td>0.008889</td>\n      <td>NaN</td>\n      <td>0.001670</td>\n      <td>0.008126</td>\n      <td>0.009827</td>\n    </tr>\n  </tbody>\n</table>\n<p>5 rows × 190 columns</p>\n</div>"
     },
     "execution_count": 9,
     "metadata": {},
     "output_type": "execute_result"
    }
   ],
   "source": [
    "df_1lacs.head()"
   ],
   "metadata": {
    "collapsed": false,
    "ExecuteTime": {
     "end_time": "2023-05-16T16:09:38.478890566Z",
     "start_time": "2023-05-16T16:09:38.469877510Z"
    }
   }
  },
  {
   "cell_type": "markdown",
   "source": [
    "The dataset contains aggregated profile features for each customer at each statement date. Features are anonymized and normalized, and fall into the following general categories:\n",
    "\n",
    "D_* = Delinquency variables\n",
    "S_* = Spend variables\n",
    "P_* = Payment variables\n",
    "B_* = Balance variables\n",
    "R_* = Risk variables\n",
    "with the following features being categorical:\n",
    "\n",
    "['B_30', 'B_38', 'D_114', 'D_116', 'D_117', 'D_120', 'D_126', 'D_63', 'D_64', 'D_66', 'D_68']\n",
    "Your task is to predict, for each customer_ID, the probability of a future payment default (target = 1).\n",
    "\n",
    "Note that the negative class has been subsampled for this dataset at 5%, and thus receives a 20x weighting in the scoring metric."
   ],
   "metadata": {
    "collapsed": false
   }
  },
  {
   "cell_type": "code",
   "execution_count": 10,
   "outputs": [],
   "source": [
    "cols = df_1lacs.columns"
   ],
   "metadata": {
    "collapsed": false,
    "ExecuteTime": {
     "end_time": "2023-05-16T16:11:30.679640777Z",
     "start_time": "2023-05-16T16:11:30.663475487Z"
    }
   }
  },
  {
   "cell_type": "code",
   "execution_count": 12,
   "outputs": [],
   "source": [
    "delinquency_cols = [i for i in cols if i.startswith('D')]\n",
    "spend_cols = [i for i in cols if i.startswith('S')]\n",
    "payment_cols = [i for i in cols if i.startswith('P')]\n",
    "balance_cols = [i for i in cols if i.startswith('B')]\n",
    "risk_cols = [i for i in cols if i.startswith('R')]"
   ],
   "metadata": {
    "collapsed": false,
    "ExecuteTime": {
     "end_time": "2023-05-16T16:13:22.310761213Z",
     "start_time": "2023-05-16T16:13:22.263956902Z"
    }
   }
  },
  {
   "cell_type": "code",
   "execution_count": 13,
   "outputs": [
    {
     "data": {
      "text/plain": "(96, 22, 3, 40, 28)"
     },
     "execution_count": 13,
     "metadata": {},
     "output_type": "execute_result"
    }
   ],
   "source": [
    "len(delinquency_cols), len(spend_cols), len(payment_cols), len(balance_cols), len(risk_cols)"
   ],
   "metadata": {
    "collapsed": false,
    "ExecuteTime": {
     "end_time": "2023-05-16T16:14:08.600299836Z",
     "start_time": "2023-05-16T16:14:08.562587067Z"
    }
   }
  },
  {
   "cell_type": "markdown",
   "source": [
    "Delinquency variables: The term delinquent refers to the state of being in arrears. When someone is delinquent, they are past due on their financial obligation(s), such as a loan, credit card, or bond payments. This means a borrower's payments are not made to satisfy their debt(s) in a timely manner. Delinquent entities can be either individuals or corporations. Financial delinquency often leads to default if the arrears aren't brought up to date."
   ],
   "metadata": {
    "collapsed": false
   }
  },
  {
   "cell_type": "code",
   "execution_count": 17,
   "outputs": [
    {
     "name": "stdout",
     "output_type": "stream",
     "text": [
      "<class 'pandas.core.frame.DataFrame'>\n",
      "RangeIndex: 200000 entries, 0 to 199999\n",
      "Data columns (total 96 columns):\n",
      " #   Column  Non-Null Count   Dtype  \n",
      "---  ------  --------------   -----  \n",
      " 0   D_39    200000 non-null  float64\n",
      " 1   D_41    199928 non-null  float64\n",
      " 2   D_42    29193 non-null   float64\n",
      " 3   D_43    139942 non-null  float64\n",
      " 4   D_44    190071 non-null  float64\n",
      " 5   D_45    199928 non-null  float64\n",
      " 6   D_46    156105 non-null  float64\n",
      " 7   D_47    200000 non-null  float64\n",
      " 8   D_48    173989 non-null  float64\n",
      " 9   D_49    20462 non-null   float64\n",
      " 10  D_50    86464 non-null   float64\n",
      " 11  D_51    200000 non-null  float64\n",
      " 12  D_52    198991 non-null  float64\n",
      " 13  D_53    52597 non-null   float64\n",
      " 14  D_54    199928 non-null  float64\n",
      " 15  D_55    193476 non-null  float64\n",
      " 16  D_56    91119 non-null   float64\n",
      " 17  D_58    200000 non-null  float64\n",
      " 18  D_59    196233 non-null  float64\n",
      " 19  D_60    200000 non-null  float64\n",
      " 20  D_61    178557 non-null  float64\n",
      " 21  D_62    172567 non-null  float64\n",
      " 22  D_63    200000 non-null  object \n",
      " 23  D_64    191960 non-null  object \n",
      " 24  D_65    200000 non-null  float64\n",
      " 25  D_66    22180 non-null   float64\n",
      " 26  D_68    192128 non-null  float64\n",
      " 27  D_69    193006 non-null  float64\n",
      " 28  D_70    196680 non-null  float64\n",
      " 29  D_71    200000 non-null  float64\n",
      " 30  D_72    199202 non-null  float64\n",
      " 31  D_73    2196 non-null    float64\n",
      " 32  D_74    199326 non-null  float64\n",
      " 33  D_75    200000 non-null  float64\n",
      " 34  D_76    22344 non-null   float64\n",
      " 35  D_77    108405 non-null  float64\n",
      " 36  D_78    190071 non-null  float64\n",
      " 37  D_79    197398 non-null  float64\n",
      " 38  D_80    199326 non-null  float64\n",
      " 39  D_81    199090 non-null  float64\n",
      " 40  D_82    53319 non-null   float64\n",
      " 41  D_83    193006 non-null  float64\n",
      " 42  D_84    198991 non-null  float64\n",
      " 43  D_86    200000 non-null  float64\n",
      " 44  D_87    116 non-null     float64\n",
      " 45  D_88    264 non-null     float64\n",
      " 46  D_89    198991 non-null  float64\n",
      " 47  D_91    194413 non-null  float64\n",
      " 48  D_92    200000 non-null  float64\n",
      " 49  D_93    200000 non-null  float64\n",
      " 50  D_94    200000 non-null  float64\n",
      " 51  D_96    200000 non-null  float64\n",
      " 52  D_102   198579 non-null  float64\n",
      " 53  D_103   196497 non-null  float64\n",
      " 54  D_104   196497 non-null  float64\n",
      " 55  D_105   90933 non-null   float64\n",
      " 56  D_106   20304 non-null   float64\n",
      " 57  D_107   196497 non-null  float64\n",
      " 58  D_108   1058 non-null    float64\n",
      " 59  D_109   199929 non-null  float64\n",
      " 60  D_110   1232 non-null    float64\n",
      " 61  D_111   1232 non-null    float64\n",
      " 62  D_112   199894 non-null  float64\n",
      " 63  D_113   193655 non-null  float64\n",
      " 64  D_114   193655 non-null  float64\n",
      " 65  D_115   193655 non-null  float64\n",
      " 66  D_116   193655 non-null  float64\n",
      " 67  D_117   193655 non-null  float64\n",
      " 68  D_118   193655 non-null  float64\n",
      " 69  D_119   193655 non-null  float64\n",
      " 70  D_120   193655 non-null  float64\n",
      " 71  D_121   193655 non-null  float64\n",
      " 72  D_122   193655 non-null  float64\n",
      " 73  D_123   193655 non-null  float64\n",
      " 74  D_124   193655 non-null  float64\n",
      " 75  D_125   193655 non-null  float64\n",
      " 76  D_126   195775 non-null  float64\n",
      " 77  D_127   200000 non-null  float64\n",
      " 78  D_128   196497 non-null  float64\n",
      " 79  D_129   196497 non-null  float64\n",
      " 80  D_130   196497 non-null  float64\n",
      " 81  D_131   196497 non-null  float64\n",
      " 82  D_132   20358 non-null   float64\n",
      " 83  D_133   198519 non-null  float64\n",
      " 84  D_134   7186 non-null    float64\n",
      " 85  D_135   7186 non-null    float64\n",
      " 86  D_136   7186 non-null    float64\n",
      " 87  D_137   7186 non-null    float64\n",
      " 88  D_138   7186 non-null    float64\n",
      " 89  D_139   196497 non-null  float64\n",
      " 90  D_140   198581 non-null  float64\n",
      " 91  D_141   196497 non-null  float64\n",
      " 92  D_142   34356 non-null   float64\n",
      " 93  D_143   196497 non-null  float64\n",
      " 94  D_144   198567 non-null  float64\n",
      " 95  D_145   196497 non-null  float64\n",
      "dtypes: float64(94), object(2)\n",
      "memory usage: 146.5+ MB\n"
     ]
    }
   ],
   "source": [
    "df_1lacs[delinquency_cols].info()"
   ],
   "metadata": {
    "collapsed": false,
    "ExecuteTime": {
     "end_time": "2023-05-16T16:17:42.889778862Z",
     "start_time": "2023-05-16T16:17:42.844428930Z"
    }
   }
  },
  {
   "cell_type": "code",
   "execution_count": 26,
   "outputs": [],
   "source": [
    "# Column Profiling: data type, null percentage, describe (min, max, [5,25,50,75,95], mean, std, variance)\n",
    "\n",
    "def col_profiling(col_series):\n",
    "    res_dict = {'datatype': col_series.dtype,\n",
    "                'null_pct': col_series.isna().sum()*100/len(col_series),\n",
    "                'min_val': col_series.min(),\n",
    "                'max_val': col_series.max(),\n",
    "                'mean_val': col_series.mean(),\n",
    "                'std': col_series.std(),\n",
    "                'variance': col_series.std(),\n",
    "                '5_pct': col_series.quantile(q=0.05),\n",
    "                '25_pct': col_series.quantile(q=0.25),\n",
    "                '50_pct': col_series.quantile(q=0.5),\n",
    "                '75_pct': col_series.quantile(q=0.75),\n",
    "                '95_pct': col_series.quantile(q=0.95),\n",
    "                'num_uniq': col_series.nunique()}\n",
    "    return res_dict"
   ],
   "metadata": {
    "collapsed": false,
    "ExecuteTime": {
     "end_time": "2023-05-16T16:36:08.947073322Z",
     "start_time": "2023-05-16T16:36:08.931130471Z"
    }
   }
  },
  {
   "cell_type": "code",
   "execution_count": 27,
   "outputs": [
    {
     "name": "stdout",
     "output_type": "stream",
     "text": [
      "categorical column is D_63\n",
      "categorical column is D_64\n"
     ]
    }
   ],
   "source": [
    "# Column Profiling on delinquency variables\n",
    "ls_delinquency_variable = []\n",
    "for item in delinquency_cols:\n",
    "    if df_1lacs[item].dtype == np.float64:\n",
    "        res = col_profiling(df_1lacs[item])\n",
    "        res['column_name'] = item\n",
    "        ls_delinquency_variable.append(res)\n",
    "    else:\n",
    "        print(f\"categorical column is {item}\")"
   ],
   "metadata": {
    "collapsed": false,
    "ExecuteTime": {
     "end_time": "2023-05-16T16:36:13.844548424Z",
     "start_time": "2023-05-16T16:36:11.127292488Z"
    }
   }
  },
  {
   "cell_type": "code",
   "execution_count": 28,
   "outputs": [],
   "source": [
    "col_meta = pd.DataFrame(ls_delinquency_variable).set_index('column_name')"
   ],
   "metadata": {
    "collapsed": false,
    "ExecuteTime": {
     "end_time": "2023-05-16T16:36:13.849175668Z",
     "start_time": "2023-05-16T16:36:13.847011664Z"
    }
   }
  },
  {
   "cell_type": "code",
   "execution_count": 29,
   "outputs": [
    {
     "data": {
      "text/plain": "            datatype  null_pct       min_val   max_val  mean_val       std   \ncolumn_name                                                                  \nD_39         float64    0.0000  3.892609e-07  5.331360  0.153413  0.272381  \\\nD_41         float64    0.0360  5.627163e-08  6.798167  0.062218  0.208162   \nD_42         float64   85.4035 -2.188914e-04  3.252056  0.181170  0.216851   \nD_43         float64   30.0290  8.705647e-07  9.089694  0.156035  0.216974   \nD_44         float64    4.9645  1.031370e-08  2.880841  0.121163  0.222514   \n...              ...       ...           ...       ...       ...       ...   \nD_141        float64    1.7515  5.642931e-08  1.174753  0.165382  0.349056   \nD_142        float64   82.8220 -1.444070e-02  1.751388  0.392596  0.238923   \nD_143        float64    1.7515  1.653580e-08  1.010000  0.179736  0.379746   \nD_144        float64    0.7165  1.161969e-07  1.343284  0.053392  0.185104   \nD_145        float64    1.7515  3.397747e-08  4.282032  0.061799  0.190180   \n\n             variance     5_pct    25_pct    50_pct    75_pct    95_pct   \ncolumn_name                                                               \nD_39         0.272381  0.000905  0.004541  0.009066  0.236017  0.654666  \\\nD_41         0.208162  0.000586  0.002898  0.005769  0.008653  0.401103   \nD_42         0.216851  0.007143  0.039449  0.120749  0.250728  0.544487   \nD_43         0.216974  0.009607  0.042353  0.088289  0.185098  0.522488   \nD_44         0.222514  0.000784  0.003895  0.007755  0.132351  0.626592   \n...               ...       ...       ...       ...       ...       ...   \nD_141        0.349056  0.000621  0.003033  0.006063  0.009094  0.952388   \nD_142        0.238923  0.040042  0.196174  0.382038  0.566102  0.772431   \nD_143        0.379746  0.000610  0.003034  0.006078  0.009089  1.007163   \nD_144        0.185104  0.000548  0.002753  0.005499  0.008267  0.439689   \nD_145        0.190180  0.000606  0.003028  0.006060  0.009094  0.369032   \n\n             num_uniq  \ncolumn_name            \nD_39           200000  \nD_41           199928  \nD_42            29193  \nD_43           139942  \nD_44           190071  \n...               ...  \nD_141          196497  \nD_142           34356  \nD_143          196497  \nD_144          198567  \nD_145          196497  \n\n[94 rows x 13 columns]",
      "text/html": "<div>\n<style scoped>\n    .dataframe tbody tr th:only-of-type {\n        vertical-align: middle;\n    }\n\n    .dataframe tbody tr th {\n        vertical-align: top;\n    }\n\n    .dataframe thead th {\n        text-align: right;\n    }\n</style>\n<table border=\"1\" class=\"dataframe\">\n  <thead>\n    <tr style=\"text-align: right;\">\n      <th></th>\n      <th>datatype</th>\n      <th>null_pct</th>\n      <th>min_val</th>\n      <th>max_val</th>\n      <th>mean_val</th>\n      <th>std</th>\n      <th>variance</th>\n      <th>5_pct</th>\n      <th>25_pct</th>\n      <th>50_pct</th>\n      <th>75_pct</th>\n      <th>95_pct</th>\n      <th>num_uniq</th>\n    </tr>\n    <tr>\n      <th>column_name</th>\n      <th></th>\n      <th></th>\n      <th></th>\n      <th></th>\n      <th></th>\n      <th></th>\n      <th></th>\n      <th></th>\n      <th></th>\n      <th></th>\n      <th></th>\n      <th></th>\n      <th></th>\n    </tr>\n  </thead>\n  <tbody>\n    <tr>\n      <th>D_39</th>\n      <td>float64</td>\n      <td>0.0000</td>\n      <td>3.892609e-07</td>\n      <td>5.331360</td>\n      <td>0.153413</td>\n      <td>0.272381</td>\n      <td>0.272381</td>\n      <td>0.000905</td>\n      <td>0.004541</td>\n      <td>0.009066</td>\n      <td>0.236017</td>\n      <td>0.654666</td>\n      <td>200000</td>\n    </tr>\n    <tr>\n      <th>D_41</th>\n      <td>float64</td>\n      <td>0.0360</td>\n      <td>5.627163e-08</td>\n      <td>6.798167</td>\n      <td>0.062218</td>\n      <td>0.208162</td>\n      <td>0.208162</td>\n      <td>0.000586</td>\n      <td>0.002898</td>\n      <td>0.005769</td>\n      <td>0.008653</td>\n      <td>0.401103</td>\n      <td>199928</td>\n    </tr>\n    <tr>\n      <th>D_42</th>\n      <td>float64</td>\n      <td>85.4035</td>\n      <td>-2.188914e-04</td>\n      <td>3.252056</td>\n      <td>0.181170</td>\n      <td>0.216851</td>\n      <td>0.216851</td>\n      <td>0.007143</td>\n      <td>0.039449</td>\n      <td>0.120749</td>\n      <td>0.250728</td>\n      <td>0.544487</td>\n      <td>29193</td>\n    </tr>\n    <tr>\n      <th>D_43</th>\n      <td>float64</td>\n      <td>30.0290</td>\n      <td>8.705647e-07</td>\n      <td>9.089694</td>\n      <td>0.156035</td>\n      <td>0.216974</td>\n      <td>0.216974</td>\n      <td>0.009607</td>\n      <td>0.042353</td>\n      <td>0.088289</td>\n      <td>0.185098</td>\n      <td>0.522488</td>\n      <td>139942</td>\n    </tr>\n    <tr>\n      <th>D_44</th>\n      <td>float64</td>\n      <td>4.9645</td>\n      <td>1.031370e-08</td>\n      <td>2.880841</td>\n      <td>0.121163</td>\n      <td>0.222514</td>\n      <td>0.222514</td>\n      <td>0.000784</td>\n      <td>0.003895</td>\n      <td>0.007755</td>\n      <td>0.132351</td>\n      <td>0.626592</td>\n      <td>190071</td>\n    </tr>\n    <tr>\n      <th>...</th>\n      <td>...</td>\n      <td>...</td>\n      <td>...</td>\n      <td>...</td>\n      <td>...</td>\n      <td>...</td>\n      <td>...</td>\n      <td>...</td>\n      <td>...</td>\n      <td>...</td>\n      <td>...</td>\n      <td>...</td>\n      <td>...</td>\n    </tr>\n    <tr>\n      <th>D_141</th>\n      <td>float64</td>\n      <td>1.7515</td>\n      <td>5.642931e-08</td>\n      <td>1.174753</td>\n      <td>0.165382</td>\n      <td>0.349056</td>\n      <td>0.349056</td>\n      <td>0.000621</td>\n      <td>0.003033</td>\n      <td>0.006063</td>\n      <td>0.009094</td>\n      <td>0.952388</td>\n      <td>196497</td>\n    </tr>\n    <tr>\n      <th>D_142</th>\n      <td>float64</td>\n      <td>82.8220</td>\n      <td>-1.444070e-02</td>\n      <td>1.751388</td>\n      <td>0.392596</td>\n      <td>0.238923</td>\n      <td>0.238923</td>\n      <td>0.040042</td>\n      <td>0.196174</td>\n      <td>0.382038</td>\n      <td>0.566102</td>\n      <td>0.772431</td>\n      <td>34356</td>\n    </tr>\n    <tr>\n      <th>D_143</th>\n      <td>float64</td>\n      <td>1.7515</td>\n      <td>1.653580e-08</td>\n      <td>1.010000</td>\n      <td>0.179736</td>\n      <td>0.379746</td>\n      <td>0.379746</td>\n      <td>0.000610</td>\n      <td>0.003034</td>\n      <td>0.006078</td>\n      <td>0.009089</td>\n      <td>1.007163</td>\n      <td>196497</td>\n    </tr>\n    <tr>\n      <th>D_144</th>\n      <td>float64</td>\n      <td>0.7165</td>\n      <td>1.161969e-07</td>\n      <td>1.343284</td>\n      <td>0.053392</td>\n      <td>0.185104</td>\n      <td>0.185104</td>\n      <td>0.000548</td>\n      <td>0.002753</td>\n      <td>0.005499</td>\n      <td>0.008267</td>\n      <td>0.439689</td>\n      <td>198567</td>\n    </tr>\n    <tr>\n      <th>D_145</th>\n      <td>float64</td>\n      <td>1.7515</td>\n      <td>3.397747e-08</td>\n      <td>4.282032</td>\n      <td>0.061799</td>\n      <td>0.190180</td>\n      <td>0.190180</td>\n      <td>0.000606</td>\n      <td>0.003028</td>\n      <td>0.006060</td>\n      <td>0.009094</td>\n      <td>0.369032</td>\n      <td>196497</td>\n    </tr>\n  </tbody>\n</table>\n<p>94 rows × 13 columns</p>\n</div>"
     },
     "execution_count": 29,
     "metadata": {},
     "output_type": "execute_result"
    }
   ],
   "source": [
    "col_meta"
   ],
   "metadata": {
    "collapsed": false,
    "ExecuteTime": {
     "end_time": "2023-05-16T16:36:14.319410463Z",
     "start_time": "2023-05-16T16:36:14.293815798Z"
    }
   }
  },
  {
   "cell_type": "markdown",
   "source": [
    "What are some columns, I will not consider for analysis:\n",
    "\n",
    "1. All unique: In my opinion these are kind of unique Ids.\n",
    "2. All same: These are constants\n",
    "3. Pseudo constants: These are kind of constants, if we are getting more than 95% same value.\n",
    "4. All null: Empty columns\n",
    "5. cols with most of the values are nulls (we can take 95% as cut off)"
   ],
   "metadata": {
    "collapsed": false
   }
  },
  {
   "cell_type": "code",
   "execution_count": 30,
   "outputs": [
    {
     "name": "stdout",
     "output_type": "stream",
     "text": [
      "categorical column is S_2\n"
     ]
    }
   ],
   "source": [
    "# Column Profiling on spend_cols variables\n",
    "ls_spend_variable = []\n",
    "for item in spend_cols:\n",
    "    if df_1lacs[item].dtype == np.float64:\n",
    "        res = col_profiling(df_1lacs[item])\n",
    "        res['column_name'] = item\n",
    "        ls_spend_variable.append(res)\n",
    "    else:\n",
    "        print(f\"categorical column is {item}\")"
   ],
   "metadata": {
    "collapsed": false,
    "ExecuteTime": {
     "end_time": "2023-05-16T17:47:30.251900635Z",
     "start_time": "2023-05-16T17:47:29.596896175Z"
    }
   }
  },
  {
   "cell_type": "code",
   "execution_count": 32,
   "outputs": [
    {
     "data": {
      "text/plain": "            datatype  null_pct       min_val     max_val  mean_val       std   \ncolumn_name                                                                    \nS_3          float64   18.8325 -2.547070e-01    2.918675  0.227386  0.197101  \\\nS_5          float64    0.0000  1.465230e-07  143.342047  0.088260  0.647703   \nS_6          float64    0.0000  1.522788e-07    1.010000  0.248121  0.428985   \nS_7          float64   18.8325 -1.807581e-01    2.611836  0.224602  0.208025   \nS_8          float64    0.0000  1.342140e-07    1.231351  0.325144  0.302428   \nS_9          float64   53.2990  3.154521e-06    2.839094  0.076049  0.200230   \nS_11         float64    0.0000 -1.997693e-01    3.801432  0.376537  0.191383   \nS_12         float64    0.0000 -3.922996e-01   16.746990  0.239863  0.205906   \nS_13         float64    0.0000  5.237888e-08    1.009999  0.254424  0.297776   \nS_15         float64    0.0000 -2.999376e-01    4.906095  0.376217  0.194892   \nS_16         float64    0.0000  8.117018e-09  110.718046  0.052463  0.774546   \nS_17         float64    0.0000  4.649720e-08    4.049058  0.039620  0.238930   \nS_18         float64    0.0000  2.125226e-08    1.009996  0.031414  0.160404   \nS_19         float64    0.0000  3.788343e-08    0.128932  0.005021  0.003053   \nS_20         float64    0.0000  9.865745e-08    1.009990  0.017135  0.109532   \nS_22         float64    0.3435 -8.267168e+01    1.032665  0.772904  0.877028   \nS_23         float64    0.0045 -8.297268e+00   59.169725  0.179412  0.314534   \nS_24         float64    0.3350 -9.047678e+01    1.053486  0.727614  1.021196   \nS_25         float64    0.2420 -2.453414e+00    2.870832  0.923500  0.210625   \nS_26         float64    0.0170  1.067428e-08   42.636789  0.067505  0.462423   \nS_27         float64   25.6135  1.959210e-08    4.642430  0.280094  0.337288   \n\n             variance     5_pct    25_pct    50_pct    75_pct    95_pct   \ncolumn_name                                                               \nS_3          0.197101  0.060660  0.127432  0.164248  0.260202  0.607962  \\\nS_5          0.647703  0.001208  0.005646  0.013417  0.069816  0.354358   \nS_6          0.428985  0.000655  0.003303  0.006617  0.009910  1.007958   \nS_7          0.208025  0.046565  0.093870  0.141805  0.298479  0.633364   \nS_8          0.302428  0.001510  0.007548  0.321219  0.494391  0.859489   \nS_9          0.200230  0.003808  0.009853  0.020087  0.053968  0.317210   \nS_11         0.191383  0.127043  0.282564  0.289744  0.449325  0.729158   \nS_12         0.205906  0.152419  0.186901  0.190822  0.207764  0.508066   \nS_13         0.297776  0.000964  0.004829  0.009755  0.427756  0.850475   \nS_15         0.194892  0.103523  0.207716  0.402233  0.504882  0.607159   \nS_16         0.774546  0.000513  0.002549  0.005098  0.007666  0.009701   \nS_17         0.238930  0.000529  0.002688  0.005368  0.008054  0.086039   \nS_18         0.160404  0.000506  0.002572  0.005118  0.007696  0.009762   \nS_19         0.003053  0.000499  0.002493  0.004994  0.007503  0.009516   \nS_20         0.109532  0.000507  0.002534  0.005066  0.007588  0.009615   \nS_22         0.877028  0.295981  0.799430  0.942223  0.964734  0.988719   \nS_23         0.314534  0.131167  0.133424  0.136239  0.139038  0.532761   \nS_24         1.021196  0.077286  0.795415  0.949082  0.971571  0.991663   \nS_25         0.210625  0.523404  0.970851  0.973662  0.976471  0.978731   \nS_26         0.462423  0.000691  0.003406  0.006753  0.010809  0.280256   \nS_27         0.337288  0.001284  0.006322  0.290355  0.448273  0.680828   \n\n             num_uniq  \ncolumn_name            \nS_3            162335  \nS_5            200000  \nS_6            200000  \nS_7            162335  \nS_8            200000  \nS_9             93402  \nS_11           200000  \nS_12           200000  \nS_13           200000  \nS_15           200000  \nS_16           200000  \nS_17           200000  \nS_18           200000  \nS_19           200000  \nS_20           200000  \nS_22           199313  \nS_23           199991  \nS_24           199330  \nS_25           199516  \nS_26           199966  \nS_27           148773  ",
      "text/html": "<div>\n<style scoped>\n    .dataframe tbody tr th:only-of-type {\n        vertical-align: middle;\n    }\n\n    .dataframe tbody tr th {\n        vertical-align: top;\n    }\n\n    .dataframe thead th {\n        text-align: right;\n    }\n</style>\n<table border=\"1\" class=\"dataframe\">\n  <thead>\n    <tr style=\"text-align: right;\">\n      <th></th>\n      <th>datatype</th>\n      <th>null_pct</th>\n      <th>min_val</th>\n      <th>max_val</th>\n      <th>mean_val</th>\n      <th>std</th>\n      <th>variance</th>\n      <th>5_pct</th>\n      <th>25_pct</th>\n      <th>50_pct</th>\n      <th>75_pct</th>\n      <th>95_pct</th>\n      <th>num_uniq</th>\n    </tr>\n    <tr>\n      <th>column_name</th>\n      <th></th>\n      <th></th>\n      <th></th>\n      <th></th>\n      <th></th>\n      <th></th>\n      <th></th>\n      <th></th>\n      <th></th>\n      <th></th>\n      <th></th>\n      <th></th>\n      <th></th>\n    </tr>\n  </thead>\n  <tbody>\n    <tr>\n      <th>S_3</th>\n      <td>float64</td>\n      <td>18.8325</td>\n      <td>-2.547070e-01</td>\n      <td>2.918675</td>\n      <td>0.227386</td>\n      <td>0.197101</td>\n      <td>0.197101</td>\n      <td>0.060660</td>\n      <td>0.127432</td>\n      <td>0.164248</td>\n      <td>0.260202</td>\n      <td>0.607962</td>\n      <td>162335</td>\n    </tr>\n    <tr>\n      <th>S_5</th>\n      <td>float64</td>\n      <td>0.0000</td>\n      <td>1.465230e-07</td>\n      <td>143.342047</td>\n      <td>0.088260</td>\n      <td>0.647703</td>\n      <td>0.647703</td>\n      <td>0.001208</td>\n      <td>0.005646</td>\n      <td>0.013417</td>\n      <td>0.069816</td>\n      <td>0.354358</td>\n      <td>200000</td>\n    </tr>\n    <tr>\n      <th>S_6</th>\n      <td>float64</td>\n      <td>0.0000</td>\n      <td>1.522788e-07</td>\n      <td>1.010000</td>\n      <td>0.248121</td>\n      <td>0.428985</td>\n      <td>0.428985</td>\n      <td>0.000655</td>\n      <td>0.003303</td>\n      <td>0.006617</td>\n      <td>0.009910</td>\n      <td>1.007958</td>\n      <td>200000</td>\n    </tr>\n    <tr>\n      <th>S_7</th>\n      <td>float64</td>\n      <td>18.8325</td>\n      <td>-1.807581e-01</td>\n      <td>2.611836</td>\n      <td>0.224602</td>\n      <td>0.208025</td>\n      <td>0.208025</td>\n      <td>0.046565</td>\n      <td>0.093870</td>\n      <td>0.141805</td>\n      <td>0.298479</td>\n      <td>0.633364</td>\n      <td>162335</td>\n    </tr>\n    <tr>\n      <th>S_8</th>\n      <td>float64</td>\n      <td>0.0000</td>\n      <td>1.342140e-07</td>\n      <td>1.231351</td>\n      <td>0.325144</td>\n      <td>0.302428</td>\n      <td>0.302428</td>\n      <td>0.001510</td>\n      <td>0.007548</td>\n      <td>0.321219</td>\n      <td>0.494391</td>\n      <td>0.859489</td>\n      <td>200000</td>\n    </tr>\n    <tr>\n      <th>S_9</th>\n      <td>float64</td>\n      <td>53.2990</td>\n      <td>3.154521e-06</td>\n      <td>2.839094</td>\n      <td>0.076049</td>\n      <td>0.200230</td>\n      <td>0.200230</td>\n      <td>0.003808</td>\n      <td>0.009853</td>\n      <td>0.020087</td>\n      <td>0.053968</td>\n      <td>0.317210</td>\n      <td>93402</td>\n    </tr>\n    <tr>\n      <th>S_11</th>\n      <td>float64</td>\n      <td>0.0000</td>\n      <td>-1.997693e-01</td>\n      <td>3.801432</td>\n      <td>0.376537</td>\n      <td>0.191383</td>\n      <td>0.191383</td>\n      <td>0.127043</td>\n      <td>0.282564</td>\n      <td>0.289744</td>\n      <td>0.449325</td>\n      <td>0.729158</td>\n      <td>200000</td>\n    </tr>\n    <tr>\n      <th>S_12</th>\n      <td>float64</td>\n      <td>0.0000</td>\n      <td>-3.922996e-01</td>\n      <td>16.746990</td>\n      <td>0.239863</td>\n      <td>0.205906</td>\n      <td>0.205906</td>\n      <td>0.152419</td>\n      <td>0.186901</td>\n      <td>0.190822</td>\n      <td>0.207764</td>\n      <td>0.508066</td>\n      <td>200000</td>\n    </tr>\n    <tr>\n      <th>S_13</th>\n      <td>float64</td>\n      <td>0.0000</td>\n      <td>5.237888e-08</td>\n      <td>1.009999</td>\n      <td>0.254424</td>\n      <td>0.297776</td>\n      <td>0.297776</td>\n      <td>0.000964</td>\n      <td>0.004829</td>\n      <td>0.009755</td>\n      <td>0.427756</td>\n      <td>0.850475</td>\n      <td>200000</td>\n    </tr>\n    <tr>\n      <th>S_15</th>\n      <td>float64</td>\n      <td>0.0000</td>\n      <td>-2.999376e-01</td>\n      <td>4.906095</td>\n      <td>0.376217</td>\n      <td>0.194892</td>\n      <td>0.194892</td>\n      <td>0.103523</td>\n      <td>0.207716</td>\n      <td>0.402233</td>\n      <td>0.504882</td>\n      <td>0.607159</td>\n      <td>200000</td>\n    </tr>\n    <tr>\n      <th>S_16</th>\n      <td>float64</td>\n      <td>0.0000</td>\n      <td>8.117018e-09</td>\n      <td>110.718046</td>\n      <td>0.052463</td>\n      <td>0.774546</td>\n      <td>0.774546</td>\n      <td>0.000513</td>\n      <td>0.002549</td>\n      <td>0.005098</td>\n      <td>0.007666</td>\n      <td>0.009701</td>\n      <td>200000</td>\n    </tr>\n    <tr>\n      <th>S_17</th>\n      <td>float64</td>\n      <td>0.0000</td>\n      <td>4.649720e-08</td>\n      <td>4.049058</td>\n      <td>0.039620</td>\n      <td>0.238930</td>\n      <td>0.238930</td>\n      <td>0.000529</td>\n      <td>0.002688</td>\n      <td>0.005368</td>\n      <td>0.008054</td>\n      <td>0.086039</td>\n      <td>200000</td>\n    </tr>\n    <tr>\n      <th>S_18</th>\n      <td>float64</td>\n      <td>0.0000</td>\n      <td>2.125226e-08</td>\n      <td>1.009996</td>\n      <td>0.031414</td>\n      <td>0.160404</td>\n      <td>0.160404</td>\n      <td>0.000506</td>\n      <td>0.002572</td>\n      <td>0.005118</td>\n      <td>0.007696</td>\n      <td>0.009762</td>\n      <td>200000</td>\n    </tr>\n    <tr>\n      <th>S_19</th>\n      <td>float64</td>\n      <td>0.0000</td>\n      <td>3.788343e-08</td>\n      <td>0.128932</td>\n      <td>0.005021</td>\n      <td>0.003053</td>\n      <td>0.003053</td>\n      <td>0.000499</td>\n      <td>0.002493</td>\n      <td>0.004994</td>\n      <td>0.007503</td>\n      <td>0.009516</td>\n      <td>200000</td>\n    </tr>\n    <tr>\n      <th>S_20</th>\n      <td>float64</td>\n      <td>0.0000</td>\n      <td>9.865745e-08</td>\n      <td>1.009990</td>\n      <td>0.017135</td>\n      <td>0.109532</td>\n      <td>0.109532</td>\n      <td>0.000507</td>\n      <td>0.002534</td>\n      <td>0.005066</td>\n      <td>0.007588</td>\n      <td>0.009615</td>\n      <td>200000</td>\n    </tr>\n    <tr>\n      <th>S_22</th>\n      <td>float64</td>\n      <td>0.3435</td>\n      <td>-8.267168e+01</td>\n      <td>1.032665</td>\n      <td>0.772904</td>\n      <td>0.877028</td>\n      <td>0.877028</td>\n      <td>0.295981</td>\n      <td>0.799430</td>\n      <td>0.942223</td>\n      <td>0.964734</td>\n      <td>0.988719</td>\n      <td>199313</td>\n    </tr>\n    <tr>\n      <th>S_23</th>\n      <td>float64</td>\n      <td>0.0045</td>\n      <td>-8.297268e+00</td>\n      <td>59.169725</td>\n      <td>0.179412</td>\n      <td>0.314534</td>\n      <td>0.314534</td>\n      <td>0.131167</td>\n      <td>0.133424</td>\n      <td>0.136239</td>\n      <td>0.139038</td>\n      <td>0.532761</td>\n      <td>199991</td>\n    </tr>\n    <tr>\n      <th>S_24</th>\n      <td>float64</td>\n      <td>0.3350</td>\n      <td>-9.047678e+01</td>\n      <td>1.053486</td>\n      <td>0.727614</td>\n      <td>1.021196</td>\n      <td>1.021196</td>\n      <td>0.077286</td>\n      <td>0.795415</td>\n      <td>0.949082</td>\n      <td>0.971571</td>\n      <td>0.991663</td>\n      <td>199330</td>\n    </tr>\n    <tr>\n      <th>S_25</th>\n      <td>float64</td>\n      <td>0.2420</td>\n      <td>-2.453414e+00</td>\n      <td>2.870832</td>\n      <td>0.923500</td>\n      <td>0.210625</td>\n      <td>0.210625</td>\n      <td>0.523404</td>\n      <td>0.970851</td>\n      <td>0.973662</td>\n      <td>0.976471</td>\n      <td>0.978731</td>\n      <td>199516</td>\n    </tr>\n    <tr>\n      <th>S_26</th>\n      <td>float64</td>\n      <td>0.0170</td>\n      <td>1.067428e-08</td>\n      <td>42.636789</td>\n      <td>0.067505</td>\n      <td>0.462423</td>\n      <td>0.462423</td>\n      <td>0.000691</td>\n      <td>0.003406</td>\n      <td>0.006753</td>\n      <td>0.010809</td>\n      <td>0.280256</td>\n      <td>199966</td>\n    </tr>\n    <tr>\n      <th>S_27</th>\n      <td>float64</td>\n      <td>25.6135</td>\n      <td>1.959210e-08</td>\n      <td>4.642430</td>\n      <td>0.280094</td>\n      <td>0.337288</td>\n      <td>0.337288</td>\n      <td>0.001284</td>\n      <td>0.006322</td>\n      <td>0.290355</td>\n      <td>0.448273</td>\n      <td>0.680828</td>\n      <td>148773</td>\n    </tr>\n  </tbody>\n</table>\n</div>"
     },
     "execution_count": 32,
     "metadata": {},
     "output_type": "execute_result"
    }
   ],
   "source": [
    "col_meta = pd.DataFrame(ls_spend_variable).set_index('column_name')\n",
    "col_meta"
   ],
   "metadata": {
    "collapsed": false,
    "ExecuteTime": {
     "end_time": "2023-05-16T17:48:36.883072001Z",
     "start_time": "2023-05-16T17:48:36.848626968Z"
    }
   }
  },
  {
   "cell_type": "code",
   "execution_count": 33,
   "outputs": [
    {
     "name": "stdout",
     "output_type": "stream",
     "text": [
      "categorical column is B_31\n"
     ]
    }
   ],
   "source": [
    "# Column Profiling on spend_cols variables\n",
    "ls_balance_variable = []\n",
    "for item in balance_cols:\n",
    "    if df_1lacs[item].dtype == np.float64:\n",
    "        res = col_profiling(df_1lacs[item])\n",
    "        res['column_name'] = item\n",
    "        ls_balance_variable.append(res)\n",
    "    else:\n",
    "        print(f\"categorical column is {item}\")"
   ],
   "metadata": {
    "collapsed": false,
    "ExecuteTime": {
     "end_time": "2023-05-16T17:51:33.338661892Z",
     "start_time": "2023-05-16T17:51:32.290419774Z"
    }
   }
  },
  {
   "cell_type": "code",
   "execution_count": 34,
   "outputs": [
    {
     "data": {
      "text/plain": "            datatype  null_pct       min_val     max_val  mean_val       std   \ncolumn_name                                                                    \nB_1          float64    0.0000 -8.993963e-01    1.324053  0.125356  0.213396  \\\nB_2          float64    0.0360  3.308280e-06    1.010000  0.616971  0.402275   \nB_3          float64    0.0360  1.042180e-07    1.625262  0.134392  0.234849   \nB_4          float64    0.0000  4.744112e-07    2.789190  0.174172  0.223372   \nB_5          float64    0.0000  1.730131e-07   80.996800  0.081480  0.502791   \nB_6          float64    0.0035 -4.479462e-03   79.091481  0.146276  0.537191   \nB_7          float64    0.0000 -8.528932e-01    1.252750  0.188786  0.232391   \nB_8          float64    0.4240  6.047988e-08    1.010775  0.452783  0.497188   \nB_9          float64    0.0000  6.195194e-08   17.515247  0.190689  0.281801   \nB_10         float64    0.0000 -2.956283e-03  639.939489  0.230777  3.015213   \nB_11         float64    0.0000  3.709072e-08    1.525180  0.112208  0.209700   \nB_12         float64    0.0000  1.002230e-06   44.123427  0.090273  0.480263   \nB_13         float64    0.8920  2.388173e-07   36.079788  0.098171  0.404367   \nB_14         float64    0.0000 -2.421581e+00   39.070146  0.101716  0.298723   \nB_15         float64    0.1030 -2.865356e+00   46.185354  0.053569  0.322563   \nB_16         float64    0.0360  2.427859e-07    1.010000  0.351287  0.402473   \nB_17         float64   56.2295  1.888453e-07    1.009999  0.717395  0.385837   \nB_18         float64    0.0000  2.957189e-06    1.010000  0.592776  0.366601   \nB_19         float64    0.0360  1.573038e-09    1.010000  0.153805  0.293419   \nB_20         float64    0.0360  6.982008e-08    1.010000  0.237967  0.374012   \nB_21         float64    0.0000  4.694556e-08  127.663284  0.058029  0.872497   \nB_22         float64    0.0360  4.842408e-07    2.509360  0.109829  0.225979   \nB_23         float64    0.0000  1.129475e-06    1.500988  0.174306  0.231600   \nB_24         float64    0.0000  1.175905e-08   40.808852  0.037655  0.305058   \nB_25         float64    0.1030 -6.115225e-01    4.691987  0.103707  0.208387   \nB_26         float64    0.0360  4.737701e-08  348.354237  0.087385  2.001896   \nB_27         float64    0.0360  1.044159e-09    0.096994  0.005009  0.002907   \nB_28         float64    0.0000 -1.543319e-05   18.358776  0.156473  0.233383   \nB_29         float64   93.0730  1.769985e-07    8.136186  0.040078  0.312625   \nB_30         float64    0.0360  0.000000e+00    2.000000  0.161853  0.395582   \nB_32         float64    0.0000  2.098142e-09    1.010000  0.030056  0.156337   \nB_33         float64    0.0360  3.028107e-07    1.010000  0.607874  0.489307   \nB_36         float64    0.0000  7.328090e-08    0.526128  0.006549  0.022722   \nB_37         float64    0.0005 -1.344169e+00    1.327811  0.124508  0.213059   \nB_38         float64    0.0360  1.000000e+00    7.000000  2.732824  1.597133   \nB_39         float64   99.3375 -1.687957e-02    1.028844  0.251863  0.289746   \nB_40         float64    0.0005  1.875728e-08   36.801696  0.180871  0.438983   \nB_41         float64    0.0180  1.179258e-08   12.006965  0.031420  0.212501   \nB_42         float64   98.7245  6.107376e-05    7.377707  0.124884  0.348229   \n\n             variance     5_pct    25_pct    50_pct    75_pct    95_pct   \ncolumn_name                                                               \nB_1          0.213396  0.002134  0.008858  0.031935  0.129569  0.610299  \\\nB_2          0.402275  0.019186  0.100550  0.814164  1.002240  1.008441   \nB_3          0.234849  0.001220  0.005291  0.009873  0.163591  0.703738   \nB_4          0.223372  0.003606  0.027683  0.083329  0.240015  0.631093   \nB_5          0.502791  0.001915  0.007256  0.015140  0.052804  0.334800   \nB_6          0.537191  0.006215  0.020036  0.081913  0.191341  0.330372   \nB_7          0.232391  0.008839  0.028490  0.076779  0.277696  0.692244   \nB_8          0.497188  0.000895  0.004526  0.009054  1.004216  1.008680   \nB_9          0.281801  0.001151  0.005771  0.026296  0.340702  0.651531   \nB_10         3.015213  0.009948  0.028273  0.108280  0.295540  0.308348   \nB_11         0.209700  0.001527  0.006615  0.019958  0.105499  0.582313   \nB_12         0.480263  0.006261  0.010831  0.018956  0.067917  0.326422   \nB_13         0.404367  0.002499  0.009156  0.029208  0.089483  0.343635   \nB_14         0.298723  0.001907  0.008154  0.028759  0.100097  0.408646   \nB_15         0.322563  0.000628  0.003142  0.006245  0.009298  0.232767   \nB_16         0.402473  0.001239  0.006298  0.092066  0.756898  1.007308   \nB_17         0.385837  0.002890  0.491454  0.932885  1.002256  1.008448   \nB_18         0.366601  0.055971  0.205892  0.646147  1.003246  1.008660   \nB_19         0.293419  0.000701  0.003482  0.006960  0.103696  0.915184   \nB_20         0.374012  0.000816  0.004079  0.008135  0.358850  1.006623   \nB_21         0.872497  0.000504  0.002543  0.005083  0.007653  0.009695   \nB_22         0.225979  0.000611  0.003109  0.006205  0.009305  0.508020   \nB_23         0.231600  0.005127  0.017680  0.060561  0.254174  0.684112   \nB_24         0.305058  0.000517  0.002570  0.005165  0.007758  0.009826   \nB_25         0.208387  0.001252  0.005947  0.020172  0.104459  0.469163   \nB_26         2.001896  0.000519  0.002617  0.005230  0.007869  0.009966   \nB_27         0.002907  0.000503  0.002496  0.005008  0.007513  0.009507   \nB_28         0.233383  0.006604  0.027580  0.078075  0.196856  0.561282   \nB_29         0.312625  0.000545  0.002573  0.005066  0.007647  0.009697   \nB_30         0.395582  0.000000  0.000000  0.000000  0.000000  1.000000   \nB_32         0.156337  0.000512  0.002556  0.005123  0.007690  0.009743   \nB_33         0.489307  0.001261  0.006291  1.001698  1.005844  1.009164   \nB_36         0.022722  0.000510  0.002528  0.005037  0.007560  0.009562   \nB_37         0.213059  0.002078  0.008838  0.031727  0.127477  0.608528   \nB_38         1.597133  1.000000  2.000000  2.000000  3.000000  6.000000   \nB_39         0.289746  0.005987  0.067726  0.152645  0.286672  1.005157   \nB_40         0.438983  0.003305  0.017602  0.059405  0.250978  0.635963   \nB_41         0.212501  0.000519  0.002558  0.005115  0.007657  0.009691   \nB_42         0.348229  0.002026  0.007219  0.020079  0.106197  0.604951   \n\n             num_uniq  \ncolumn_name            \nB_1            200000  \nB_2            199928  \nB_3            199928  \nB_4            200000  \nB_5            200000  \nB_6            199993  \nB_7            200000  \nB_8            199152  \nB_9            200000  \nB_10           200000  \nB_11           200000  \nB_12           200000  \nB_13           198216  \nB_14           200000  \nB_15           199794  \nB_16           199928  \nB_17            87541  \nB_18           200000  \nB_19           199928  \nB_20           199928  \nB_21           200000  \nB_22           199928  \nB_23           200000  \nB_24           200000  \nB_25           199794  \nB_26           199928  \nB_27           199928  \nB_28           200000  \nB_29            13854  \nB_30                3  \nB_32           200000  \nB_33           199928  \nB_36           200000  \nB_37           199999  \nB_38                7  \nB_39             1325  \nB_40           199999  \nB_41           199964  \nB_42             2551  ",
      "text/html": "<div>\n<style scoped>\n    .dataframe tbody tr th:only-of-type {\n        vertical-align: middle;\n    }\n\n    .dataframe tbody tr th {\n        vertical-align: top;\n    }\n\n    .dataframe thead th {\n        text-align: right;\n    }\n</style>\n<table border=\"1\" class=\"dataframe\">\n  <thead>\n    <tr style=\"text-align: right;\">\n      <th></th>\n      <th>datatype</th>\n      <th>null_pct</th>\n      <th>min_val</th>\n      <th>max_val</th>\n      <th>mean_val</th>\n      <th>std</th>\n      <th>variance</th>\n      <th>5_pct</th>\n      <th>25_pct</th>\n      <th>50_pct</th>\n      <th>75_pct</th>\n      <th>95_pct</th>\n      <th>num_uniq</th>\n    </tr>\n    <tr>\n      <th>column_name</th>\n      <th></th>\n      <th></th>\n      <th></th>\n      <th></th>\n      <th></th>\n      <th></th>\n      <th></th>\n      <th></th>\n      <th></th>\n      <th></th>\n      <th></th>\n      <th></th>\n      <th></th>\n    </tr>\n  </thead>\n  <tbody>\n    <tr>\n      <th>B_1</th>\n      <td>float64</td>\n      <td>0.0000</td>\n      <td>-8.993963e-01</td>\n      <td>1.324053</td>\n      <td>0.125356</td>\n      <td>0.213396</td>\n      <td>0.213396</td>\n      <td>0.002134</td>\n      <td>0.008858</td>\n      <td>0.031935</td>\n      <td>0.129569</td>\n      <td>0.610299</td>\n      <td>200000</td>\n    </tr>\n    <tr>\n      <th>B_2</th>\n      <td>float64</td>\n      <td>0.0360</td>\n      <td>3.308280e-06</td>\n      <td>1.010000</td>\n      <td>0.616971</td>\n      <td>0.402275</td>\n      <td>0.402275</td>\n      <td>0.019186</td>\n      <td>0.100550</td>\n      <td>0.814164</td>\n      <td>1.002240</td>\n      <td>1.008441</td>\n      <td>199928</td>\n    </tr>\n    <tr>\n      <th>B_3</th>\n      <td>float64</td>\n      <td>0.0360</td>\n      <td>1.042180e-07</td>\n      <td>1.625262</td>\n      <td>0.134392</td>\n      <td>0.234849</td>\n      <td>0.234849</td>\n      <td>0.001220</td>\n      <td>0.005291</td>\n      <td>0.009873</td>\n      <td>0.163591</td>\n      <td>0.703738</td>\n      <td>199928</td>\n    </tr>\n    <tr>\n      <th>B_4</th>\n      <td>float64</td>\n      <td>0.0000</td>\n      <td>4.744112e-07</td>\n      <td>2.789190</td>\n      <td>0.174172</td>\n      <td>0.223372</td>\n      <td>0.223372</td>\n      <td>0.003606</td>\n      <td>0.027683</td>\n      <td>0.083329</td>\n      <td>0.240015</td>\n      <td>0.631093</td>\n      <td>200000</td>\n    </tr>\n    <tr>\n      <th>B_5</th>\n      <td>float64</td>\n      <td>0.0000</td>\n      <td>1.730131e-07</td>\n      <td>80.996800</td>\n      <td>0.081480</td>\n      <td>0.502791</td>\n      <td>0.502791</td>\n      <td>0.001915</td>\n      <td>0.007256</td>\n      <td>0.015140</td>\n      <td>0.052804</td>\n      <td>0.334800</td>\n      <td>200000</td>\n    </tr>\n    <tr>\n      <th>B_6</th>\n      <td>float64</td>\n      <td>0.0035</td>\n      <td>-4.479462e-03</td>\n      <td>79.091481</td>\n      <td>0.146276</td>\n      <td>0.537191</td>\n      <td>0.537191</td>\n      <td>0.006215</td>\n      <td>0.020036</td>\n      <td>0.081913</td>\n      <td>0.191341</td>\n      <td>0.330372</td>\n      <td>199993</td>\n    </tr>\n    <tr>\n      <th>B_7</th>\n      <td>float64</td>\n      <td>0.0000</td>\n      <td>-8.528932e-01</td>\n      <td>1.252750</td>\n      <td>0.188786</td>\n      <td>0.232391</td>\n      <td>0.232391</td>\n      <td>0.008839</td>\n      <td>0.028490</td>\n      <td>0.076779</td>\n      <td>0.277696</td>\n      <td>0.692244</td>\n      <td>200000</td>\n    </tr>\n    <tr>\n      <th>B_8</th>\n      <td>float64</td>\n      <td>0.4240</td>\n      <td>6.047988e-08</td>\n      <td>1.010775</td>\n      <td>0.452783</td>\n      <td>0.497188</td>\n      <td>0.497188</td>\n      <td>0.000895</td>\n      <td>0.004526</td>\n      <td>0.009054</td>\n      <td>1.004216</td>\n      <td>1.008680</td>\n      <td>199152</td>\n    </tr>\n    <tr>\n      <th>B_9</th>\n      <td>float64</td>\n      <td>0.0000</td>\n      <td>6.195194e-08</td>\n      <td>17.515247</td>\n      <td>0.190689</td>\n      <td>0.281801</td>\n      <td>0.281801</td>\n      <td>0.001151</td>\n      <td>0.005771</td>\n      <td>0.026296</td>\n      <td>0.340702</td>\n      <td>0.651531</td>\n      <td>200000</td>\n    </tr>\n    <tr>\n      <th>B_10</th>\n      <td>float64</td>\n      <td>0.0000</td>\n      <td>-2.956283e-03</td>\n      <td>639.939489</td>\n      <td>0.230777</td>\n      <td>3.015213</td>\n      <td>3.015213</td>\n      <td>0.009948</td>\n      <td>0.028273</td>\n      <td>0.108280</td>\n      <td>0.295540</td>\n      <td>0.308348</td>\n      <td>200000</td>\n    </tr>\n    <tr>\n      <th>B_11</th>\n      <td>float64</td>\n      <td>0.0000</td>\n      <td>3.709072e-08</td>\n      <td>1.525180</td>\n      <td>0.112208</td>\n      <td>0.209700</td>\n      <td>0.209700</td>\n      <td>0.001527</td>\n      <td>0.006615</td>\n      <td>0.019958</td>\n      <td>0.105499</td>\n      <td>0.582313</td>\n      <td>200000</td>\n    </tr>\n    <tr>\n      <th>B_12</th>\n      <td>float64</td>\n      <td>0.0000</td>\n      <td>1.002230e-06</td>\n      <td>44.123427</td>\n      <td>0.090273</td>\n      <td>0.480263</td>\n      <td>0.480263</td>\n      <td>0.006261</td>\n      <td>0.010831</td>\n      <td>0.018956</td>\n      <td>0.067917</td>\n      <td>0.326422</td>\n      <td>200000</td>\n    </tr>\n    <tr>\n      <th>B_13</th>\n      <td>float64</td>\n      <td>0.8920</td>\n      <td>2.388173e-07</td>\n      <td>36.079788</td>\n      <td>0.098171</td>\n      <td>0.404367</td>\n      <td>0.404367</td>\n      <td>0.002499</td>\n      <td>0.009156</td>\n      <td>0.029208</td>\n      <td>0.089483</td>\n      <td>0.343635</td>\n      <td>198216</td>\n    </tr>\n    <tr>\n      <th>B_14</th>\n      <td>float64</td>\n      <td>0.0000</td>\n      <td>-2.421581e+00</td>\n      <td>39.070146</td>\n      <td>0.101716</td>\n      <td>0.298723</td>\n      <td>0.298723</td>\n      <td>0.001907</td>\n      <td>0.008154</td>\n      <td>0.028759</td>\n      <td>0.100097</td>\n      <td>0.408646</td>\n      <td>200000</td>\n    </tr>\n    <tr>\n      <th>B_15</th>\n      <td>float64</td>\n      <td>0.1030</td>\n      <td>-2.865356e+00</td>\n      <td>46.185354</td>\n      <td>0.053569</td>\n      <td>0.322563</td>\n      <td>0.322563</td>\n      <td>0.000628</td>\n      <td>0.003142</td>\n      <td>0.006245</td>\n      <td>0.009298</td>\n      <td>0.232767</td>\n      <td>199794</td>\n    </tr>\n    <tr>\n      <th>B_16</th>\n      <td>float64</td>\n      <td>0.0360</td>\n      <td>2.427859e-07</td>\n      <td>1.010000</td>\n      <td>0.351287</td>\n      <td>0.402473</td>\n      <td>0.402473</td>\n      <td>0.001239</td>\n      <td>0.006298</td>\n      <td>0.092066</td>\n      <td>0.756898</td>\n      <td>1.007308</td>\n      <td>199928</td>\n    </tr>\n    <tr>\n      <th>B_17</th>\n      <td>float64</td>\n      <td>56.2295</td>\n      <td>1.888453e-07</td>\n      <td>1.009999</td>\n      <td>0.717395</td>\n      <td>0.385837</td>\n      <td>0.385837</td>\n      <td>0.002890</td>\n      <td>0.491454</td>\n      <td>0.932885</td>\n      <td>1.002256</td>\n      <td>1.008448</td>\n      <td>87541</td>\n    </tr>\n    <tr>\n      <th>B_18</th>\n      <td>float64</td>\n      <td>0.0000</td>\n      <td>2.957189e-06</td>\n      <td>1.010000</td>\n      <td>0.592776</td>\n      <td>0.366601</td>\n      <td>0.366601</td>\n      <td>0.055971</td>\n      <td>0.205892</td>\n      <td>0.646147</td>\n      <td>1.003246</td>\n      <td>1.008660</td>\n      <td>200000</td>\n    </tr>\n    <tr>\n      <th>B_19</th>\n      <td>float64</td>\n      <td>0.0360</td>\n      <td>1.573038e-09</td>\n      <td>1.010000</td>\n      <td>0.153805</td>\n      <td>0.293419</td>\n      <td>0.293419</td>\n      <td>0.000701</td>\n      <td>0.003482</td>\n      <td>0.006960</td>\n      <td>0.103696</td>\n      <td>0.915184</td>\n      <td>199928</td>\n    </tr>\n    <tr>\n      <th>B_20</th>\n      <td>float64</td>\n      <td>0.0360</td>\n      <td>6.982008e-08</td>\n      <td>1.010000</td>\n      <td>0.237967</td>\n      <td>0.374012</td>\n      <td>0.374012</td>\n      <td>0.000816</td>\n      <td>0.004079</td>\n      <td>0.008135</td>\n      <td>0.358850</td>\n      <td>1.006623</td>\n      <td>199928</td>\n    </tr>\n    <tr>\n      <th>B_21</th>\n      <td>float64</td>\n      <td>0.0000</td>\n      <td>4.694556e-08</td>\n      <td>127.663284</td>\n      <td>0.058029</td>\n      <td>0.872497</td>\n      <td>0.872497</td>\n      <td>0.000504</td>\n      <td>0.002543</td>\n      <td>0.005083</td>\n      <td>0.007653</td>\n      <td>0.009695</td>\n      <td>200000</td>\n    </tr>\n    <tr>\n      <th>B_22</th>\n      <td>float64</td>\n      <td>0.0360</td>\n      <td>4.842408e-07</td>\n      <td>2.509360</td>\n      <td>0.109829</td>\n      <td>0.225979</td>\n      <td>0.225979</td>\n      <td>0.000611</td>\n      <td>0.003109</td>\n      <td>0.006205</td>\n      <td>0.009305</td>\n      <td>0.508020</td>\n      <td>199928</td>\n    </tr>\n    <tr>\n      <th>B_23</th>\n      <td>float64</td>\n      <td>0.0000</td>\n      <td>1.129475e-06</td>\n      <td>1.500988</td>\n      <td>0.174306</td>\n      <td>0.231600</td>\n      <td>0.231600</td>\n      <td>0.005127</td>\n      <td>0.017680</td>\n      <td>0.060561</td>\n      <td>0.254174</td>\n      <td>0.684112</td>\n      <td>200000</td>\n    </tr>\n    <tr>\n      <th>B_24</th>\n      <td>float64</td>\n      <td>0.0000</td>\n      <td>1.175905e-08</td>\n      <td>40.808852</td>\n      <td>0.037655</td>\n      <td>0.305058</td>\n      <td>0.305058</td>\n      <td>0.000517</td>\n      <td>0.002570</td>\n      <td>0.005165</td>\n      <td>0.007758</td>\n      <td>0.009826</td>\n      <td>200000</td>\n    </tr>\n    <tr>\n      <th>B_25</th>\n      <td>float64</td>\n      <td>0.1030</td>\n      <td>-6.115225e-01</td>\n      <td>4.691987</td>\n      <td>0.103707</td>\n      <td>0.208387</td>\n      <td>0.208387</td>\n      <td>0.001252</td>\n      <td>0.005947</td>\n      <td>0.020172</td>\n      <td>0.104459</td>\n      <td>0.469163</td>\n      <td>199794</td>\n    </tr>\n    <tr>\n      <th>B_26</th>\n      <td>float64</td>\n      <td>0.0360</td>\n      <td>4.737701e-08</td>\n      <td>348.354237</td>\n      <td>0.087385</td>\n      <td>2.001896</td>\n      <td>2.001896</td>\n      <td>0.000519</td>\n      <td>0.002617</td>\n      <td>0.005230</td>\n      <td>0.007869</td>\n      <td>0.009966</td>\n      <td>199928</td>\n    </tr>\n    <tr>\n      <th>B_27</th>\n      <td>float64</td>\n      <td>0.0360</td>\n      <td>1.044159e-09</td>\n      <td>0.096994</td>\n      <td>0.005009</td>\n      <td>0.002907</td>\n      <td>0.002907</td>\n      <td>0.000503</td>\n      <td>0.002496</td>\n      <td>0.005008</td>\n      <td>0.007513</td>\n      <td>0.009507</td>\n      <td>199928</td>\n    </tr>\n    <tr>\n      <th>B_28</th>\n      <td>float64</td>\n      <td>0.0000</td>\n      <td>-1.543319e-05</td>\n      <td>18.358776</td>\n      <td>0.156473</td>\n      <td>0.233383</td>\n      <td>0.233383</td>\n      <td>0.006604</td>\n      <td>0.027580</td>\n      <td>0.078075</td>\n      <td>0.196856</td>\n      <td>0.561282</td>\n      <td>200000</td>\n    </tr>\n    <tr>\n      <th>B_29</th>\n      <td>float64</td>\n      <td>93.0730</td>\n      <td>1.769985e-07</td>\n      <td>8.136186</td>\n      <td>0.040078</td>\n      <td>0.312625</td>\n      <td>0.312625</td>\n      <td>0.000545</td>\n      <td>0.002573</td>\n      <td>0.005066</td>\n      <td>0.007647</td>\n      <td>0.009697</td>\n      <td>13854</td>\n    </tr>\n    <tr>\n      <th>B_30</th>\n      <td>float64</td>\n      <td>0.0360</td>\n      <td>0.000000e+00</td>\n      <td>2.000000</td>\n      <td>0.161853</td>\n      <td>0.395582</td>\n      <td>0.395582</td>\n      <td>0.000000</td>\n      <td>0.000000</td>\n      <td>0.000000</td>\n      <td>0.000000</td>\n      <td>1.000000</td>\n      <td>3</td>\n    </tr>\n    <tr>\n      <th>B_32</th>\n      <td>float64</td>\n      <td>0.0000</td>\n      <td>2.098142e-09</td>\n      <td>1.010000</td>\n      <td>0.030056</td>\n      <td>0.156337</td>\n      <td>0.156337</td>\n      <td>0.000512</td>\n      <td>0.002556</td>\n      <td>0.005123</td>\n      <td>0.007690</td>\n      <td>0.009743</td>\n      <td>200000</td>\n    </tr>\n    <tr>\n      <th>B_33</th>\n      <td>float64</td>\n      <td>0.0360</td>\n      <td>3.028107e-07</td>\n      <td>1.010000</td>\n      <td>0.607874</td>\n      <td>0.489307</td>\n      <td>0.489307</td>\n      <td>0.001261</td>\n      <td>0.006291</td>\n      <td>1.001698</td>\n      <td>1.005844</td>\n      <td>1.009164</td>\n      <td>199928</td>\n    </tr>\n    <tr>\n      <th>B_36</th>\n      <td>float64</td>\n      <td>0.0000</td>\n      <td>7.328090e-08</td>\n      <td>0.526128</td>\n      <td>0.006549</td>\n      <td>0.022722</td>\n      <td>0.022722</td>\n      <td>0.000510</td>\n      <td>0.002528</td>\n      <td>0.005037</td>\n      <td>0.007560</td>\n      <td>0.009562</td>\n      <td>200000</td>\n    </tr>\n    <tr>\n      <th>B_37</th>\n      <td>float64</td>\n      <td>0.0005</td>\n      <td>-1.344169e+00</td>\n      <td>1.327811</td>\n      <td>0.124508</td>\n      <td>0.213059</td>\n      <td>0.213059</td>\n      <td>0.002078</td>\n      <td>0.008838</td>\n      <td>0.031727</td>\n      <td>0.127477</td>\n      <td>0.608528</td>\n      <td>199999</td>\n    </tr>\n    <tr>\n      <th>B_38</th>\n      <td>float64</td>\n      <td>0.0360</td>\n      <td>1.000000e+00</td>\n      <td>7.000000</td>\n      <td>2.732824</td>\n      <td>1.597133</td>\n      <td>1.597133</td>\n      <td>1.000000</td>\n      <td>2.000000</td>\n      <td>2.000000</td>\n      <td>3.000000</td>\n      <td>6.000000</td>\n      <td>7</td>\n    </tr>\n    <tr>\n      <th>B_39</th>\n      <td>float64</td>\n      <td>99.3375</td>\n      <td>-1.687957e-02</td>\n      <td>1.028844</td>\n      <td>0.251863</td>\n      <td>0.289746</td>\n      <td>0.289746</td>\n      <td>0.005987</td>\n      <td>0.067726</td>\n      <td>0.152645</td>\n      <td>0.286672</td>\n      <td>1.005157</td>\n      <td>1325</td>\n    </tr>\n    <tr>\n      <th>B_40</th>\n      <td>float64</td>\n      <td>0.0005</td>\n      <td>1.875728e-08</td>\n      <td>36.801696</td>\n      <td>0.180871</td>\n      <td>0.438983</td>\n      <td>0.438983</td>\n      <td>0.003305</td>\n      <td>0.017602</td>\n      <td>0.059405</td>\n      <td>0.250978</td>\n      <td>0.635963</td>\n      <td>199999</td>\n    </tr>\n    <tr>\n      <th>B_41</th>\n      <td>float64</td>\n      <td>0.0180</td>\n      <td>1.179258e-08</td>\n      <td>12.006965</td>\n      <td>0.031420</td>\n      <td>0.212501</td>\n      <td>0.212501</td>\n      <td>0.000519</td>\n      <td>0.002558</td>\n      <td>0.005115</td>\n      <td>0.007657</td>\n      <td>0.009691</td>\n      <td>199964</td>\n    </tr>\n    <tr>\n      <th>B_42</th>\n      <td>float64</td>\n      <td>98.7245</td>\n      <td>6.107376e-05</td>\n      <td>7.377707</td>\n      <td>0.124884</td>\n      <td>0.348229</td>\n      <td>0.348229</td>\n      <td>0.002026</td>\n      <td>0.007219</td>\n      <td>0.020079</td>\n      <td>0.106197</td>\n      <td>0.604951</td>\n      <td>2551</td>\n    </tr>\n  </tbody>\n</table>\n</div>"
     },
     "execution_count": 34,
     "metadata": {},
     "output_type": "execute_result"
    }
   ],
   "source": [
    "col_meta = pd.DataFrame(ls_balance_variable).set_index('column_name')\n",
    "col_meta"
   ],
   "metadata": {
    "collapsed": false,
    "ExecuteTime": {
     "end_time": "2023-05-16T17:52:16.463160745Z",
     "start_time": "2023-05-16T17:52:16.421169191Z"
    }
   }
  },
  {
   "cell_type": "code",
   "execution_count": 35,
   "outputs": [],
   "source": [
    "# Column Profiling on payment variables\n",
    "ls_payment_variable = []\n",
    "for item in payment_cols:\n",
    "    if df_1lacs[item].dtype == np.float64:\n",
    "        res = col_profiling(df_1lacs[item])\n",
    "        res['column_name'] = item\n",
    "        ls_payment_variable.append(res)\n",
    "    else:\n",
    "        print(f\"categorical column is {item}\")"
   ],
   "metadata": {
    "collapsed": false,
    "ExecuteTime": {
     "end_time": "2023-05-16T18:00:47.751065420Z",
     "start_time": "2023-05-16T18:00:47.663165932Z"
    }
   }
  },
  {
   "cell_type": "code",
   "execution_count": 37,
   "outputs": [
    {
     "data": {
      "text/plain": "            datatype  null_pct       min_val   max_val  mean_val       std   \ncolumn_name                                                                  \nP_2          float64    0.7710 -3.830190e-01  1.009998  0.653527  0.246135  \\\nP_3          float64    5.4435 -1.055714e+00  2.027742  0.600592  0.171354   \nP_4          float64    0.0000  6.667930e-08  1.198705  0.146603  0.340980   \n\n             variance     5_pct    25_pct    50_pct    75_pct    95_pct   \ncolumn_name                                                               \nP_2          0.246135  0.216871  0.476334  0.691541  0.863455  0.975531  \\\nP_3          0.171354  0.302522  0.539831  0.618742  0.684020  0.830895   \nP_4          0.340980  0.000584  0.002925  0.005853  0.008792  0.964440   \n\n             num_uniq  \ncolumn_name            \nP_2            198458  \nP_3            189113  \nP_4            200000  ",
      "text/html": "<div>\n<style scoped>\n    .dataframe tbody tr th:only-of-type {\n        vertical-align: middle;\n    }\n\n    .dataframe tbody tr th {\n        vertical-align: top;\n    }\n\n    .dataframe thead th {\n        text-align: right;\n    }\n</style>\n<table border=\"1\" class=\"dataframe\">\n  <thead>\n    <tr style=\"text-align: right;\">\n      <th></th>\n      <th>datatype</th>\n      <th>null_pct</th>\n      <th>min_val</th>\n      <th>max_val</th>\n      <th>mean_val</th>\n      <th>std</th>\n      <th>variance</th>\n      <th>5_pct</th>\n      <th>25_pct</th>\n      <th>50_pct</th>\n      <th>75_pct</th>\n      <th>95_pct</th>\n      <th>num_uniq</th>\n    </tr>\n    <tr>\n      <th>column_name</th>\n      <th></th>\n      <th></th>\n      <th></th>\n      <th></th>\n      <th></th>\n      <th></th>\n      <th></th>\n      <th></th>\n      <th></th>\n      <th></th>\n      <th></th>\n      <th></th>\n      <th></th>\n    </tr>\n  </thead>\n  <tbody>\n    <tr>\n      <th>P_2</th>\n      <td>float64</td>\n      <td>0.7710</td>\n      <td>-3.830190e-01</td>\n      <td>1.009998</td>\n      <td>0.653527</td>\n      <td>0.246135</td>\n      <td>0.246135</td>\n      <td>0.216871</td>\n      <td>0.476334</td>\n      <td>0.691541</td>\n      <td>0.863455</td>\n      <td>0.975531</td>\n      <td>198458</td>\n    </tr>\n    <tr>\n      <th>P_3</th>\n      <td>float64</td>\n      <td>5.4435</td>\n      <td>-1.055714e+00</td>\n      <td>2.027742</td>\n      <td>0.600592</td>\n      <td>0.171354</td>\n      <td>0.171354</td>\n      <td>0.302522</td>\n      <td>0.539831</td>\n      <td>0.618742</td>\n      <td>0.684020</td>\n      <td>0.830895</td>\n      <td>189113</td>\n    </tr>\n    <tr>\n      <th>P_4</th>\n      <td>float64</td>\n      <td>0.0000</td>\n      <td>6.667930e-08</td>\n      <td>1.198705</td>\n      <td>0.146603</td>\n      <td>0.340980</td>\n      <td>0.340980</td>\n      <td>0.000584</td>\n      <td>0.002925</td>\n      <td>0.005853</td>\n      <td>0.008792</td>\n      <td>0.964440</td>\n      <td>200000</td>\n    </tr>\n  </tbody>\n</table>\n</div>"
     },
     "execution_count": 37,
     "metadata": {},
     "output_type": "execute_result"
    }
   ],
   "source": [
    "col_meta = pd.DataFrame(ls_payment_variable).set_index('column_name')\n",
    "col_meta"
   ],
   "metadata": {
    "collapsed": false,
    "ExecuteTime": {
     "end_time": "2023-05-16T18:01:07.515609601Z",
     "start_time": "2023-05-16T18:01:07.497509755Z"
    }
   }
  },
  {
   "cell_type": "code",
   "execution_count": 38,
   "outputs": [],
   "source": [
    "# Column Profiling on risk variables\n",
    "ls_risk_variable = []\n",
    "for item in risk_cols:\n",
    "    if df_1lacs[item].dtype == np.float64:\n",
    "        res = col_profiling(df_1lacs[item])\n",
    "        res['column_name'] = item\n",
    "        ls_risk_variable.append(res)\n",
    "    else:\n",
    "        print(f\"categorical column is {item}\")"
   ],
   "metadata": {
    "collapsed": false,
    "ExecuteTime": {
     "end_time": "2023-05-16T18:02:43.719586579Z",
     "start_time": "2023-05-16T18:02:42.907956524Z"
    }
   }
  },
  {
   "cell_type": "code",
   "execution_count": 39,
   "outputs": [
    {
     "data": {
      "text/plain": "            datatype  null_pct       min_val     max_val  mean_val       std   \ncolumn_name                                                                    \nR_1          float64    0.0000  2.962930e-08    2.507711  0.081215  0.230995  \\\nR_2          float64    0.0000  8.265748e-10    1.009999  0.049152  0.205465   \nR_3          float64    0.0000  2.238322e-09    6.709854  0.121991  0.214724   \nR_4          float64    0.0000  3.459658e-09    1.009994  0.032688  0.164094   \nR_5          float64    0.0000  7.782544e-08   13.005083  0.036992  0.262912   \nR_6          float64    0.0000  1.540863e-07   14.448172  0.058706  0.625465   \nR_7          float64    0.0000  1.198959e-08  252.765475  0.093112  1.760810   \nR_8          float64    0.0000  6.524608e-08   15.009584  0.040451  0.311915   \nR_9          float64   94.0525  3.121485e-07    1.509625  0.226718  0.183068   \nR_10         float64    0.0000  2.846930e-08    8.009431  0.066089  0.305472   \nR_11         float64    0.0000  2.043108e-08    4.007014  0.050061  0.173024   \nR_12         float64    0.0010 -9.106670e-02    1.010000  0.979680  0.152151   \nR_13         float64    0.0000  2.203433e-08    0.525920  0.005537  0.007391   \nR_14         float64    0.0000  2.324192e-07  924.900177  0.176636  5.225136   \nR_15         float64    0.0000  2.475791e-08    1.010000  0.020774  0.124633   \nR_16         float64    0.0000  3.830588e-09   18.500131  0.059247  0.247521   \nR_17         float64    0.0000  1.205504e-08    0.494791  0.005351  0.006466   \nR_18         float64    0.0000  4.197775e-08    0.263310  0.005003  0.002998   \nR_19         float64    0.0000  9.077996e-09    1.009997  0.022679  0.131812   \nR_20         float64    0.0030  1.037661e-07   34.004771  0.038524  0.396452   \nR_21         float64    0.0000  9.306526e-08    1.009995  0.021549  0.127631   \nR_22         float64    0.0000  2.438857e-08    1.009955  0.008752  0.061264   \nR_23         float64    0.0000  2.836777e-08    1.009935  0.005288  0.017423   \nR_24         float64    0.0000  5.101269e-08    1.010000  0.019424  0.119282   \nR_25         float64    0.0000  6.632429e-08    1.009979  0.008261  0.056936   \nR_26         float64   88.9865  3.296166e-07    4.329881  0.084607  0.229579   \nR_27         float64    2.2905 -1.708449e-02    1.010000  0.893757  0.312227   \nR_28         float64    0.0000  1.746015e-08    1.009988  0.005828  0.028685   \n\n             variance     5_pct    25_pct    50_pct    75_pct    95_pct   \ncolumn_name                                                               \nR_1          0.230995  0.000579  0.002900  0.005793  0.008685  0.507647  \\\nR_2          0.205465  0.000517  0.002610  0.005230  0.007842  0.009938   \nR_3          0.214724  0.000945  0.004699  0.009367  0.200358  0.504391   \nR_4          0.164094  0.000511  0.002577  0.005140  0.007719  0.009775   \nR_5          0.262912  0.000515  0.002568  0.005154  0.007729  0.009794   \nR_6          0.625465  0.000521  0.002602  0.005208  0.007798  0.009870   \nR_7          1.760810  0.000514  0.002573  0.005144  0.007719  0.009773   \nR_8          0.311915  0.000514  0.002563  0.005109  0.007667  0.009711   \nR_9          0.183068  0.006477  0.169109  0.172702  0.176203  0.508318   \nR_10         0.305472  0.000527  0.002621  0.005247  0.007872  0.009985   \nR_11         0.173024  0.000549  0.002708  0.005411  0.008121  0.503964   \nR_12         0.152151  1.000234  1.002284  1.004847  1.007421  1.009475   \nR_13         0.007391  0.000508  0.002537  0.005067  0.007581  0.009592   \nR_14         5.225136  0.000507  0.002525  0.005052  0.007606  0.009643   \nR_15         0.124633  0.000503  0.002533  0.005085  0.007624  0.009658   \nR_16         0.247521  0.000542  0.002704  0.005415  0.008110  0.504357   \nR_17         0.006466  0.000510  0.002524  0.005044  0.007542  0.009567   \nR_18         0.002998  0.000498  0.002509  0.004996  0.007497  0.009491   \nR_19         0.131812  0.000505  0.002543  0.005097  0.007637  0.009670   \nR_20         0.396452  0.000496  0.002532  0.005066  0.007610  0.009655   \nR_21         0.127631  0.000513  0.002532  0.005075  0.007624  0.009660   \nR_22         0.061264  0.000504  0.002505  0.005018  0.007511  0.009528   \nR_23         0.017423  0.000496  0.002479  0.004990  0.007500  0.009503   \nR_24         0.119282  0.000512  0.002538  0.005061  0.007593  0.009633   \nR_25         0.056936  0.000506  0.002524  0.005042  0.007548  0.009534   \nR_26         0.229579  0.001097  0.005325  0.037030  0.076663  0.326064   \nR_27         0.312227  0.015855  1.001552  1.004353  1.007184  1.009434   \nR_28         0.028685  0.000504  0.002514  0.005029  0.007519  0.009519   \n\n             num_uniq  \ncolumn_name            \nR_1            200000  \nR_2            200000  \nR_3            200000  \nR_4            200000  \nR_5            200000  \nR_6            200000  \nR_7            200000  \nR_8            200000  \nR_9             11895  \nR_10           200000  \nR_11           200000  \nR_12           199998  \nR_13           200000  \nR_14           200000  \nR_15           200000  \nR_16           200000  \nR_17           200000  \nR_18           200000  \nR_19           200000  \nR_20           199994  \nR_21           200000  \nR_22           200000  \nR_23           200000  \nR_24           200000  \nR_25           200000  \nR_26            22027  \nR_27           195419  \nR_28           200000  ",
      "text/html": "<div>\n<style scoped>\n    .dataframe tbody tr th:only-of-type {\n        vertical-align: middle;\n    }\n\n    .dataframe tbody tr th {\n        vertical-align: top;\n    }\n\n    .dataframe thead th {\n        text-align: right;\n    }\n</style>\n<table border=\"1\" class=\"dataframe\">\n  <thead>\n    <tr style=\"text-align: right;\">\n      <th></th>\n      <th>datatype</th>\n      <th>null_pct</th>\n      <th>min_val</th>\n      <th>max_val</th>\n      <th>mean_val</th>\n      <th>std</th>\n      <th>variance</th>\n      <th>5_pct</th>\n      <th>25_pct</th>\n      <th>50_pct</th>\n      <th>75_pct</th>\n      <th>95_pct</th>\n      <th>num_uniq</th>\n    </tr>\n    <tr>\n      <th>column_name</th>\n      <th></th>\n      <th></th>\n      <th></th>\n      <th></th>\n      <th></th>\n      <th></th>\n      <th></th>\n      <th></th>\n      <th></th>\n      <th></th>\n      <th></th>\n      <th></th>\n      <th></th>\n    </tr>\n  </thead>\n  <tbody>\n    <tr>\n      <th>R_1</th>\n      <td>float64</td>\n      <td>0.0000</td>\n      <td>2.962930e-08</td>\n      <td>2.507711</td>\n      <td>0.081215</td>\n      <td>0.230995</td>\n      <td>0.230995</td>\n      <td>0.000579</td>\n      <td>0.002900</td>\n      <td>0.005793</td>\n      <td>0.008685</td>\n      <td>0.507647</td>\n      <td>200000</td>\n    </tr>\n    <tr>\n      <th>R_2</th>\n      <td>float64</td>\n      <td>0.0000</td>\n      <td>8.265748e-10</td>\n      <td>1.009999</td>\n      <td>0.049152</td>\n      <td>0.205465</td>\n      <td>0.205465</td>\n      <td>0.000517</td>\n      <td>0.002610</td>\n      <td>0.005230</td>\n      <td>0.007842</td>\n      <td>0.009938</td>\n      <td>200000</td>\n    </tr>\n    <tr>\n      <th>R_3</th>\n      <td>float64</td>\n      <td>0.0000</td>\n      <td>2.238322e-09</td>\n      <td>6.709854</td>\n      <td>0.121991</td>\n      <td>0.214724</td>\n      <td>0.214724</td>\n      <td>0.000945</td>\n      <td>0.004699</td>\n      <td>0.009367</td>\n      <td>0.200358</td>\n      <td>0.504391</td>\n      <td>200000</td>\n    </tr>\n    <tr>\n      <th>R_4</th>\n      <td>float64</td>\n      <td>0.0000</td>\n      <td>3.459658e-09</td>\n      <td>1.009994</td>\n      <td>0.032688</td>\n      <td>0.164094</td>\n      <td>0.164094</td>\n      <td>0.000511</td>\n      <td>0.002577</td>\n      <td>0.005140</td>\n      <td>0.007719</td>\n      <td>0.009775</td>\n      <td>200000</td>\n    </tr>\n    <tr>\n      <th>R_5</th>\n      <td>float64</td>\n      <td>0.0000</td>\n      <td>7.782544e-08</td>\n      <td>13.005083</td>\n      <td>0.036992</td>\n      <td>0.262912</td>\n      <td>0.262912</td>\n      <td>0.000515</td>\n      <td>0.002568</td>\n      <td>0.005154</td>\n      <td>0.007729</td>\n      <td>0.009794</td>\n      <td>200000</td>\n    </tr>\n    <tr>\n      <th>R_6</th>\n      <td>float64</td>\n      <td>0.0000</td>\n      <td>1.540863e-07</td>\n      <td>14.448172</td>\n      <td>0.058706</td>\n      <td>0.625465</td>\n      <td>0.625465</td>\n      <td>0.000521</td>\n      <td>0.002602</td>\n      <td>0.005208</td>\n      <td>0.007798</td>\n      <td>0.009870</td>\n      <td>200000</td>\n    </tr>\n    <tr>\n      <th>R_7</th>\n      <td>float64</td>\n      <td>0.0000</td>\n      <td>1.198959e-08</td>\n      <td>252.765475</td>\n      <td>0.093112</td>\n      <td>1.760810</td>\n      <td>1.760810</td>\n      <td>0.000514</td>\n      <td>0.002573</td>\n      <td>0.005144</td>\n      <td>0.007719</td>\n      <td>0.009773</td>\n      <td>200000</td>\n    </tr>\n    <tr>\n      <th>R_8</th>\n      <td>float64</td>\n      <td>0.0000</td>\n      <td>6.524608e-08</td>\n      <td>15.009584</td>\n      <td>0.040451</td>\n      <td>0.311915</td>\n      <td>0.311915</td>\n      <td>0.000514</td>\n      <td>0.002563</td>\n      <td>0.005109</td>\n      <td>0.007667</td>\n      <td>0.009711</td>\n      <td>200000</td>\n    </tr>\n    <tr>\n      <th>R_9</th>\n      <td>float64</td>\n      <td>94.0525</td>\n      <td>3.121485e-07</td>\n      <td>1.509625</td>\n      <td>0.226718</td>\n      <td>0.183068</td>\n      <td>0.183068</td>\n      <td>0.006477</td>\n      <td>0.169109</td>\n      <td>0.172702</td>\n      <td>0.176203</td>\n      <td>0.508318</td>\n      <td>11895</td>\n    </tr>\n    <tr>\n      <th>R_10</th>\n      <td>float64</td>\n      <td>0.0000</td>\n      <td>2.846930e-08</td>\n      <td>8.009431</td>\n      <td>0.066089</td>\n      <td>0.305472</td>\n      <td>0.305472</td>\n      <td>0.000527</td>\n      <td>0.002621</td>\n      <td>0.005247</td>\n      <td>0.007872</td>\n      <td>0.009985</td>\n      <td>200000</td>\n    </tr>\n    <tr>\n      <th>R_11</th>\n      <td>float64</td>\n      <td>0.0000</td>\n      <td>2.043108e-08</td>\n      <td>4.007014</td>\n      <td>0.050061</td>\n      <td>0.173024</td>\n      <td>0.173024</td>\n      <td>0.000549</td>\n      <td>0.002708</td>\n      <td>0.005411</td>\n      <td>0.008121</td>\n      <td>0.503964</td>\n      <td>200000</td>\n    </tr>\n    <tr>\n      <th>R_12</th>\n      <td>float64</td>\n      <td>0.0010</td>\n      <td>-9.106670e-02</td>\n      <td>1.010000</td>\n      <td>0.979680</td>\n      <td>0.152151</td>\n      <td>0.152151</td>\n      <td>1.000234</td>\n      <td>1.002284</td>\n      <td>1.004847</td>\n      <td>1.007421</td>\n      <td>1.009475</td>\n      <td>199998</td>\n    </tr>\n    <tr>\n      <th>R_13</th>\n      <td>float64</td>\n      <td>0.0000</td>\n      <td>2.203433e-08</td>\n      <td>0.525920</td>\n      <td>0.005537</td>\n      <td>0.007391</td>\n      <td>0.007391</td>\n      <td>0.000508</td>\n      <td>0.002537</td>\n      <td>0.005067</td>\n      <td>0.007581</td>\n      <td>0.009592</td>\n      <td>200000</td>\n    </tr>\n    <tr>\n      <th>R_14</th>\n      <td>float64</td>\n      <td>0.0000</td>\n      <td>2.324192e-07</td>\n      <td>924.900177</td>\n      <td>0.176636</td>\n      <td>5.225136</td>\n      <td>5.225136</td>\n      <td>0.000507</td>\n      <td>0.002525</td>\n      <td>0.005052</td>\n      <td>0.007606</td>\n      <td>0.009643</td>\n      <td>200000</td>\n    </tr>\n    <tr>\n      <th>R_15</th>\n      <td>float64</td>\n      <td>0.0000</td>\n      <td>2.475791e-08</td>\n      <td>1.010000</td>\n      <td>0.020774</td>\n      <td>0.124633</td>\n      <td>0.124633</td>\n      <td>0.000503</td>\n      <td>0.002533</td>\n      <td>0.005085</td>\n      <td>0.007624</td>\n      <td>0.009658</td>\n      <td>200000</td>\n    </tr>\n    <tr>\n      <th>R_16</th>\n      <td>float64</td>\n      <td>0.0000</td>\n      <td>3.830588e-09</td>\n      <td>18.500131</td>\n      <td>0.059247</td>\n      <td>0.247521</td>\n      <td>0.247521</td>\n      <td>0.000542</td>\n      <td>0.002704</td>\n      <td>0.005415</td>\n      <td>0.008110</td>\n      <td>0.504357</td>\n      <td>200000</td>\n    </tr>\n    <tr>\n      <th>R_17</th>\n      <td>float64</td>\n      <td>0.0000</td>\n      <td>1.205504e-08</td>\n      <td>0.494791</td>\n      <td>0.005351</td>\n      <td>0.006466</td>\n      <td>0.006466</td>\n      <td>0.000510</td>\n      <td>0.002524</td>\n      <td>0.005044</td>\n      <td>0.007542</td>\n      <td>0.009567</td>\n      <td>200000</td>\n    </tr>\n    <tr>\n      <th>R_18</th>\n      <td>float64</td>\n      <td>0.0000</td>\n      <td>4.197775e-08</td>\n      <td>0.263310</td>\n      <td>0.005003</td>\n      <td>0.002998</td>\n      <td>0.002998</td>\n      <td>0.000498</td>\n      <td>0.002509</td>\n      <td>0.004996</td>\n      <td>0.007497</td>\n      <td>0.009491</td>\n      <td>200000</td>\n    </tr>\n    <tr>\n      <th>R_19</th>\n      <td>float64</td>\n      <td>0.0000</td>\n      <td>9.077996e-09</td>\n      <td>1.009997</td>\n      <td>0.022679</td>\n      <td>0.131812</td>\n      <td>0.131812</td>\n      <td>0.000505</td>\n      <td>0.002543</td>\n      <td>0.005097</td>\n      <td>0.007637</td>\n      <td>0.009670</td>\n      <td>200000</td>\n    </tr>\n    <tr>\n      <th>R_20</th>\n      <td>float64</td>\n      <td>0.0030</td>\n      <td>1.037661e-07</td>\n      <td>34.004771</td>\n      <td>0.038524</td>\n      <td>0.396452</td>\n      <td>0.396452</td>\n      <td>0.000496</td>\n      <td>0.002532</td>\n      <td>0.005066</td>\n      <td>0.007610</td>\n      <td>0.009655</td>\n      <td>199994</td>\n    </tr>\n    <tr>\n      <th>R_21</th>\n      <td>float64</td>\n      <td>0.0000</td>\n      <td>9.306526e-08</td>\n      <td>1.009995</td>\n      <td>0.021549</td>\n      <td>0.127631</td>\n      <td>0.127631</td>\n      <td>0.000513</td>\n      <td>0.002532</td>\n      <td>0.005075</td>\n      <td>0.007624</td>\n      <td>0.009660</td>\n      <td>200000</td>\n    </tr>\n    <tr>\n      <th>R_22</th>\n      <td>float64</td>\n      <td>0.0000</td>\n      <td>2.438857e-08</td>\n      <td>1.009955</td>\n      <td>0.008752</td>\n      <td>0.061264</td>\n      <td>0.061264</td>\n      <td>0.000504</td>\n      <td>0.002505</td>\n      <td>0.005018</td>\n      <td>0.007511</td>\n      <td>0.009528</td>\n      <td>200000</td>\n    </tr>\n    <tr>\n      <th>R_23</th>\n      <td>float64</td>\n      <td>0.0000</td>\n      <td>2.836777e-08</td>\n      <td>1.009935</td>\n      <td>0.005288</td>\n      <td>0.017423</td>\n      <td>0.017423</td>\n      <td>0.000496</td>\n      <td>0.002479</td>\n      <td>0.004990</td>\n      <td>0.007500</td>\n      <td>0.009503</td>\n      <td>200000</td>\n    </tr>\n    <tr>\n      <th>R_24</th>\n      <td>float64</td>\n      <td>0.0000</td>\n      <td>5.101269e-08</td>\n      <td>1.010000</td>\n      <td>0.019424</td>\n      <td>0.119282</td>\n      <td>0.119282</td>\n      <td>0.000512</td>\n      <td>0.002538</td>\n      <td>0.005061</td>\n      <td>0.007593</td>\n      <td>0.009633</td>\n      <td>200000</td>\n    </tr>\n    <tr>\n      <th>R_25</th>\n      <td>float64</td>\n      <td>0.0000</td>\n      <td>6.632429e-08</td>\n      <td>1.009979</td>\n      <td>0.008261</td>\n      <td>0.056936</td>\n      <td>0.056936</td>\n      <td>0.000506</td>\n      <td>0.002524</td>\n      <td>0.005042</td>\n      <td>0.007548</td>\n      <td>0.009534</td>\n      <td>200000</td>\n    </tr>\n    <tr>\n      <th>R_26</th>\n      <td>float64</td>\n      <td>88.9865</td>\n      <td>3.296166e-07</td>\n      <td>4.329881</td>\n      <td>0.084607</td>\n      <td>0.229579</td>\n      <td>0.229579</td>\n      <td>0.001097</td>\n      <td>0.005325</td>\n      <td>0.037030</td>\n      <td>0.076663</td>\n      <td>0.326064</td>\n      <td>22027</td>\n    </tr>\n    <tr>\n      <th>R_27</th>\n      <td>float64</td>\n      <td>2.2905</td>\n      <td>-1.708449e-02</td>\n      <td>1.010000</td>\n      <td>0.893757</td>\n      <td>0.312227</td>\n      <td>0.312227</td>\n      <td>0.015855</td>\n      <td>1.001552</td>\n      <td>1.004353</td>\n      <td>1.007184</td>\n      <td>1.009434</td>\n      <td>195419</td>\n    </tr>\n    <tr>\n      <th>R_28</th>\n      <td>float64</td>\n      <td>0.0000</td>\n      <td>1.746015e-08</td>\n      <td>1.009988</td>\n      <td>0.005828</td>\n      <td>0.028685</td>\n      <td>0.028685</td>\n      <td>0.000504</td>\n      <td>0.002514</td>\n      <td>0.005029</td>\n      <td>0.007519</td>\n      <td>0.009519</td>\n      <td>200000</td>\n    </tr>\n  </tbody>\n</table>\n</div>"
     },
     "execution_count": 39,
     "metadata": {},
     "output_type": "execute_result"
    }
   ],
   "source": [
    "col_meta = pd.DataFrame(ls_risk_variable).set_index('column_name')\n",
    "col_meta"
   ],
   "metadata": {
    "collapsed": false,
    "ExecuteTime": {
     "end_time": "2023-05-16T18:02:58.240228445Z",
     "start_time": "2023-05-16T18:02:58.210134690Z"
    }
   }
  },
  {
   "cell_type": "markdown",
   "source": [
    "Some assumptions are there, that we will validate over the full dataset. Learning till now:\n",
    "\n",
    "1. Some unique values are there\n",
    "2. Some outliers are there\n",
    "3. Some cols with most of the missing values.\n",
    "4. This dataset has been created by merging 5 tables: delinquency, spend, payment, balance and risk. So first task is seggrigating and joining the target with that table, just to get an overall idea of analytical values on a single group of data.\n"
   ],
   "metadata": {
    "collapsed": false
   }
  },
  {
   "cell_type": "code",
   "execution_count": null,
   "outputs": [],
   "source": [],
   "metadata": {
    "collapsed": false
   }
  }
 ],
 "metadata": {
  "kernelspec": {
   "display_name": "Python 3",
   "language": "python",
   "name": "python3"
  },
  "language_info": {
   "codemirror_mode": {
    "name": "ipython",
    "version": 2
   },
   "file_extension": ".py",
   "mimetype": "text/x-python",
   "name": "python",
   "nbconvert_exporter": "python",
   "pygments_lexer": "ipython2",
   "version": "2.7.6"
  }
 },
 "nbformat": 4,
 "nbformat_minor": 0
}
