{
 "cells": [
  {
   "cell_type": "code",
   "execution_count": 1,
   "metadata": {
    "collapsed": true,
    "ExecuteTime": {
     "end_time": "2023-05-18T19:01:25.903626463Z",
     "start_time": "2023-05-18T19:01:24.814977308Z"
    }
   },
   "outputs": [],
   "source": [
    "import numpy as np\n",
    "import pandas as pd\n",
    "import ppscore as pps\n",
    "import matplotlib.pyplot as plt"
   ]
  },
  {
   "cell_type": "code",
   "execution_count": 2,
   "outputs": [
    {
     "name": "stdout",
     "output_type": "stream",
     "text": [
      "CPU times: user 23.6 s, sys: 2.49 s, total: 26.1 s\n",
      "Wall time: 26.3 s\n"
     ]
    }
   ],
   "source": [
    "%%time\n",
    "df = pd.read_csv(\"../data/interim/seggregated/risk.csv\")\n",
    "labels = pd.read_csv(\"../data/raw/train_labels.csv\")"
   ],
   "metadata": {
    "collapsed": false,
    "ExecuteTime": {
     "end_time": "2023-05-18T19:01:52.233032660Z",
     "start_time": "2023-05-18T19:01:25.906142937Z"
    }
   }
  },
  {
   "cell_type": "code",
   "execution_count": 3,
   "outputs": [
    {
     "name": "stdout",
     "output_type": "stream",
     "text": [
      "CPU times: user 24 µs, sys: 0 ns, total: 24 µs\n",
      "Wall time: 26 µs\n"
     ]
    },
    {
     "data": {
      "text/plain": "((5531451, 29), (458913, 2))"
     },
     "execution_count": 3,
     "metadata": {},
     "output_type": "execute_result"
    }
   ],
   "source": [
    "%%time\n",
    "# checking shape of the dataframe\n",
    "df.shape, labels.shape"
   ],
   "metadata": {
    "collapsed": false,
    "ExecuteTime": {
     "end_time": "2023-05-18T19:01:52.244771752Z",
     "start_time": "2023-05-18T19:01:52.226305695Z"
    }
   }
  },
  {
   "cell_type": "code",
   "execution_count": 4,
   "outputs": [
    {
     "name": "stdout",
     "output_type": "stream",
     "text": [
      "CPU times: user 8 µs, sys: 0 ns, total: 8 µs\n",
      "Wall time: 9.78 µs\n"
     ]
    },
    {
     "data": {
      "text/plain": "Index(['customer_ID', 'R_1', 'R_2', 'R_3', 'R_4', 'R_5', 'R_6', 'R_7', 'R_8',\n       'R_9', 'R_10', 'R_11', 'R_12', 'R_13', 'R_14', 'R_15', 'R_16', 'R_17',\n       'R_18', 'R_19', 'R_20', 'R_21', 'R_22', 'R_23', 'R_24', 'R_25', 'R_26',\n       'R_27', 'R_28'],\n      dtype='object')"
     },
     "execution_count": 4,
     "metadata": {},
     "output_type": "execute_result"
    }
   ],
   "source": [
    "%%time\n",
    "df.columns"
   ],
   "metadata": {
    "collapsed": false,
    "ExecuteTime": {
     "end_time": "2023-05-18T19:01:52.281994333Z",
     "start_time": "2023-05-18T19:01:52.244182825Z"
    }
   }
  },
  {
   "cell_type": "code",
   "execution_count": 6,
   "outputs": [
    {
     "name": "stdout",
     "output_type": "stream",
     "text": [
      "<class 'pandas.core.frame.DataFrame'>\n",
      "RangeIndex: 458913 entries, 0 to 458912\n",
      "Data columns (total 2 columns):\n",
      " #   Column       Non-Null Count   Dtype \n",
      "---  ------       --------------   ----- \n",
      " 0   customer_ID  458913 non-null  object\n",
      " 1   target       458913 non-null  int64 \n",
      "dtypes: int64(1), object(1)\n",
      "memory usage: 7.0+ MB\n",
      "CPU times: user 55.4 ms, sys: 0 ns, total: 55.4 ms\n",
      "Wall time: 53.7 ms\n"
     ]
    }
   ],
   "source": [
    "%%time\n",
    "labels.info()"
   ],
   "metadata": {
    "collapsed": false,
    "ExecuteTime": {
     "end_time": "2023-05-18T19:02:23.472359859Z",
     "start_time": "2023-05-18T19:02:23.342397192Z"
    }
   }
  },
  {
   "cell_type": "code",
   "execution_count": 7,
   "outputs": [
    {
     "name": "stdout",
     "output_type": "stream",
     "text": [
      "CPU times: user 1.31 ms, sys: 0 ns, total: 1.31 ms\n",
      "Wall time: 907 µs\n"
     ]
    }
   ],
   "source": [
    "%%time\n",
    "# Let's encode customer_ID for efficient memory management.\n",
    "labels['encoded_customerID'] = range(0, len(labels))"
   ],
   "metadata": {
    "collapsed": false,
    "ExecuteTime": {
     "end_time": "2023-05-18T19:02:34.080793623Z",
     "start_time": "2023-05-18T19:02:34.054566997Z"
    }
   }
  },
  {
   "cell_type": "code",
   "execution_count": 8,
   "outputs": [
    {
     "name": "stdout",
     "output_type": "stream",
     "text": [
      "CPU times: user 117 µs, sys: 25 µs, total: 142 µs\n",
      "Wall time: 145 µs\n"
     ]
    },
    {
     "data": {
      "text/plain": "                                         customer_ID  target  \\\n0  0000099d6bd597052cdcda90ffabf56573fe9d7c79be5f...       0   \n1  00000fd6641609c6ece5454664794f0340ad84dddce9a2...       0   \n2  00001b22f846c82c51f6e3958ccd81970162bae8b007e8...       0   \n3  000041bdba6ecadd89a52d11886e8eaaec9325906c9723...       0   \n4  00007889e4fcd2614b6cbe7f8f3d2e5c728eca32d9eb8a...       0   \n\n   encoded_customerID  \n0                   0  \n1                   1  \n2                   2  \n3                   3  \n4                   4  ",
      "text/html": "<div>\n<style scoped>\n    .dataframe tbody tr th:only-of-type {\n        vertical-align: middle;\n    }\n\n    .dataframe tbody tr th {\n        vertical-align: top;\n    }\n\n    .dataframe thead th {\n        text-align: right;\n    }\n</style>\n<table border=\"1\" class=\"dataframe\">\n  <thead>\n    <tr style=\"text-align: right;\">\n      <th></th>\n      <th>customer_ID</th>\n      <th>target</th>\n      <th>encoded_customerID</th>\n    </tr>\n  </thead>\n  <tbody>\n    <tr>\n      <th>0</th>\n      <td>0000099d6bd597052cdcda90ffabf56573fe9d7c79be5f...</td>\n      <td>0</td>\n      <td>0</td>\n    </tr>\n    <tr>\n      <th>1</th>\n      <td>00000fd6641609c6ece5454664794f0340ad84dddce9a2...</td>\n      <td>0</td>\n      <td>1</td>\n    </tr>\n    <tr>\n      <th>2</th>\n      <td>00001b22f846c82c51f6e3958ccd81970162bae8b007e8...</td>\n      <td>0</td>\n      <td>2</td>\n    </tr>\n    <tr>\n      <th>3</th>\n      <td>000041bdba6ecadd89a52d11886e8eaaec9325906c9723...</td>\n      <td>0</td>\n      <td>3</td>\n    </tr>\n    <tr>\n      <th>4</th>\n      <td>00007889e4fcd2614b6cbe7f8f3d2e5c728eca32d9eb8a...</td>\n      <td>0</td>\n      <td>4</td>\n    </tr>\n  </tbody>\n</table>\n</div>"
     },
     "execution_count": 8,
     "metadata": {},
     "output_type": "execute_result"
    }
   ],
   "source": [
    "%%time\n",
    "labels.head()"
   ],
   "metadata": {
    "collapsed": false,
    "ExecuteTime": {
     "end_time": "2023-05-18T19:02:40.915313095Z",
     "start_time": "2023-05-18T19:02:40.891579559Z"
    }
   }
  },
  {
   "cell_type": "code",
   "execution_count": 9,
   "outputs": [
    {
     "name": "stdout",
     "output_type": "stream",
     "text": [
      "CPU times: user 280 ms, sys: 7.02 ms, total: 287 ms\n",
      "Wall time: 284 ms\n"
     ]
    }
   ],
   "source": [
    "%%time\n",
    "custid_mapper = labels[['customer_ID', 'encoded_customerID']].set_index('customer_ID').to_dict()\n",
    "custid_mapper = custid_mapper['encoded_customerID']"
   ],
   "metadata": {
    "collapsed": false,
    "ExecuteTime": {
     "end_time": "2023-05-18T19:02:50.239415819Z",
     "start_time": "2023-05-18T19:02:49.959671973Z"
    }
   }
  },
  {
   "cell_type": "code",
   "execution_count": 10,
   "outputs": [
    {
     "name": "stdout",
     "output_type": "stream",
     "text": [
      "CPU times: user 729 ms, sys: 139 ms, total: 868 ms\n",
      "Wall time: 865 ms\n"
     ]
    }
   ],
   "source": [
    "%%time\n",
    "df['encoded_customerID'] = df['customer_ID'].map(custid_mapper)\n",
    "df = df.drop(['customer_ID'], axis=1)"
   ],
   "metadata": {
    "collapsed": false,
    "ExecuteTime": {
     "end_time": "2023-05-18T19:03:00.185118423Z",
     "start_time": "2023-05-18T19:02:59.335213375Z"
    }
   }
  },
  {
   "cell_type": "code",
   "execution_count": 11,
   "outputs": [
    {
     "name": "stdout",
     "output_type": "stream",
     "text": [
      "CPU times: user 756 ms, sys: 747 ms, total: 1.5 s\n",
      "Wall time: 1.52 s\n"
     ]
    }
   ],
   "source": [
    "%%time\n",
    "res_df = pd.merge(df, labels[['encoded_customerID', 'target']], on='encoded_customerID', how='left')"
   ],
   "metadata": {
    "collapsed": false,
    "ExecuteTime": {
     "end_time": "2023-05-18T19:03:08.494266280Z",
     "start_time": "2023-05-18T19:03:06.976267983Z"
    }
   }
  },
  {
   "cell_type": "code",
   "execution_count": 12,
   "outputs": [
    {
     "name": "stdout",
     "output_type": "stream",
     "text": [
      "<class 'pandas.core.frame.DataFrame'>\n",
      "RangeIndex: 5531451 entries, 0 to 5531450\n",
      "Data columns (total 29 columns):\n",
      " #   Column              Dtype  \n",
      "---  ------              -----  \n",
      " 0   R_1                 float64\n",
      " 1   R_2                 float64\n",
      " 2   R_3                 float64\n",
      " 3   R_4                 float64\n",
      " 4   R_5                 float64\n",
      " 5   R_6                 float64\n",
      " 6   R_7                 float64\n",
      " 7   R_8                 float64\n",
      " 8   R_9                 float64\n",
      " 9   R_10                float64\n",
      " 10  R_11                float64\n",
      " 11  R_12                float64\n",
      " 12  R_13                float64\n",
      " 13  R_14                float64\n",
      " 14  R_15                float64\n",
      " 15  R_16                float64\n",
      " 16  R_17                float64\n",
      " 17  R_18                float64\n",
      " 18  R_19                float64\n",
      " 19  R_20                float64\n",
      " 20  R_21                float64\n",
      " 21  R_22                float64\n",
      " 22  R_23                float64\n",
      " 23  R_24                float64\n",
      " 24  R_25                float64\n",
      " 25  R_26                float64\n",
      " 26  R_27                float64\n",
      " 27  R_28                float64\n",
      " 28  encoded_customerID  int64  \n",
      "dtypes: float64(28), int64(1)\n",
      "memory usage: 1.2 GB\n",
      "CPU times: user 4.28 ms, sys: 78 µs, total: 4.36 ms\n",
      "Wall time: 4.26 ms\n"
     ]
    }
   ],
   "source": [
    "%%time\n",
    "df.info()"
   ],
   "metadata": {
    "collapsed": false,
    "ExecuteTime": {
     "end_time": "2023-05-18T19:03:17.699276005Z",
     "start_time": "2023-05-18T19:03:17.693086231Z"
    }
   }
  },
  {
   "cell_type": "code",
   "execution_count": 13,
   "outputs": [
    {
     "name": "stdout",
     "output_type": "stream",
     "text": [
      "CPU times: user 3 µs, sys: 0 ns, total: 3 µs\n",
      "Wall time: 5.72 µs\n"
     ]
    }
   ],
   "source": [
    "%%time\n",
    "# Column Profiling: data type, null percentage, describe (min, max, [5,25,50,75,95], mean, std, variance)\n",
    "\n",
    "def col_profiling(col_series):\n",
    "    res_dict = {'datatype': col_series.dtype,\n",
    "                'null_pct': col_series.isna().sum()*100/len(col_series),\n",
    "                'min_val': col_series.min(),\n",
    "                'max_val': col_series.max(),\n",
    "                'mean_val': col_series.mean(),\n",
    "                'std': col_series.std(),\n",
    "                'variance': col_series.std(),\n",
    "                '5_pct': col_series.quantile(q=0.05),\n",
    "                '25_pct': col_series.quantile(q=0.25),\n",
    "                '50_pct': col_series.quantile(q=0.5),\n",
    "                '75_pct': col_series.quantile(q=0.75),\n",
    "                '95_pct': col_series.quantile(q=0.95),\n",
    "                'pct_uniq': col_series.nunique() / len(col_series),\n",
    "                'num_unique': col_series.nunique()}\n",
    "    return res_dict"
   ],
   "metadata": {
    "collapsed": false,
    "ExecuteTime": {
     "end_time": "2023-05-18T19:03:31.793570443Z",
     "start_time": "2023-05-18T19:03:31.788039007Z"
    }
   }
  },
  {
   "cell_type": "code",
   "execution_count": 14,
   "outputs": [
    {
     "name": "stdout",
     "output_type": "stream",
     "text": [
      "CPU times: user 56.4 s, sys: 15.9 ms, total: 56.5 s\n",
      "Wall time: 56.5 s\n"
     ]
    }
   ],
   "source": [
    "%%time\n",
    "# Column Profiling on delinquency variables\n",
    "ls = []\n",
    "for item in res_df:\n",
    "    if res_df[item].dtype == np.float64 or res_df[item].dtype == np.int64:\n",
    "        res = col_profiling(res_df[item])\n",
    "        res['column_name'] = item\n",
    "        ls.append(res)\n",
    "    else:\n",
    "        print(f\"categorical column is {item}\")"
   ],
   "metadata": {
    "collapsed": false,
    "ExecuteTime": {
     "end_time": "2023-05-18T19:04:38.024923268Z",
     "start_time": "2023-05-18T19:03:41.514359927Z"
    }
   }
  },
  {
   "cell_type": "code",
   "execution_count": 15,
   "outputs": [
    {
     "name": "stdout",
     "output_type": "stream",
     "text": [
      "CPU times: user 2.24 ms, sys: 0 ns, total: 2.24 ms\n",
      "Wall time: 2.16 ms\n"
     ]
    }
   ],
   "source": [
    "%%time\n",
    "col_profile_df = pd.DataFrame(ls).set_index('column_name')"
   ],
   "metadata": {
    "collapsed": false,
    "ExecuteTime": {
     "end_time": "2023-05-18T19:04:38.025765603Z",
     "start_time": "2023-05-18T19:04:38.011118369Z"
    }
   }
  },
  {
   "cell_type": "code",
   "execution_count": 16,
   "outputs": [
    {
     "name": "stdout",
     "output_type": "stream",
     "text": [
      "CPU times: user 673 µs, sys: 70 µs, total: 743 µs\n",
      "Wall time: 724 µs\n"
     ]
    },
    {
     "data": {
      "text/plain": "           column_name datatype   null_pct       min_val        max_val  \\\n0                  R_1  float64   0.000000  1.534223e-09       3.256284   \n1                  R_2  float64   0.000000  8.265748e-10       1.010000   \n2                  R_3  float64   0.000000  2.238322e-09      11.602601   \n3                  R_4  float64   0.000000  4.024685e-10       1.010000   \n4                  R_5  float64   0.000000  1.154589e-09      35.004515   \n5                  R_6  float64   0.000000  4.650681e-10      14.448201   \n6                  R_7  float64   0.000018  8.676290e-10     449.988885   \n7                  R_8  float64   0.000000  1.738091e-09      38.008079   \n8                  R_9  float64  94.349891  3.121485e-07       1.509999   \n9                 R_10  float64   0.000000  2.233250e-09      21.003672   \n10                R_11  float64   0.000000  8.363790e-10      12.502596   \n11                R_12  float64   0.001012 -9.179347e-02       1.010000   \n12                R_13  float64   0.000000  2.894743e-09       1.005321   \n13                R_14  float64   0.000018  6.702420e-10    4837.304861   \n14                R_15  float64   0.000000  3.588444e-10       1.010000   \n15                R_16  float64   0.000000  5.660560e-10      18.500131   \n16                R_17  float64   0.000000  1.066114e-09       1.001528   \n17                R_18  float64   0.000000  2.170287e-09       1.000777   \n18                R_19  float64   0.000000  1.954925e-09       1.010000   \n19                R_20  float64   0.001356  4.972086e-09      45.006028   \n20                R_21  float64   0.000000  3.646872e-09       1.010000   \n21                R_22  float64   0.000000  9.576146e-10       1.010000   \n22                R_23  float64   0.000000  8.443200e-10       1.009985   \n23                R_24  float64   0.000000  6.570262e-10       1.010000   \n24                R_25  float64   0.000000  4.640562e-11       1.010000   \n25                R_26  float64  88.984717  2.970700e-08       9.509053   \n26                R_27  float64   2.326749 -2.571099e-02       1.010000   \n27                R_28  float64   0.000000  1.097922e-09       1.009996   \n28  encoded_customerID    int64   0.000000  0.000000e+00  458912.000000   \n29              target    int64   0.000000  0.000000e+00       1.000000   \n\n         mean_val            std       variance         5_pct         25_pct  \\\n0        0.078803       0.226397       0.226397      0.000580       0.002896   \n1        0.047518       0.201784       0.201784      0.000523       0.002613   \n2        0.120829       0.210516       0.210516      0.000940       0.004700   \n3        0.031204       0.159770       0.159770      0.000515       0.002566   \n4        0.034594       0.256807       0.256807      0.000514       0.002575   \n5        0.058531       0.641566       0.641566      0.000518       0.002592   \n6        0.088064       1.550873       1.550873      0.000514       0.002569   \n7        0.038120       0.303642       0.303642      0.000510       0.002554   \n8        0.229890       0.189174       0.189174      0.006244       0.169122   \n9        0.064775       0.305694       0.305694      0.000524       0.002625   \n10       0.050831       0.175622       0.175622      0.000542       0.002707   \n11       0.979220       0.153744       0.153744      1.000228       1.002284   \n12       0.005480       0.007280       0.007280      0.000505       0.002521   \n13       0.241438       8.356452       8.356452      0.000507       0.002535   \n14       0.020282       0.122710       0.122710      0.000508       0.002539   \n15       0.058539       0.239247       0.239247      0.000541       0.002706   \n16       0.005319       0.006380       0.006380      0.000503       0.002519   \n17       0.005009       0.003240       0.003240      0.000499       0.002499   \n18       0.022696       0.131871       0.131871      0.000508       0.002549   \n19       0.036946       0.378064       0.378064      0.000508       0.002538   \n20       0.021610       0.127847       0.127847      0.000509       0.002537   \n21       0.008604       0.060007       0.060007      0.000503       0.002506   \n22       0.005296       0.017437       0.017437      0.000501       0.002502   \n23       0.018918       0.117188       0.117188      0.000507       0.002536   \n24       0.008206       0.056601       0.056601      0.000500       0.002509   \n25       0.084650       0.244330       0.244330      0.001048       0.005244   \n26       0.893694       0.312307       0.312307      0.015879       1.001545   \n27       0.005742       0.027379       0.027379      0.000501       0.002502   \n28  229419.424355  132490.213791  132490.213791  22922.000000  114669.000000   \n29       0.249097       0.432490       0.432490      0.000000       0.000000   \n\n           50_pct         75_pct         95_pct      pct_uniq  num_unique  \n0        0.005782       0.008661       0.507362  9.999998e-01     5531450  \n1        0.005223       0.007837       0.009922  1.000000e+00     5531451  \n2        0.009401       0.200336       0.503688  1.000000e+00     5531451  \n3        0.005133       0.007700       0.009757  1.000000e+00     5531451  \n4        0.005149       0.007722       0.009778  1.000000e+00     5531451  \n5        0.005187       0.007782       0.009852  1.000000e+00     5531451  \n6        0.005136       0.007703       0.009757  9.999996e-01     5531449  \n7        0.005106       0.007658       0.009702  1.000000e+00     5531451  \n8        0.172749       0.176340       0.509133  5.650109e-02      312533  \n9        0.005247       0.007870       0.009968  1.000000e+00     5531451  \n10       0.005414       0.008121       0.504114  1.000000e+00     5531451  \n11       1.004859       1.007424       1.009486  9.999895e-01     5531393  \n12       0.005044       0.007568       0.009587  1.000000e+00     5531451  \n13       0.005070       0.007609       0.009635  9.999996e-01     5531449  \n14       0.005079       0.007616       0.009647  1.000000e+00     5531451  \n15       0.005410       0.008112       0.504383  1.000000e+00     5531451  \n16       0.005031       0.007544       0.009559  1.000000e+00     5531451  \n17       0.005000       0.007500       0.009502  1.000000e+00     5531451  \n18       0.005092       0.007635       0.009670  1.000000e+00     5531451  \n19       0.005076       0.007614       0.009646  9.999864e-01     5531376  \n20       0.005081       0.007624       0.009661  1.000000e+00     5531451  \n21       0.005016       0.007525       0.009534  1.000000e+00     5531451  \n22       0.005003       0.007501       0.009502  1.000000e+00     5531451  \n23       0.005070       0.007604       0.009635  1.000000e+00     5531451  \n24       0.005016       0.007525       0.009531  1.000000e+00     5531451  \n25       0.036851       0.077138       0.324209  1.101528e-01      609305  \n26       1.004365       1.007182       1.009437  9.767321e-01     5402746  \n27       0.005004       0.007506       0.009507  1.000000e+00     5531451  \n28  229380.000000  344209.000000  435977.000000  8.296431e-02      458913  \n29       0.000000       0.000000       1.000000  3.615688e-07           2  ",
      "text/html": "<div>\n<style scoped>\n    .dataframe tbody tr th:only-of-type {\n        vertical-align: middle;\n    }\n\n    .dataframe tbody tr th {\n        vertical-align: top;\n    }\n\n    .dataframe thead th {\n        text-align: right;\n    }\n</style>\n<table border=\"1\" class=\"dataframe\">\n  <thead>\n    <tr style=\"text-align: right;\">\n      <th></th>\n      <th>column_name</th>\n      <th>datatype</th>\n      <th>null_pct</th>\n      <th>min_val</th>\n      <th>max_val</th>\n      <th>mean_val</th>\n      <th>std</th>\n      <th>variance</th>\n      <th>5_pct</th>\n      <th>25_pct</th>\n      <th>50_pct</th>\n      <th>75_pct</th>\n      <th>95_pct</th>\n      <th>pct_uniq</th>\n      <th>num_unique</th>\n    </tr>\n  </thead>\n  <tbody>\n    <tr>\n      <th>0</th>\n      <td>R_1</td>\n      <td>float64</td>\n      <td>0.000000</td>\n      <td>1.534223e-09</td>\n      <td>3.256284</td>\n      <td>0.078803</td>\n      <td>0.226397</td>\n      <td>0.226397</td>\n      <td>0.000580</td>\n      <td>0.002896</td>\n      <td>0.005782</td>\n      <td>0.008661</td>\n      <td>0.507362</td>\n      <td>9.999998e-01</td>\n      <td>5531450</td>\n    </tr>\n    <tr>\n      <th>1</th>\n      <td>R_2</td>\n      <td>float64</td>\n      <td>0.000000</td>\n      <td>8.265748e-10</td>\n      <td>1.010000</td>\n      <td>0.047518</td>\n      <td>0.201784</td>\n      <td>0.201784</td>\n      <td>0.000523</td>\n      <td>0.002613</td>\n      <td>0.005223</td>\n      <td>0.007837</td>\n      <td>0.009922</td>\n      <td>1.000000e+00</td>\n      <td>5531451</td>\n    </tr>\n    <tr>\n      <th>2</th>\n      <td>R_3</td>\n      <td>float64</td>\n      <td>0.000000</td>\n      <td>2.238322e-09</td>\n      <td>11.602601</td>\n      <td>0.120829</td>\n      <td>0.210516</td>\n      <td>0.210516</td>\n      <td>0.000940</td>\n      <td>0.004700</td>\n      <td>0.009401</td>\n      <td>0.200336</td>\n      <td>0.503688</td>\n      <td>1.000000e+00</td>\n      <td>5531451</td>\n    </tr>\n    <tr>\n      <th>3</th>\n      <td>R_4</td>\n      <td>float64</td>\n      <td>0.000000</td>\n      <td>4.024685e-10</td>\n      <td>1.010000</td>\n      <td>0.031204</td>\n      <td>0.159770</td>\n      <td>0.159770</td>\n      <td>0.000515</td>\n      <td>0.002566</td>\n      <td>0.005133</td>\n      <td>0.007700</td>\n      <td>0.009757</td>\n      <td>1.000000e+00</td>\n      <td>5531451</td>\n    </tr>\n    <tr>\n      <th>4</th>\n      <td>R_5</td>\n      <td>float64</td>\n      <td>0.000000</td>\n      <td>1.154589e-09</td>\n      <td>35.004515</td>\n      <td>0.034594</td>\n      <td>0.256807</td>\n      <td>0.256807</td>\n      <td>0.000514</td>\n      <td>0.002575</td>\n      <td>0.005149</td>\n      <td>0.007722</td>\n      <td>0.009778</td>\n      <td>1.000000e+00</td>\n      <td>5531451</td>\n    </tr>\n    <tr>\n      <th>5</th>\n      <td>R_6</td>\n      <td>float64</td>\n      <td>0.000000</td>\n      <td>4.650681e-10</td>\n      <td>14.448201</td>\n      <td>0.058531</td>\n      <td>0.641566</td>\n      <td>0.641566</td>\n      <td>0.000518</td>\n      <td>0.002592</td>\n      <td>0.005187</td>\n      <td>0.007782</td>\n      <td>0.009852</td>\n      <td>1.000000e+00</td>\n      <td>5531451</td>\n    </tr>\n    <tr>\n      <th>6</th>\n      <td>R_7</td>\n      <td>float64</td>\n      <td>0.000018</td>\n      <td>8.676290e-10</td>\n      <td>449.988885</td>\n      <td>0.088064</td>\n      <td>1.550873</td>\n      <td>1.550873</td>\n      <td>0.000514</td>\n      <td>0.002569</td>\n      <td>0.005136</td>\n      <td>0.007703</td>\n      <td>0.009757</td>\n      <td>9.999996e-01</td>\n      <td>5531449</td>\n    </tr>\n    <tr>\n      <th>7</th>\n      <td>R_8</td>\n      <td>float64</td>\n      <td>0.000000</td>\n      <td>1.738091e-09</td>\n      <td>38.008079</td>\n      <td>0.038120</td>\n      <td>0.303642</td>\n      <td>0.303642</td>\n      <td>0.000510</td>\n      <td>0.002554</td>\n      <td>0.005106</td>\n      <td>0.007658</td>\n      <td>0.009702</td>\n      <td>1.000000e+00</td>\n      <td>5531451</td>\n    </tr>\n    <tr>\n      <th>8</th>\n      <td>R_9</td>\n      <td>float64</td>\n      <td>94.349891</td>\n      <td>3.121485e-07</td>\n      <td>1.509999</td>\n      <td>0.229890</td>\n      <td>0.189174</td>\n      <td>0.189174</td>\n      <td>0.006244</td>\n      <td>0.169122</td>\n      <td>0.172749</td>\n      <td>0.176340</td>\n      <td>0.509133</td>\n      <td>5.650109e-02</td>\n      <td>312533</td>\n    </tr>\n    <tr>\n      <th>9</th>\n      <td>R_10</td>\n      <td>float64</td>\n      <td>0.000000</td>\n      <td>2.233250e-09</td>\n      <td>21.003672</td>\n      <td>0.064775</td>\n      <td>0.305694</td>\n      <td>0.305694</td>\n      <td>0.000524</td>\n      <td>0.002625</td>\n      <td>0.005247</td>\n      <td>0.007870</td>\n      <td>0.009968</td>\n      <td>1.000000e+00</td>\n      <td>5531451</td>\n    </tr>\n    <tr>\n      <th>10</th>\n      <td>R_11</td>\n      <td>float64</td>\n      <td>0.000000</td>\n      <td>8.363790e-10</td>\n      <td>12.502596</td>\n      <td>0.050831</td>\n      <td>0.175622</td>\n      <td>0.175622</td>\n      <td>0.000542</td>\n      <td>0.002707</td>\n      <td>0.005414</td>\n      <td>0.008121</td>\n      <td>0.504114</td>\n      <td>1.000000e+00</td>\n      <td>5531451</td>\n    </tr>\n    <tr>\n      <th>11</th>\n      <td>R_12</td>\n      <td>float64</td>\n      <td>0.001012</td>\n      <td>-9.179347e-02</td>\n      <td>1.010000</td>\n      <td>0.979220</td>\n      <td>0.153744</td>\n      <td>0.153744</td>\n      <td>1.000228</td>\n      <td>1.002284</td>\n      <td>1.004859</td>\n      <td>1.007424</td>\n      <td>1.009486</td>\n      <td>9.999895e-01</td>\n      <td>5531393</td>\n    </tr>\n    <tr>\n      <th>12</th>\n      <td>R_13</td>\n      <td>float64</td>\n      <td>0.000000</td>\n      <td>2.894743e-09</td>\n      <td>1.005321</td>\n      <td>0.005480</td>\n      <td>0.007280</td>\n      <td>0.007280</td>\n      <td>0.000505</td>\n      <td>0.002521</td>\n      <td>0.005044</td>\n      <td>0.007568</td>\n      <td>0.009587</td>\n      <td>1.000000e+00</td>\n      <td>5531451</td>\n    </tr>\n    <tr>\n      <th>13</th>\n      <td>R_14</td>\n      <td>float64</td>\n      <td>0.000018</td>\n      <td>6.702420e-10</td>\n      <td>4837.304861</td>\n      <td>0.241438</td>\n      <td>8.356452</td>\n      <td>8.356452</td>\n      <td>0.000507</td>\n      <td>0.002535</td>\n      <td>0.005070</td>\n      <td>0.007609</td>\n      <td>0.009635</td>\n      <td>9.999996e-01</td>\n      <td>5531449</td>\n    </tr>\n    <tr>\n      <th>14</th>\n      <td>R_15</td>\n      <td>float64</td>\n      <td>0.000000</td>\n      <td>3.588444e-10</td>\n      <td>1.010000</td>\n      <td>0.020282</td>\n      <td>0.122710</td>\n      <td>0.122710</td>\n      <td>0.000508</td>\n      <td>0.002539</td>\n      <td>0.005079</td>\n      <td>0.007616</td>\n      <td>0.009647</td>\n      <td>1.000000e+00</td>\n      <td>5531451</td>\n    </tr>\n    <tr>\n      <th>15</th>\n      <td>R_16</td>\n      <td>float64</td>\n      <td>0.000000</td>\n      <td>5.660560e-10</td>\n      <td>18.500131</td>\n      <td>0.058539</td>\n      <td>0.239247</td>\n      <td>0.239247</td>\n      <td>0.000541</td>\n      <td>0.002706</td>\n      <td>0.005410</td>\n      <td>0.008112</td>\n      <td>0.504383</td>\n      <td>1.000000e+00</td>\n      <td>5531451</td>\n    </tr>\n    <tr>\n      <th>16</th>\n      <td>R_17</td>\n      <td>float64</td>\n      <td>0.000000</td>\n      <td>1.066114e-09</td>\n      <td>1.001528</td>\n      <td>0.005319</td>\n      <td>0.006380</td>\n      <td>0.006380</td>\n      <td>0.000503</td>\n      <td>0.002519</td>\n      <td>0.005031</td>\n      <td>0.007544</td>\n      <td>0.009559</td>\n      <td>1.000000e+00</td>\n      <td>5531451</td>\n    </tr>\n    <tr>\n      <th>17</th>\n      <td>R_18</td>\n      <td>float64</td>\n      <td>0.000000</td>\n      <td>2.170287e-09</td>\n      <td>1.000777</td>\n      <td>0.005009</td>\n      <td>0.003240</td>\n      <td>0.003240</td>\n      <td>0.000499</td>\n      <td>0.002499</td>\n      <td>0.005000</td>\n      <td>0.007500</td>\n      <td>0.009502</td>\n      <td>1.000000e+00</td>\n      <td>5531451</td>\n    </tr>\n    <tr>\n      <th>18</th>\n      <td>R_19</td>\n      <td>float64</td>\n      <td>0.000000</td>\n      <td>1.954925e-09</td>\n      <td>1.010000</td>\n      <td>0.022696</td>\n      <td>0.131871</td>\n      <td>0.131871</td>\n      <td>0.000508</td>\n      <td>0.002549</td>\n      <td>0.005092</td>\n      <td>0.007635</td>\n      <td>0.009670</td>\n      <td>1.000000e+00</td>\n      <td>5531451</td>\n    </tr>\n    <tr>\n      <th>19</th>\n      <td>R_20</td>\n      <td>float64</td>\n      <td>0.001356</td>\n      <td>4.972086e-09</td>\n      <td>45.006028</td>\n      <td>0.036946</td>\n      <td>0.378064</td>\n      <td>0.378064</td>\n      <td>0.000508</td>\n      <td>0.002538</td>\n      <td>0.005076</td>\n      <td>0.007614</td>\n      <td>0.009646</td>\n      <td>9.999864e-01</td>\n      <td>5531376</td>\n    </tr>\n    <tr>\n      <th>20</th>\n      <td>R_21</td>\n      <td>float64</td>\n      <td>0.000000</td>\n      <td>3.646872e-09</td>\n      <td>1.010000</td>\n      <td>0.021610</td>\n      <td>0.127847</td>\n      <td>0.127847</td>\n      <td>0.000509</td>\n      <td>0.002537</td>\n      <td>0.005081</td>\n      <td>0.007624</td>\n      <td>0.009661</td>\n      <td>1.000000e+00</td>\n      <td>5531451</td>\n    </tr>\n    <tr>\n      <th>21</th>\n      <td>R_22</td>\n      <td>float64</td>\n      <td>0.000000</td>\n      <td>9.576146e-10</td>\n      <td>1.010000</td>\n      <td>0.008604</td>\n      <td>0.060007</td>\n      <td>0.060007</td>\n      <td>0.000503</td>\n      <td>0.002506</td>\n      <td>0.005016</td>\n      <td>0.007525</td>\n      <td>0.009534</td>\n      <td>1.000000e+00</td>\n      <td>5531451</td>\n    </tr>\n    <tr>\n      <th>22</th>\n      <td>R_23</td>\n      <td>float64</td>\n      <td>0.000000</td>\n      <td>8.443200e-10</td>\n      <td>1.009985</td>\n      <td>0.005296</td>\n      <td>0.017437</td>\n      <td>0.017437</td>\n      <td>0.000501</td>\n      <td>0.002502</td>\n      <td>0.005003</td>\n      <td>0.007501</td>\n      <td>0.009502</td>\n      <td>1.000000e+00</td>\n      <td>5531451</td>\n    </tr>\n    <tr>\n      <th>23</th>\n      <td>R_24</td>\n      <td>float64</td>\n      <td>0.000000</td>\n      <td>6.570262e-10</td>\n      <td>1.010000</td>\n      <td>0.018918</td>\n      <td>0.117188</td>\n      <td>0.117188</td>\n      <td>0.000507</td>\n      <td>0.002536</td>\n      <td>0.005070</td>\n      <td>0.007604</td>\n      <td>0.009635</td>\n      <td>1.000000e+00</td>\n      <td>5531451</td>\n    </tr>\n    <tr>\n      <th>24</th>\n      <td>R_25</td>\n      <td>float64</td>\n      <td>0.000000</td>\n      <td>4.640562e-11</td>\n      <td>1.010000</td>\n      <td>0.008206</td>\n      <td>0.056601</td>\n      <td>0.056601</td>\n      <td>0.000500</td>\n      <td>0.002509</td>\n      <td>0.005016</td>\n      <td>0.007525</td>\n      <td>0.009531</td>\n      <td>1.000000e+00</td>\n      <td>5531451</td>\n    </tr>\n    <tr>\n      <th>25</th>\n      <td>R_26</td>\n      <td>float64</td>\n      <td>88.984717</td>\n      <td>2.970700e-08</td>\n      <td>9.509053</td>\n      <td>0.084650</td>\n      <td>0.244330</td>\n      <td>0.244330</td>\n      <td>0.001048</td>\n      <td>0.005244</td>\n      <td>0.036851</td>\n      <td>0.077138</td>\n      <td>0.324209</td>\n      <td>1.101528e-01</td>\n      <td>609305</td>\n    </tr>\n    <tr>\n      <th>26</th>\n      <td>R_27</td>\n      <td>float64</td>\n      <td>2.326749</td>\n      <td>-2.571099e-02</td>\n      <td>1.010000</td>\n      <td>0.893694</td>\n      <td>0.312307</td>\n      <td>0.312307</td>\n      <td>0.015879</td>\n      <td>1.001545</td>\n      <td>1.004365</td>\n      <td>1.007182</td>\n      <td>1.009437</td>\n      <td>9.767321e-01</td>\n      <td>5402746</td>\n    </tr>\n    <tr>\n      <th>27</th>\n      <td>R_28</td>\n      <td>float64</td>\n      <td>0.000000</td>\n      <td>1.097922e-09</td>\n      <td>1.009996</td>\n      <td>0.005742</td>\n      <td>0.027379</td>\n      <td>0.027379</td>\n      <td>0.000501</td>\n      <td>0.002502</td>\n      <td>0.005004</td>\n      <td>0.007506</td>\n      <td>0.009507</td>\n      <td>1.000000e+00</td>\n      <td>5531451</td>\n    </tr>\n    <tr>\n      <th>28</th>\n      <td>encoded_customerID</td>\n      <td>int64</td>\n      <td>0.000000</td>\n      <td>0.000000e+00</td>\n      <td>458912.000000</td>\n      <td>229419.424355</td>\n      <td>132490.213791</td>\n      <td>132490.213791</td>\n      <td>22922.000000</td>\n      <td>114669.000000</td>\n      <td>229380.000000</td>\n      <td>344209.000000</td>\n      <td>435977.000000</td>\n      <td>8.296431e-02</td>\n      <td>458913</td>\n    </tr>\n    <tr>\n      <th>29</th>\n      <td>target</td>\n      <td>int64</td>\n      <td>0.000000</td>\n      <td>0.000000e+00</td>\n      <td>1.000000</td>\n      <td>0.249097</td>\n      <td>0.432490</td>\n      <td>0.432490</td>\n      <td>0.000000</td>\n      <td>0.000000</td>\n      <td>0.000000</td>\n      <td>0.000000</td>\n      <td>1.000000</td>\n      <td>3.615688e-07</td>\n      <td>2</td>\n    </tr>\n  </tbody>\n</table>\n</div>"
     },
     "execution_count": 16,
     "metadata": {},
     "output_type": "execute_result"
    }
   ],
   "source": [
    "%%time\n",
    "col_profile_df = col_profile_df.reset_index()\n",
    "col_profile_df"
   ],
   "metadata": {
    "collapsed": false,
    "ExecuteTime": {
     "end_time": "2023-05-18T19:04:38.026248401Z",
     "start_time": "2023-05-18T19:04:38.011392846Z"
    }
   }
  },
  {
   "cell_type": "code",
   "execution_count": 17,
   "outputs": [
    {
     "name": "stdout",
     "output_type": "stream",
     "text": [
      "CPU times: user 729 µs, sys: 77 µs, total: 806 µs\n",
      "Wall time: 777 µs\n"
     ]
    }
   ],
   "source": [
    "%%time\n",
    "all_uniq = col_profile_df[col_profile_df['pct_uniq']==1].index.tolist()"
   ],
   "metadata": {
    "collapsed": false,
    "ExecuteTime": {
     "end_time": "2023-05-18T19:04:38.026558815Z",
     "start_time": "2023-05-18T19:04:38.011903406Z"
    }
   }
  },
  {
   "cell_type": "code",
   "execution_count": 18,
   "outputs": [
    {
     "ename": "KeyError",
     "evalue": "'[1, 2, 3, 4, 5, 7, 9, 10, 12, 14, 15, 16, 17, 18, 20, 21, 22, 23, 24, 27] not in index'",
     "output_type": "error",
     "traceback": [
      "\u001B[0;31m---------------------------------------------------------------------------\u001B[0m",
      "\u001B[0;31mKeyError\u001B[0m                                  Traceback (most recent call last)",
      "File \u001B[0;32m<timed exec>:1\u001B[0m\n",
      "File \u001B[0;32m~/Workspace/learning/Amex-defaulter-prediction/.venv/lib/python3.10/site-packages/pandas/core/frame.py:3813\u001B[0m, in \u001B[0;36mDataFrame.__getitem__\u001B[0;34m(self, key)\u001B[0m\n\u001B[1;32m   3811\u001B[0m     \u001B[38;5;28;01mif\u001B[39;00m is_iterator(key):\n\u001B[1;32m   3812\u001B[0m         key \u001B[38;5;241m=\u001B[39m \u001B[38;5;28mlist\u001B[39m(key)\n\u001B[0;32m-> 3813\u001B[0m     indexer \u001B[38;5;241m=\u001B[39m \u001B[38;5;28;43mself\u001B[39;49m\u001B[38;5;241;43m.\u001B[39;49m\u001B[43mcolumns\u001B[49m\u001B[38;5;241;43m.\u001B[39;49m\u001B[43m_get_indexer_strict\u001B[49m\u001B[43m(\u001B[49m\u001B[43mkey\u001B[49m\u001B[43m,\u001B[49m\u001B[43m \u001B[49m\u001B[38;5;124;43m\"\u001B[39;49m\u001B[38;5;124;43mcolumns\u001B[39;49m\u001B[38;5;124;43m\"\u001B[39;49m\u001B[43m)\u001B[49m[\u001B[38;5;241m1\u001B[39m]\n\u001B[1;32m   3815\u001B[0m \u001B[38;5;66;03m# take() does not accept boolean indexers\u001B[39;00m\n\u001B[1;32m   3816\u001B[0m \u001B[38;5;28;01mif\u001B[39;00m \u001B[38;5;28mgetattr\u001B[39m(indexer, \u001B[38;5;124m\"\u001B[39m\u001B[38;5;124mdtype\u001B[39m\u001B[38;5;124m\"\u001B[39m, \u001B[38;5;28;01mNone\u001B[39;00m) \u001B[38;5;241m==\u001B[39m \u001B[38;5;28mbool\u001B[39m:\n",
      "File \u001B[0;32m~/Workspace/learning/Amex-defaulter-prediction/.venv/lib/python3.10/site-packages/pandas/core/indexes/base.py:6070\u001B[0m, in \u001B[0;36mIndex._get_indexer_strict\u001B[0;34m(self, key, axis_name)\u001B[0m\n\u001B[1;32m   6067\u001B[0m \u001B[38;5;28;01melse\u001B[39;00m:\n\u001B[1;32m   6068\u001B[0m     keyarr, indexer, new_indexer \u001B[38;5;241m=\u001B[39m \u001B[38;5;28mself\u001B[39m\u001B[38;5;241m.\u001B[39m_reindex_non_unique(keyarr)\n\u001B[0;32m-> 6070\u001B[0m \u001B[38;5;28;43mself\u001B[39;49m\u001B[38;5;241;43m.\u001B[39;49m\u001B[43m_raise_if_missing\u001B[49m\u001B[43m(\u001B[49m\u001B[43mkeyarr\u001B[49m\u001B[43m,\u001B[49m\u001B[43m \u001B[49m\u001B[43mindexer\u001B[49m\u001B[43m,\u001B[49m\u001B[43m \u001B[49m\u001B[43maxis_name\u001B[49m\u001B[43m)\u001B[49m\n\u001B[1;32m   6072\u001B[0m keyarr \u001B[38;5;241m=\u001B[39m \u001B[38;5;28mself\u001B[39m\u001B[38;5;241m.\u001B[39mtake(indexer)\n\u001B[1;32m   6073\u001B[0m \u001B[38;5;28;01mif\u001B[39;00m \u001B[38;5;28misinstance\u001B[39m(key, Index):\n\u001B[1;32m   6074\u001B[0m     \u001B[38;5;66;03m# GH 42790 - Preserve name from an Index\u001B[39;00m\n",
      "File \u001B[0;32m~/Workspace/learning/Amex-defaulter-prediction/.venv/lib/python3.10/site-packages/pandas/core/indexes/base.py:6133\u001B[0m, in \u001B[0;36mIndex._raise_if_missing\u001B[0;34m(self, key, indexer, axis_name)\u001B[0m\n\u001B[1;32m   6130\u001B[0m     \u001B[38;5;28;01mraise\u001B[39;00m \u001B[38;5;167;01mKeyError\u001B[39;00m(\u001B[38;5;124mf\u001B[39m\u001B[38;5;124m\"\u001B[39m\u001B[38;5;124mNone of [\u001B[39m\u001B[38;5;132;01m{\u001B[39;00mkey\u001B[38;5;132;01m}\u001B[39;00m\u001B[38;5;124m] are in the [\u001B[39m\u001B[38;5;132;01m{\u001B[39;00maxis_name\u001B[38;5;132;01m}\u001B[39;00m\u001B[38;5;124m]\u001B[39m\u001B[38;5;124m\"\u001B[39m)\n\u001B[1;32m   6132\u001B[0m not_found \u001B[38;5;241m=\u001B[39m \u001B[38;5;28mlist\u001B[39m(ensure_index(key)[missing_mask\u001B[38;5;241m.\u001B[39mnonzero()[\u001B[38;5;241m0\u001B[39m]]\u001B[38;5;241m.\u001B[39munique())\n\u001B[0;32m-> 6133\u001B[0m \u001B[38;5;28;01mraise\u001B[39;00m \u001B[38;5;167;01mKeyError\u001B[39;00m(\u001B[38;5;124mf\u001B[39m\u001B[38;5;124m\"\u001B[39m\u001B[38;5;132;01m{\u001B[39;00mnot_found\u001B[38;5;132;01m}\u001B[39;00m\u001B[38;5;124m not in index\u001B[39m\u001B[38;5;124m\"\u001B[39m)\n",
      "\u001B[0;31mKeyError\u001B[0m: '[1, 2, 3, 4, 5, 7, 9, 10, 12, 14, 15, 16, 17, 18, 20, 21, 22, 23, 24, 27] not in index'"
     ]
    }
   ],
   "source": [
    "%%time\n",
    "all_uniq_df = df[all_uniq+['encoded_customerID']]"
   ],
   "metadata": {
    "collapsed": false,
    "ExecuteTime": {
     "end_time": "2023-05-18T19:04:38.835724383Z",
     "start_time": "2023-05-18T19:04:38.015930321Z"
    }
   }
  },
  {
   "cell_type": "code",
   "execution_count": 19,
   "outputs": [
    {
     "ename": "NameError",
     "evalue": "name 'all_uniq_df' is not defined",
     "output_type": "error",
     "traceback": [
      "\u001B[0;31m---------------------------------------------------------------------------\u001B[0m",
      "\u001B[0;31mNameError\u001B[0m                                 Traceback (most recent call last)",
      "File \u001B[0;32m<timed eval>:1\u001B[0m\n",
      "\u001B[0;31mNameError\u001B[0m: name 'all_uniq_df' is not defined"
     ]
    }
   ],
   "source": [
    "%%time\n",
    "all_uniq_df.head()"
   ],
   "metadata": {
    "collapsed": false,
    "ExecuteTime": {
     "end_time": "2023-05-18T19:04:38.891980871Z",
     "start_time": "2023-05-18T19:04:38.851727397Z"
    }
   }
  },
  {
   "cell_type": "code",
   "execution_count": 20,
   "outputs": [
    {
     "name": "stdout",
     "output_type": "stream",
     "text": [
      "CPU times: user 9.8 s, sys: 0 ns, total: 9.8 s\n",
      "Wall time: 9.79 s\n"
     ]
    }
   ],
   "source": [
    "%%time\n",
    "res_df['target'] = res_df['target'].astype('category')\n",
    "lss = []\n",
    "for item in res_df:\n",
    "    if item in ['target', 'encoded_customerID']:\n",
    "        continue\n",
    "    else:\n",
    "        lss.append(pps.score(res_df, item, 'target'))"
   ],
   "metadata": {
    "collapsed": false,
    "ExecuteTime": {
     "end_time": "2023-05-18T19:04:48.660094564Z",
     "start_time": "2023-05-18T19:04:38.856647363Z"
    }
   }
  },
  {
   "cell_type": "code",
   "execution_count": 21,
   "outputs": [],
   "source": [
    "pps_score_result = pd.DataFrame(lss)"
   ],
   "metadata": {
    "collapsed": false,
    "ExecuteTime": {
     "end_time": "2023-05-18T19:04:48.666214547Z",
     "start_time": "2023-05-18T19:04:48.662324078Z"
    }
   }
  },
  {
   "cell_type": "code",
   "execution_count": 22,
   "outputs": [],
   "source": [
    "col_profile_df = pd.merge(col_profile_df, pps_score_result[['x', 'ppscore', 'baseline_score', 'model_score']], left_on='column_name', right_on='x',\n",
    "                          how='left')"
   ],
   "metadata": {
    "collapsed": false,
    "ExecuteTime": {
     "end_time": "2023-05-18T19:04:51.962341178Z",
     "start_time": "2023-05-18T19:04:51.956496754Z"
    }
   }
  },
  {
   "cell_type": "code",
   "execution_count": 23,
   "outputs": [],
   "source": [
    "col_profile_df['ppscore'] = np.round(col_profile_df['ppscore'], 2)"
   ],
   "metadata": {
    "collapsed": false,
    "ExecuteTime": {
     "end_time": "2023-05-18T19:04:59.654279007Z",
     "start_time": "2023-05-18T19:04:59.611550608Z"
    }
   }
  },
  {
   "cell_type": "code",
   "execution_count": 24,
   "outputs": [],
   "source": [
    "col_profile_df.to_csv(\"../data/metadata/column_profiling_risk.csv\", index=False)"
   ],
   "metadata": {
    "collapsed": false,
    "ExecuteTime": {
     "end_time": "2023-05-18T19:05:27.421051945Z",
     "start_time": "2023-05-18T19:05:27.385050210Z"
    }
   }
  },
  {
   "cell_type": "code",
   "execution_count": null,
   "outputs": [],
   "source": [],
   "metadata": {
    "collapsed": false
   }
  }
 ],
 "metadata": {
  "kernelspec": {
   "display_name": "Python 3",
   "language": "python",
   "name": "python3"
  },
  "language_info": {
   "codemirror_mode": {
    "name": "ipython",
    "version": 2
   },
   "file_extension": ".py",
   "mimetype": "text/x-python",
   "name": "python",
   "nbconvert_exporter": "python",
   "pygments_lexer": "ipython2",
   "version": "2.7.6"
  }
 },
 "nbformat": 4,
 "nbformat_minor": 0
}
